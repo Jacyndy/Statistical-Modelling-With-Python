{
 "cells": [
  {
   "cell_type": "markdown",
   "metadata": {},
   "source": [
    "Build a regression model."
   ]
  },
  {
   "cell_type": "code",
   "execution_count": 2,
   "metadata": {},
   "outputs": [],
   "source": [
    "# import numpy\n",
    "import numpy as np\n",
    "import pandas as pd\n",
    "\n",
    "# import linear_model from sklearn\n",
    "from sklearn import linear_model, datasets"
   ]
  },
  {
   "cell_type": "code",
   "execution_count": 3,
   "metadata": {},
   "outputs": [],
   "source": [
    "# read data to be used for modelling\n",
    "data = pd.read_csv('model_build.csv')"
   ]
  },
  {
   "cell_type": "code",
   "execution_count": 9,
   "metadata": {},
   "outputs": [],
   "source": [
    "X = data[['distance', 'latitude', 'longitude']]\n",
    "y = data['free_bikes']"
   ]
  },
  {
   "cell_type": "markdown",
   "metadata": {},
   "source": [
    "Provide model output and an interpretation of the results. "
   ]
  },
  {
   "cell_type": "code",
   "execution_count": 10,
   "metadata": {},
   "outputs": [
    {
     "name": "stdout",
     "output_type": "stream",
     "text": [
      "                            OLS Regression Results                            \n",
      "==============================================================================\n",
      "Dep. Variable:             free_bikes   R-squared:                       0.023\n",
      "Model:                            OLS   Adj. R-squared:                  0.012\n",
      "Method:                 Least Squares   F-statistic:                     2.023\n",
      "Date:                Mon, 10 Feb 2025   Prob (F-statistic):              0.111\n",
      "Time:                        16:42:31   Log-Likelihood:                -756.82\n",
      "No. Observations:                 258   AIC:                             1522.\n",
      "Df Residuals:                     254   BIC:                             1536.\n",
      "Df Model:                           3                                         \n",
      "Covariance Type:            nonrobust                                         \n",
      "==============================================================================\n",
      "                 coef    std err          t      P>|t|      [0.025      0.975]\n",
      "------------------------------------------------------------------------------\n",
      "const      -3736.4011   1558.226     -2.398      0.017   -6805.089    -667.713\n",
      "distance       0.0020      0.003      0.653      0.514      -0.004       0.008\n",
      "latitude      46.4002     24.681      1.880      0.061      -2.205      95.005\n",
      "longitude    -11.8400      7.287     -1.625      0.105     -26.190       2.510\n",
      "==============================================================================\n",
      "Omnibus:                        6.184   Durbin-Watson:                   1.976\n",
      "Prob(Omnibus):                  0.045   Jarque-Bera (JB):                6.279\n",
      "Skew:                           0.358   Prob(JB):                       0.0433\n",
      "Kurtosis:                       2.730   Cond. No.                     1.07e+06\n",
      "==============================================================================\n",
      "\n",
      "Notes:\n",
      "[1] Standard Errors assume that the covariance matrix of the errors is correctly specified.\n",
      "[2] The condition number is large, 1.07e+06. This might indicate that there are\n",
      "strong multicollinearity or other numerical problems.\n"
     ]
    }
   ],
   "source": [
    "import statsmodels.api as sm\n",
    "X = sm.add_constant(X) # adding a constant\n",
    "lin_reg = sm.OLS(y,X)\n",
    "model = lin_reg.fit()\n",
    "print_model = model.summary()\n",
    "print(print_model)\n"
   ]
  },
  {
   "cell_type": "markdown",
   "metadata": {},
   "source": [
    "From the above output, looking at the R-sqaured, we can see that the variables "
   ]
  },
  {
   "cell_type": "markdown",
   "metadata": {},
   "source": [
    "# Stretch"
   ]
  },
  {
   "cell_type": "markdown",
   "metadata": {},
   "source": [
    "How can you turn the regression model into a classification model?"
   ]
  },
  {
   "cell_type": "code",
   "execution_count": null,
   "metadata": {},
   "outputs": [],
   "source": []
  }
 ],
 "metadata": {
  "kernelspec": {
   "display_name": "base",
   "language": "python",
   "name": "python3"
  },
  "language_info": {
   "codemirror_mode": {
    "name": "ipython",
    "version": 3
   },
   "file_extension": ".py",
   "mimetype": "text/x-python",
   "name": "python",
   "nbconvert_exporter": "python",
   "pygments_lexer": "ipython3",
   "version": "3.12.7"
  }
 },
 "nbformat": 4,
 "nbformat_minor": 4
}
