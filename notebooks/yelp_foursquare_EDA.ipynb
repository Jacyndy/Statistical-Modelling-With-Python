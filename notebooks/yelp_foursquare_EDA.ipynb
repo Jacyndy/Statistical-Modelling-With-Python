{
 "cells": [
  {
   "cell_type": "code",
   "execution_count": 2,
   "metadata": {},
   "outputs": [],
   "source": [
    "# importing the necessary libraries\n",
    "import os\n",
    "import requests\n",
    "import pandas as pd\n",
    "import numpy as np\n",
    "import pickle\n",
    "import json"
   ]
  },
  {
   "cell_type": "code",
   "execution_count": 4,
   "metadata": {},
   "outputs": [],
   "source": [
    "# read the city bikes csv file\n",
    "df_city_bikes = pd.read_csv('df_city_bikes.csv')"
   ]
  },
  {
   "cell_type": "code",
   "execution_count": 5,
   "metadata": {},
   "outputs": [
    {
     "data": {
      "text/html": [
       "<div>\n",
       "<style scoped>\n",
       "    .dataframe tbody tr th:only-of-type {\n",
       "        vertical-align: middle;\n",
       "    }\n",
       "\n",
       "    .dataframe tbody tr th {\n",
       "        vertical-align: top;\n",
       "    }\n",
       "\n",
       "    .dataframe thead th {\n",
       "        text-align: right;\n",
       "    }\n",
       "</style>\n",
       "<table border=\"1\" class=\"dataframe\">\n",
       "  <thead>\n",
       "    <tr style=\"text-align: right;\">\n",
       "      <th></th>\n",
       "      <th>Unnamed: 0</th>\n",
       "      <th>Station Name</th>\n",
       "      <th>Latitude</th>\n",
       "      <th>Longitude</th>\n",
       "      <th>Available Bikes</th>\n",
       "    </tr>\n",
       "  </thead>\n",
       "  <tbody>\n",
       "    <tr>\n",
       "      <th>0</th>\n",
       "      <td>0</td>\n",
       "      <td>Chilco &amp; Barclay</td>\n",
       "      <td>49.291909</td>\n",
       "      <td>-123.140713</td>\n",
       "      <td>12</td>\n",
       "    </tr>\n",
       "    <tr>\n",
       "      <th>1</th>\n",
       "      <td>1</td>\n",
       "      <td>St George &amp; Broadway</td>\n",
       "      <td>49.262321</td>\n",
       "      <td>-123.093060</td>\n",
       "      <td>2</td>\n",
       "    </tr>\n",
       "    <tr>\n",
       "      <th>2</th>\n",
       "      <td>2</td>\n",
       "      <td>Britannia Parking Lot</td>\n",
       "      <td>49.275882</td>\n",
       "      <td>-123.071865</td>\n",
       "      <td>2</td>\n",
       "    </tr>\n",
       "    <tr>\n",
       "      <th>3</th>\n",
       "      <td>3</td>\n",
       "      <td>Morton &amp; Denman</td>\n",
       "      <td>49.288030</td>\n",
       "      <td>-123.142135</td>\n",
       "      <td>9</td>\n",
       "    </tr>\n",
       "    <tr>\n",
       "      <th>4</th>\n",
       "      <td>4</td>\n",
       "      <td>Thornton &amp; National</td>\n",
       "      <td>49.273777</td>\n",
       "      <td>-123.092723</td>\n",
       "      <td>2</td>\n",
       "    </tr>\n",
       "  </tbody>\n",
       "</table>\n",
       "</div>"
      ],
      "text/plain": [
       "   Unnamed: 0           Station Name   Latitude   Longitude  Available Bikes\n",
       "0           0       Chilco & Barclay  49.291909 -123.140713               12\n",
       "1           1   St George & Broadway  49.262321 -123.093060                2\n",
       "2           2  Britannia Parking Lot  49.275882 -123.071865                2\n",
       "3           3        Morton & Denman  49.288030 -123.142135                9\n",
       "4           4    Thornton & National  49.273777 -123.092723                2"
      ]
     },
     "execution_count": 5,
     "metadata": {},
     "output_type": "execute_result"
    }
   ],
   "source": [
    "df_city_bikes.head()"
   ]
  },
  {
   "cell_type": "code",
   "execution_count": 6,
   "metadata": {},
   "outputs": [],
   "source": [
    "# get the api keys as environmenet variables\n",
    "\n",
    "fsq_api_key = os.environ['FOURSQUARE_API_KEY']\n",
    "yelp_api_key = os.environ['YELP_API_KEY']\n"
   ]
  },
  {
   "cell_type": "markdown",
   "metadata": {},
   "source": [
    "# Foursquare"
   ]
  },
  {
   "cell_type": "markdown",
   "metadata": {},
   "source": [
    "Send a request to Foursquare with a small radius (1000m) for all the bike stations in your city of choice. "
   ]
  },
  {
   "cell_type": "code",
   "execution_count": 7,
   "metadata": {},
   "outputs": [],
   "source": [
    "# check teh length of stations\n",
    "N_stations = len(df_city_bikes)"
   ]
  },
  {
   "cell_type": "code",
   "execution_count": 8,
   "metadata": {},
   "outputs": [
    {
     "data": {
      "text/plain": [
       "258"
      ]
     },
     "execution_count": 8,
     "metadata": {},
     "output_type": "execute_result"
    }
   ],
   "source": [
    "N_stations"
   ]
  },
  {
   "cell_type": "code",
   "execution_count": 49,
   "metadata": {},
   "outputs": [],
   "source": [
    "# define the parameters and url to send request\n",
    "radius = 500 # 300m radius is selected due to how the odel will be defined as we will be looking at the number of pois in an area\n",
    "limit = 50\n",
    "categories = '13065,16032'\n",
    "\n",
    "url_foursquare = \"https://api.foursquare.com/v3/places/search\"\n",
    "\n",
    "headers = {\n",
    "    \"accept\": \"application/json\",\n",
    "    \"Authorization\": fsq_api_key\n",
    "}"
   ]
  },
  {
   "cell_type": "code",
   "execution_count": 82,
   "metadata": {},
   "outputs": [
    {
     "name": "stdout",
     "output_type": "stream",
     "text": [
      "200\n"
     ]
    }
   ],
   "source": [
    "# loop through each row\n",
    "df_results_all = []\n",
    "\n",
    "for idx in range(N_stations):\n",
    "\n",
    "    lat = df_city_bikes['Latitude'].iloc[idx]\n",
    "    lng = df_city_bikes['Longitude'].iloc[idx]\n",
    "    ll = f\"{lat},{lng}\"\n",
    "\n",
    "    params = {\n",
    "        'radius': radius,\n",
    "        'categories': categories,\n",
    "        'll': ll,\n",
    "        'limit': limit\n",
    "    }\n",
    "\n",
    "\n",
    "    response_fsq = requests.get(url_foursquare, headers=headers, params=params)\n",
    "\n",
    "    results_fsq = response_fsq.json()\n",
    "    \n",
    "    #parse the json file and convert to a dataframe\n",
    "    df_results = pd.json_normalize(results_fsq['results'])\n",
    "    # create a new column to show the bike station index\n",
    "    df_results['bike_station_index'] = idx\n",
    "    # append dataframe results to empty list\n",
    "    df_results_all.append(df_results)\n",
    "\n",
    "\n",
    "print(response_fsq.status_code)\n",
    "    "
   ]
  },
  {
   "cell_type": "code",
   "execution_count": 83,
   "metadata": {},
   "outputs": [],
   "source": [
    "# create union using concat to get for all stations\n",
    "df_results_all = pd.concat(df_results_all)"
   ]
  },
  {
   "cell_type": "code",
   "execution_count": 84,
   "metadata": {},
   "outputs": [
    {
     "data": {
      "text/html": [
       "<div>\n",
       "<style scoped>\n",
       "    .dataframe tbody tr th:only-of-type {\n",
       "        vertical-align: middle;\n",
       "    }\n",
       "\n",
       "    .dataframe tbody tr th {\n",
       "        vertical-align: top;\n",
       "    }\n",
       "\n",
       "    .dataframe thead th {\n",
       "        text-align: right;\n",
       "    }\n",
       "</style>\n",
       "<table border=\"1\" class=\"dataframe\">\n",
       "  <thead>\n",
       "    <tr style=\"text-align: right;\">\n",
       "      <th></th>\n",
       "      <th>fsq_id</th>\n",
       "      <th>categories</th>\n",
       "      <th>chains</th>\n",
       "      <th>closed_bucket</th>\n",
       "      <th>distance</th>\n",
       "      <th>link</th>\n",
       "      <th>name</th>\n",
       "      <th>timezone</th>\n",
       "      <th>geocodes.drop_off.latitude</th>\n",
       "      <th>geocodes.drop_off.longitude</th>\n",
       "      <th>...</th>\n",
       "      <th>location.region</th>\n",
       "      <th>related_places.parent.fsq_id</th>\n",
       "      <th>related_places.parent.categories</th>\n",
       "      <th>related_places.parent.name</th>\n",
       "      <th>location.address_extended</th>\n",
       "      <th>bike_station_index</th>\n",
       "      <th>related_places.children</th>\n",
       "      <th>geocodes.front_door.latitude</th>\n",
       "      <th>geocodes.front_door.longitude</th>\n",
       "      <th>location.po_box</th>\n",
       "    </tr>\n",
       "  </thead>\n",
       "  <tbody>\n",
       "    <tr>\n",
       "      <th>0</th>\n",
       "      <td>4aa7455df964a5208e4c20e3</td>\n",
       "      <td>[{'id': 13276, 'name': 'Sushi Restaurant', 'sh...</td>\n",
       "      <td>[]</td>\n",
       "      <td>VeryLikelyOpen</td>\n",
       "      <td>308</td>\n",
       "      <td>/v3/places/4aa7455df964a5208e4c20e3</td>\n",
       "      <td>Kingyo Izakaya 金魚居酒屋</td>\n",
       "      <td>America/Vancouver</td>\n",
       "      <td>49.290524</td>\n",
       "      <td>-123.136877</td>\n",
       "      <td>...</td>\n",
       "      <td>BC</td>\n",
       "      <td>NaN</td>\n",
       "      <td>NaN</td>\n",
       "      <td>NaN</td>\n",
       "      <td>NaN</td>\n",
       "      <td>0</td>\n",
       "      <td>NaN</td>\n",
       "      <td>NaN</td>\n",
       "      <td>NaN</td>\n",
       "      <td>NaN</td>\n",
       "    </tr>\n",
       "    <tr>\n",
       "      <th>1</th>\n",
       "      <td>4cd8423915d8b60c611f650e</td>\n",
       "      <td>[{'id': 13236, 'name': 'Italian Restaurant', '...</td>\n",
       "      <td>[]</td>\n",
       "      <td>LikelyOpen</td>\n",
       "      <td>354</td>\n",
       "      <td>/v3/places/4cd8423915d8b60c611f650e</td>\n",
       "      <td>Tavola</td>\n",
       "      <td>America/Vancouver</td>\n",
       "      <td>49.291726</td>\n",
       "      <td>-123.135836</td>\n",
       "      <td>...</td>\n",
       "      <td>BC</td>\n",
       "      <td>NaN</td>\n",
       "      <td>NaN</td>\n",
       "      <td>NaN</td>\n",
       "      <td>NaN</td>\n",
       "      <td>0</td>\n",
       "      <td>NaN</td>\n",
       "      <td>NaN</td>\n",
       "      <td>NaN</td>\n",
       "      <td>NaN</td>\n",
       "    </tr>\n",
       "    <tr>\n",
       "      <th>2</th>\n",
       "      <td>5851f5b5297c16529dd5cf93</td>\n",
       "      <td>[{'id': 13073, 'name': 'Australian Restaurant'...</td>\n",
       "      <td>[]</td>\n",
       "      <td>VeryLikelyOpen</td>\n",
       "      <td>299</td>\n",
       "      <td>/v3/places/5851f5b5297c16529dd5cf93</td>\n",
       "      <td>Peaked Pies</td>\n",
       "      <td>America/Vancouver</td>\n",
       "      <td>49.289508</td>\n",
       "      <td>-123.138405</td>\n",
       "      <td>...</td>\n",
       "      <td>BC</td>\n",
       "      <td>NaN</td>\n",
       "      <td>NaN</td>\n",
       "      <td>NaN</td>\n",
       "      <td>NaN</td>\n",
       "      <td>0</td>\n",
       "      <td>NaN</td>\n",
       "      <td>NaN</td>\n",
       "      <td>NaN</td>\n",
       "      <td>NaN</td>\n",
       "    </tr>\n",
       "    <tr>\n",
       "      <th>3</th>\n",
       "      <td>4aa75933f964a520bf4c20e3</td>\n",
       "      <td>[{'id': 13299, 'name': 'Malay Restaurant', 'sh...</td>\n",
       "      <td>[]</td>\n",
       "      <td>LikelyOpen</td>\n",
       "      <td>400</td>\n",
       "      <td>/v3/places/4aa75933f964a520bf4c20e3</td>\n",
       "      <td>Banana Leaf</td>\n",
       "      <td>America/Vancouver</td>\n",
       "      <td>NaN</td>\n",
       "      <td>NaN</td>\n",
       "      <td>...</td>\n",
       "      <td>BC</td>\n",
       "      <td>NaN</td>\n",
       "      <td>NaN</td>\n",
       "      <td>NaN</td>\n",
       "      <td>NaN</td>\n",
       "      <td>0</td>\n",
       "      <td>NaN</td>\n",
       "      <td>NaN</td>\n",
       "      <td>NaN</td>\n",
       "      <td>NaN</td>\n",
       "    </tr>\n",
       "    <tr>\n",
       "      <th>4</th>\n",
       "      <td>4abfcaf5f964a5203c9220e3</td>\n",
       "      <td>[{'id': 13099, 'name': 'Chinese Restaurant', '...</td>\n",
       "      <td>[]</td>\n",
       "      <td>LikelyOpen</td>\n",
       "      <td>385</td>\n",
       "      <td>/v3/places/4abfcaf5f964a5203c9220e3</td>\n",
       "      <td>Legendary Noodle House</td>\n",
       "      <td>America/Vancouver</td>\n",
       "      <td>NaN</td>\n",
       "      <td>NaN</td>\n",
       "      <td>...</td>\n",
       "      <td>BC</td>\n",
       "      <td>NaN</td>\n",
       "      <td>NaN</td>\n",
       "      <td>NaN</td>\n",
       "      <td>NaN</td>\n",
       "      <td>0</td>\n",
       "      <td>NaN</td>\n",
       "      <td>NaN</td>\n",
       "      <td>NaN</td>\n",
       "      <td>NaN</td>\n",
       "    </tr>\n",
       "  </tbody>\n",
       "</table>\n",
       "<p>5 rows × 30 columns</p>\n",
       "</div>"
      ],
      "text/plain": [
       "                     fsq_id  \\\n",
       "0  4aa7455df964a5208e4c20e3   \n",
       "1  4cd8423915d8b60c611f650e   \n",
       "2  5851f5b5297c16529dd5cf93   \n",
       "3  4aa75933f964a520bf4c20e3   \n",
       "4  4abfcaf5f964a5203c9220e3   \n",
       "\n",
       "                                          categories chains   closed_bucket  \\\n",
       "0  [{'id': 13276, 'name': 'Sushi Restaurant', 'sh...     []  VeryLikelyOpen   \n",
       "1  [{'id': 13236, 'name': 'Italian Restaurant', '...     []      LikelyOpen   \n",
       "2  [{'id': 13073, 'name': 'Australian Restaurant'...     []  VeryLikelyOpen   \n",
       "3  [{'id': 13299, 'name': 'Malay Restaurant', 'sh...     []      LikelyOpen   \n",
       "4  [{'id': 13099, 'name': 'Chinese Restaurant', '...     []      LikelyOpen   \n",
       "\n",
       "   distance                                 link                    name  \\\n",
       "0       308  /v3/places/4aa7455df964a5208e4c20e3    Kingyo Izakaya 金魚居酒屋   \n",
       "1       354  /v3/places/4cd8423915d8b60c611f650e                  Tavola   \n",
       "2       299  /v3/places/5851f5b5297c16529dd5cf93             Peaked Pies   \n",
       "3       400  /v3/places/4aa75933f964a520bf4c20e3             Banana Leaf   \n",
       "4       385  /v3/places/4abfcaf5f964a5203c9220e3  Legendary Noodle House   \n",
       "\n",
       "            timezone  geocodes.drop_off.latitude  geocodes.drop_off.longitude  \\\n",
       "0  America/Vancouver                   49.290524                  -123.136877   \n",
       "1  America/Vancouver                   49.291726                  -123.135836   \n",
       "2  America/Vancouver                   49.289508                  -123.138405   \n",
       "3  America/Vancouver                         NaN                          NaN   \n",
       "4  America/Vancouver                         NaN                          NaN   \n",
       "\n",
       "   ...  location.region  related_places.parent.fsq_id  \\\n",
       "0  ...               BC                           NaN   \n",
       "1  ...               BC                           NaN   \n",
       "2  ...               BC                           NaN   \n",
       "3  ...               BC                           NaN   \n",
       "4  ...               BC                           NaN   \n",
       "\n",
       "   related_places.parent.categories  related_places.parent.name  \\\n",
       "0                               NaN                         NaN   \n",
       "1                               NaN                         NaN   \n",
       "2                               NaN                         NaN   \n",
       "3                               NaN                         NaN   \n",
       "4                               NaN                         NaN   \n",
       "\n",
       "  location.address_extended bike_station_index related_places.children  \\\n",
       "0                       NaN                  0                     NaN   \n",
       "1                       NaN                  0                     NaN   \n",
       "2                       NaN                  0                     NaN   \n",
       "3                       NaN                  0                     NaN   \n",
       "4                       NaN                  0                     NaN   \n",
       "\n",
       "  geocodes.front_door.latitude geocodes.front_door.longitude location.po_box  \n",
       "0                          NaN                           NaN             NaN  \n",
       "1                          NaN                           NaN             NaN  \n",
       "2                          NaN                           NaN             NaN  \n",
       "3                          NaN                           NaN             NaN  \n",
       "4                          NaN                           NaN             NaN  \n",
       "\n",
       "[5 rows x 30 columns]"
      ]
     },
     "execution_count": 84,
     "metadata": {},
     "output_type": "execute_result"
    }
   ],
   "source": [
    "df_results_all.head()"
   ]
  },
  {
   "cell_type": "code",
   "execution_count": 85,
   "metadata": {},
   "outputs": [],
   "source": [
    "# define a for loop to extract category from categories table\n",
    "restaurants = []\n",
    "parks = []\n",
    "\n",
    "for cat in df_results_all['categories']:\n",
    "    if cat[0]['id'] == 16032:\n",
    "        parks.append(1)\n",
    "        restaurants.append(0)\n",
    "    else:\n",
    "        parks.append(0)\n",
    "        restaurants.append(1)\n",
    "df_results_all.loc[:,'restaurants'] = restaurants\n",
    "df_results_all.loc[:, 'parks'] = parks\n",
    "    \n",
    "    "
   ]
  },
  {
   "cell_type": "code",
   "execution_count": 86,
   "metadata": {},
   "outputs": [
    {
     "data": {
      "text/html": [
       "<div>\n",
       "<style scoped>\n",
       "    .dataframe tbody tr th:only-of-type {\n",
       "        vertical-align: middle;\n",
       "    }\n",
       "\n",
       "    .dataframe tbody tr th {\n",
       "        vertical-align: top;\n",
       "    }\n",
       "\n",
       "    .dataframe thead th {\n",
       "        text-align: right;\n",
       "    }\n",
       "</style>\n",
       "<table border=\"1\" class=\"dataframe\">\n",
       "  <thead>\n",
       "    <tr style=\"text-align: right;\">\n",
       "      <th></th>\n",
       "      <th>fsq_id</th>\n",
       "      <th>categories</th>\n",
       "      <th>chains</th>\n",
       "      <th>closed_bucket</th>\n",
       "      <th>distance</th>\n",
       "      <th>link</th>\n",
       "      <th>name</th>\n",
       "      <th>timezone</th>\n",
       "      <th>geocodes.drop_off.latitude</th>\n",
       "      <th>geocodes.drop_off.longitude</th>\n",
       "      <th>...</th>\n",
       "      <th>related_places.parent.categories</th>\n",
       "      <th>related_places.parent.name</th>\n",
       "      <th>location.address_extended</th>\n",
       "      <th>bike_station_index</th>\n",
       "      <th>related_places.children</th>\n",
       "      <th>geocodes.front_door.latitude</th>\n",
       "      <th>geocodes.front_door.longitude</th>\n",
       "      <th>location.po_box</th>\n",
       "      <th>restaurants</th>\n",
       "      <th>parks</th>\n",
       "    </tr>\n",
       "  </thead>\n",
       "  <tbody>\n",
       "    <tr>\n",
       "      <th>0</th>\n",
       "      <td>4aa7455df964a5208e4c20e3</td>\n",
       "      <td>[{'id': 13276, 'name': 'Sushi Restaurant', 'sh...</td>\n",
       "      <td>[]</td>\n",
       "      <td>VeryLikelyOpen</td>\n",
       "      <td>308</td>\n",
       "      <td>/v3/places/4aa7455df964a5208e4c20e3</td>\n",
       "      <td>Kingyo Izakaya 金魚居酒屋</td>\n",
       "      <td>America/Vancouver</td>\n",
       "      <td>49.290524</td>\n",
       "      <td>-123.136877</td>\n",
       "      <td>...</td>\n",
       "      <td>NaN</td>\n",
       "      <td>NaN</td>\n",
       "      <td>NaN</td>\n",
       "      <td>0</td>\n",
       "      <td>NaN</td>\n",
       "      <td>NaN</td>\n",
       "      <td>NaN</td>\n",
       "      <td>NaN</td>\n",
       "      <td>1</td>\n",
       "      <td>0</td>\n",
       "    </tr>\n",
       "    <tr>\n",
       "      <th>1</th>\n",
       "      <td>4cd8423915d8b60c611f650e</td>\n",
       "      <td>[{'id': 13236, 'name': 'Italian Restaurant', '...</td>\n",
       "      <td>[]</td>\n",
       "      <td>LikelyOpen</td>\n",
       "      <td>354</td>\n",
       "      <td>/v3/places/4cd8423915d8b60c611f650e</td>\n",
       "      <td>Tavola</td>\n",
       "      <td>America/Vancouver</td>\n",
       "      <td>49.291726</td>\n",
       "      <td>-123.135836</td>\n",
       "      <td>...</td>\n",
       "      <td>NaN</td>\n",
       "      <td>NaN</td>\n",
       "      <td>NaN</td>\n",
       "      <td>0</td>\n",
       "      <td>NaN</td>\n",
       "      <td>NaN</td>\n",
       "      <td>NaN</td>\n",
       "      <td>NaN</td>\n",
       "      <td>1</td>\n",
       "      <td>0</td>\n",
       "    </tr>\n",
       "    <tr>\n",
       "      <th>2</th>\n",
       "      <td>5851f5b5297c16529dd5cf93</td>\n",
       "      <td>[{'id': 13073, 'name': 'Australian Restaurant'...</td>\n",
       "      <td>[]</td>\n",
       "      <td>VeryLikelyOpen</td>\n",
       "      <td>299</td>\n",
       "      <td>/v3/places/5851f5b5297c16529dd5cf93</td>\n",
       "      <td>Peaked Pies</td>\n",
       "      <td>America/Vancouver</td>\n",
       "      <td>49.289508</td>\n",
       "      <td>-123.138405</td>\n",
       "      <td>...</td>\n",
       "      <td>NaN</td>\n",
       "      <td>NaN</td>\n",
       "      <td>NaN</td>\n",
       "      <td>0</td>\n",
       "      <td>NaN</td>\n",
       "      <td>NaN</td>\n",
       "      <td>NaN</td>\n",
       "      <td>NaN</td>\n",
       "      <td>1</td>\n",
       "      <td>0</td>\n",
       "    </tr>\n",
       "    <tr>\n",
       "      <th>3</th>\n",
       "      <td>4aa75933f964a520bf4c20e3</td>\n",
       "      <td>[{'id': 13299, 'name': 'Malay Restaurant', 'sh...</td>\n",
       "      <td>[]</td>\n",
       "      <td>LikelyOpen</td>\n",
       "      <td>400</td>\n",
       "      <td>/v3/places/4aa75933f964a520bf4c20e3</td>\n",
       "      <td>Banana Leaf</td>\n",
       "      <td>America/Vancouver</td>\n",
       "      <td>NaN</td>\n",
       "      <td>NaN</td>\n",
       "      <td>...</td>\n",
       "      <td>NaN</td>\n",
       "      <td>NaN</td>\n",
       "      <td>NaN</td>\n",
       "      <td>0</td>\n",
       "      <td>NaN</td>\n",
       "      <td>NaN</td>\n",
       "      <td>NaN</td>\n",
       "      <td>NaN</td>\n",
       "      <td>1</td>\n",
       "      <td>0</td>\n",
       "    </tr>\n",
       "    <tr>\n",
       "      <th>4</th>\n",
       "      <td>4abfcaf5f964a5203c9220e3</td>\n",
       "      <td>[{'id': 13099, 'name': 'Chinese Restaurant', '...</td>\n",
       "      <td>[]</td>\n",
       "      <td>LikelyOpen</td>\n",
       "      <td>385</td>\n",
       "      <td>/v3/places/4abfcaf5f964a5203c9220e3</td>\n",
       "      <td>Legendary Noodle House</td>\n",
       "      <td>America/Vancouver</td>\n",
       "      <td>NaN</td>\n",
       "      <td>NaN</td>\n",
       "      <td>...</td>\n",
       "      <td>NaN</td>\n",
       "      <td>NaN</td>\n",
       "      <td>NaN</td>\n",
       "      <td>0</td>\n",
       "      <td>NaN</td>\n",
       "      <td>NaN</td>\n",
       "      <td>NaN</td>\n",
       "      <td>NaN</td>\n",
       "      <td>1</td>\n",
       "      <td>0</td>\n",
       "    </tr>\n",
       "    <tr>\n",
       "      <th>...</th>\n",
       "      <td>...</td>\n",
       "      <td>...</td>\n",
       "      <td>...</td>\n",
       "      <td>...</td>\n",
       "      <td>...</td>\n",
       "      <td>...</td>\n",
       "      <td>...</td>\n",
       "      <td>...</td>\n",
       "      <td>...</td>\n",
       "      <td>...</td>\n",
       "      <td>...</td>\n",
       "      <td>...</td>\n",
       "      <td>...</td>\n",
       "      <td>...</td>\n",
       "      <td>...</td>\n",
       "      <td>...</td>\n",
       "      <td>...</td>\n",
       "      <td>...</td>\n",
       "      <td>...</td>\n",
       "      <td>...</td>\n",
       "      <td>...</td>\n",
       "    </tr>\n",
       "    <tr>\n",
       "      <th>45</th>\n",
       "      <td>5f2d918d3731e5073cb1d691</td>\n",
       "      <td>[{'id': 13002, 'name': 'Bakery', 'short_name':...</td>\n",
       "      <td>[]</td>\n",
       "      <td>VeryLikelyOpen</td>\n",
       "      <td>425</td>\n",
       "      <td>/v3/places/5f2d918d3731e5073cb1d691</td>\n",
       "      <td>Melo Patisserie</td>\n",
       "      <td>America/Vancouver</td>\n",
       "      <td>49.263710</td>\n",
       "      <td>-123.101546</td>\n",
       "      <td>...</td>\n",
       "      <td>NaN</td>\n",
       "      <td>NaN</td>\n",
       "      <td>NaN</td>\n",
       "      <td>257</td>\n",
       "      <td>NaN</td>\n",
       "      <td>NaN</td>\n",
       "      <td>NaN</td>\n",
       "      <td>NaN</td>\n",
       "      <td>1</td>\n",
       "      <td>0</td>\n",
       "    </tr>\n",
       "    <tr>\n",
       "      <th>46</th>\n",
       "      <td>4c14598fa5eb76b03cb5c1b7</td>\n",
       "      <td>[{'id': 13027, 'name': 'Bistro', 'short_name':...</td>\n",
       "      <td>[]</td>\n",
       "      <td>LikelyOpen</td>\n",
       "      <td>428</td>\n",
       "      <td>/v3/places/4c14598fa5eb76b03cb5c1b7</td>\n",
       "      <td>Jamies Bistro Restaurant</td>\n",
       "      <td>America/Vancouver</td>\n",
       "      <td>NaN</td>\n",
       "      <td>NaN</td>\n",
       "      <td>...</td>\n",
       "      <td>NaN</td>\n",
       "      <td>NaN</td>\n",
       "      <td>NaN</td>\n",
       "      <td>257</td>\n",
       "      <td>NaN</td>\n",
       "      <td>NaN</td>\n",
       "      <td>NaN</td>\n",
       "      <td>NaN</td>\n",
       "      <td>1</td>\n",
       "      <td>0</td>\n",
       "    </tr>\n",
       "    <tr>\n",
       "      <th>47</th>\n",
       "      <td>5c6fc0c3446ea60037c21fd9</td>\n",
       "      <td>[{'id': 13040, 'name': 'Dessert Shop', 'short_...</td>\n",
       "      <td>[]</td>\n",
       "      <td>LikelyOpen</td>\n",
       "      <td>429</td>\n",
       "      <td>/v3/places/5c6fc0c3446ea60037c21fd9</td>\n",
       "      <td>Billy Button Dessert Bar</td>\n",
       "      <td>America/Vancouver</td>\n",
       "      <td>49.262922</td>\n",
       "      <td>-123.101476</td>\n",
       "      <td>...</td>\n",
       "      <td>NaN</td>\n",
       "      <td>NaN</td>\n",
       "      <td>NaN</td>\n",
       "      <td>257</td>\n",
       "      <td>NaN</td>\n",
       "      <td>NaN</td>\n",
       "      <td>NaN</td>\n",
       "      <td>NaN</td>\n",
       "      <td>1</td>\n",
       "      <td>0</td>\n",
       "    </tr>\n",
       "    <tr>\n",
       "      <th>48</th>\n",
       "      <td>4ace7f72f964a520e6d020e3</td>\n",
       "      <td>[{'id': 13049, 'name': 'Diner', 'short_name': ...</td>\n",
       "      <td>[]</td>\n",
       "      <td>LikelyOpen</td>\n",
       "      <td>440</td>\n",
       "      <td>/v3/places/4ace7f72f964a520e6d020e3</td>\n",
       "      <td>Josephine's Restaurant Inc</td>\n",
       "      <td>America/Vancouver</td>\n",
       "      <td>NaN</td>\n",
       "      <td>NaN</td>\n",
       "      <td>...</td>\n",
       "      <td>NaN</td>\n",
       "      <td>NaN</td>\n",
       "      <td>NaN</td>\n",
       "      <td>257</td>\n",
       "      <td>NaN</td>\n",
       "      <td>NaN</td>\n",
       "      <td>NaN</td>\n",
       "      <td>NaN</td>\n",
       "      <td>1</td>\n",
       "      <td>0</td>\n",
       "    </tr>\n",
       "    <tr>\n",
       "      <th>49</th>\n",
       "      <td>55ff3061498e521acf37b77f</td>\n",
       "      <td>[{'id': 13146, 'name': 'Filipino Restaurant', ...</td>\n",
       "      <td>[]</td>\n",
       "      <td>LikelyOpen</td>\n",
       "      <td>444</td>\n",
       "      <td>/v3/places/55ff3061498e521acf37b77f</td>\n",
       "      <td>Klasik Inasal &amp; Noodle Express</td>\n",
       "      <td>America/Vancouver</td>\n",
       "      <td>NaN</td>\n",
       "      <td>NaN</td>\n",
       "      <td>...</td>\n",
       "      <td>NaN</td>\n",
       "      <td>NaN</td>\n",
       "      <td># 2</td>\n",
       "      <td>257</td>\n",
       "      <td>NaN</td>\n",
       "      <td>NaN</td>\n",
       "      <td>NaN</td>\n",
       "      <td>NaN</td>\n",
       "      <td>1</td>\n",
       "      <td>0</td>\n",
       "    </tr>\n",
       "  </tbody>\n",
       "</table>\n",
       "<p>10452 rows × 32 columns</p>\n",
       "</div>"
      ],
      "text/plain": [
       "                      fsq_id  \\\n",
       "0   4aa7455df964a5208e4c20e3   \n",
       "1   4cd8423915d8b60c611f650e   \n",
       "2   5851f5b5297c16529dd5cf93   \n",
       "3   4aa75933f964a520bf4c20e3   \n",
       "4   4abfcaf5f964a5203c9220e3   \n",
       "..                       ...   \n",
       "45  5f2d918d3731e5073cb1d691   \n",
       "46  4c14598fa5eb76b03cb5c1b7   \n",
       "47  5c6fc0c3446ea60037c21fd9   \n",
       "48  4ace7f72f964a520e6d020e3   \n",
       "49  55ff3061498e521acf37b77f   \n",
       "\n",
       "                                           categories chains   closed_bucket  \\\n",
       "0   [{'id': 13276, 'name': 'Sushi Restaurant', 'sh...     []  VeryLikelyOpen   \n",
       "1   [{'id': 13236, 'name': 'Italian Restaurant', '...     []      LikelyOpen   \n",
       "2   [{'id': 13073, 'name': 'Australian Restaurant'...     []  VeryLikelyOpen   \n",
       "3   [{'id': 13299, 'name': 'Malay Restaurant', 'sh...     []      LikelyOpen   \n",
       "4   [{'id': 13099, 'name': 'Chinese Restaurant', '...     []      LikelyOpen   \n",
       "..                                                ...    ...             ...   \n",
       "45  [{'id': 13002, 'name': 'Bakery', 'short_name':...     []  VeryLikelyOpen   \n",
       "46  [{'id': 13027, 'name': 'Bistro', 'short_name':...     []      LikelyOpen   \n",
       "47  [{'id': 13040, 'name': 'Dessert Shop', 'short_...     []      LikelyOpen   \n",
       "48  [{'id': 13049, 'name': 'Diner', 'short_name': ...     []      LikelyOpen   \n",
       "49  [{'id': 13146, 'name': 'Filipino Restaurant', ...     []      LikelyOpen   \n",
       "\n",
       "    distance                                 link  \\\n",
       "0        308  /v3/places/4aa7455df964a5208e4c20e3   \n",
       "1        354  /v3/places/4cd8423915d8b60c611f650e   \n",
       "2        299  /v3/places/5851f5b5297c16529dd5cf93   \n",
       "3        400  /v3/places/4aa75933f964a520bf4c20e3   \n",
       "4        385  /v3/places/4abfcaf5f964a5203c9220e3   \n",
       "..       ...                                  ...   \n",
       "45       425  /v3/places/5f2d918d3731e5073cb1d691   \n",
       "46       428  /v3/places/4c14598fa5eb76b03cb5c1b7   \n",
       "47       429  /v3/places/5c6fc0c3446ea60037c21fd9   \n",
       "48       440  /v3/places/4ace7f72f964a520e6d020e3   \n",
       "49       444  /v3/places/55ff3061498e521acf37b77f   \n",
       "\n",
       "                              name           timezone  \\\n",
       "0             Kingyo Izakaya 金魚居酒屋  America/Vancouver   \n",
       "1                           Tavola  America/Vancouver   \n",
       "2                      Peaked Pies  America/Vancouver   \n",
       "3                      Banana Leaf  America/Vancouver   \n",
       "4           Legendary Noodle House  America/Vancouver   \n",
       "..                             ...                ...   \n",
       "45                 Melo Patisserie  America/Vancouver   \n",
       "46        Jamies Bistro Restaurant  America/Vancouver   \n",
       "47        Billy Button Dessert Bar  America/Vancouver   \n",
       "48      Josephine's Restaurant Inc  America/Vancouver   \n",
       "49  Klasik Inasal & Noodle Express  America/Vancouver   \n",
       "\n",
       "    geocodes.drop_off.latitude  geocodes.drop_off.longitude  ...  \\\n",
       "0                    49.290524                  -123.136877  ...   \n",
       "1                    49.291726                  -123.135836  ...   \n",
       "2                    49.289508                  -123.138405  ...   \n",
       "3                          NaN                          NaN  ...   \n",
       "4                          NaN                          NaN  ...   \n",
       "..                         ...                          ...  ...   \n",
       "45                   49.263710                  -123.101546  ...   \n",
       "46                         NaN                          NaN  ...   \n",
       "47                   49.262922                  -123.101476  ...   \n",
       "48                         NaN                          NaN  ...   \n",
       "49                         NaN                          NaN  ...   \n",
       "\n",
       "    related_places.parent.categories  related_places.parent.name  \\\n",
       "0                                NaN                         NaN   \n",
       "1                                NaN                         NaN   \n",
       "2                                NaN                         NaN   \n",
       "3                                NaN                         NaN   \n",
       "4                                NaN                         NaN   \n",
       "..                               ...                         ...   \n",
       "45                               NaN                         NaN   \n",
       "46                               NaN                         NaN   \n",
       "47                               NaN                         NaN   \n",
       "48                               NaN                         NaN   \n",
       "49                               NaN                         NaN   \n",
       "\n",
       "    location.address_extended  bike_station_index related_places.children  \\\n",
       "0                         NaN                   0                     NaN   \n",
       "1                         NaN                   0                     NaN   \n",
       "2                         NaN                   0                     NaN   \n",
       "3                         NaN                   0                     NaN   \n",
       "4                         NaN                   0                     NaN   \n",
       "..                        ...                 ...                     ...   \n",
       "45                        NaN                 257                     NaN   \n",
       "46                        NaN                 257                     NaN   \n",
       "47                        NaN                 257                     NaN   \n",
       "48                        NaN                 257                     NaN   \n",
       "49                        # 2                 257                     NaN   \n",
       "\n",
       "   geocodes.front_door.latitude geocodes.front_door.longitude location.po_box  \\\n",
       "0                           NaN                           NaN             NaN   \n",
       "1                           NaN                           NaN             NaN   \n",
       "2                           NaN                           NaN             NaN   \n",
       "3                           NaN                           NaN             NaN   \n",
       "4                           NaN                           NaN             NaN   \n",
       "..                          ...                           ...             ...   \n",
       "45                          NaN                           NaN             NaN   \n",
       "46                          NaN                           NaN             NaN   \n",
       "47                          NaN                           NaN             NaN   \n",
       "48                          NaN                           NaN             NaN   \n",
       "49                          NaN                           NaN             NaN   \n",
       "\n",
       "   restaurants parks  \n",
       "0            1     0  \n",
       "1            1     0  \n",
       "2            1     0  \n",
       "3            1     0  \n",
       "4            1     0  \n",
       "..         ...   ...  \n",
       "45           1     0  \n",
       "46           1     0  \n",
       "47           1     0  \n",
       "48           1     0  \n",
       "49           1     0  \n",
       "\n",
       "[10452 rows x 32 columns]"
      ]
     },
     "execution_count": 86,
     "metadata": {},
     "output_type": "execute_result"
    }
   ],
   "source": [
    "df_results_all"
   ]
  },
  {
   "cell_type": "code",
   "execution_count": 94,
   "metadata": {},
   "outputs": [
    {
     "data": {
      "text/plain": [
       "parks\n",
       "0    9928\n",
       "1     524\n",
       "Name: count, dtype: int64"
      ]
     },
     "execution_count": 94,
     "metadata": {},
     "output_type": "execute_result"
    }
   ],
   "source": [
    "# check unique values in parks and restaurants\n",
    "df_results_all['parks'].value_counts()\n"
   ]
  },
  {
   "cell_type": "code",
   "execution_count": 95,
   "metadata": {},
   "outputs": [
    {
     "data": {
      "text/plain": [
       "restaurants\n",
       "1    9928\n",
       "0     524\n",
       "Name: count, dtype: int64"
      ]
     },
     "execution_count": 95,
     "metadata": {},
     "output_type": "execute_result"
    }
   ],
   "source": [
    "df_results_all['restaurants'].value_counts()"
   ]
  },
  {
   "cell_type": "code",
   "execution_count": 65,
   "metadata": {},
   "outputs": [],
   "source": [
    "# select columns to be used for analysis\n",
    "df_results_all = df_results_all[['bike_station_index', 'distance', 'restaurants', 'parks']]"
   ]
  },
  {
   "cell_type": "code",
   "execution_count": 66,
   "metadata": {},
   "outputs": [
    {
     "data": {
      "text/html": [
       "<div>\n",
       "<style scoped>\n",
       "    .dataframe tbody tr th:only-of-type {\n",
       "        vertical-align: middle;\n",
       "    }\n",
       "\n",
       "    .dataframe tbody tr th {\n",
       "        vertical-align: top;\n",
       "    }\n",
       "\n",
       "    .dataframe thead th {\n",
       "        text-align: right;\n",
       "    }\n",
       "</style>\n",
       "<table border=\"1\" class=\"dataframe\">\n",
       "  <thead>\n",
       "    <tr style=\"text-align: right;\">\n",
       "      <th></th>\n",
       "      <th>bike_station_index</th>\n",
       "      <th>distance</th>\n",
       "      <th>restaurants</th>\n",
       "      <th>parks</th>\n",
       "    </tr>\n",
       "  </thead>\n",
       "  <tbody>\n",
       "    <tr>\n",
       "      <th>0</th>\n",
       "      <td>0</td>\n",
       "      <td>308</td>\n",
       "      <td>1</td>\n",
       "      <td>0</td>\n",
       "    </tr>\n",
       "    <tr>\n",
       "      <th>1</th>\n",
       "      <td>0</td>\n",
       "      <td>354</td>\n",
       "      <td>1</td>\n",
       "      <td>0</td>\n",
       "    </tr>\n",
       "    <tr>\n",
       "      <th>2</th>\n",
       "      <td>0</td>\n",
       "      <td>299</td>\n",
       "      <td>1</td>\n",
       "      <td>0</td>\n",
       "    </tr>\n",
       "    <tr>\n",
       "      <th>3</th>\n",
       "      <td>0</td>\n",
       "      <td>400</td>\n",
       "      <td>1</td>\n",
       "      <td>0</td>\n",
       "    </tr>\n",
       "    <tr>\n",
       "      <th>4</th>\n",
       "      <td>0</td>\n",
       "      <td>385</td>\n",
       "      <td>1</td>\n",
       "      <td>0</td>\n",
       "    </tr>\n",
       "    <tr>\n",
       "      <th>...</th>\n",
       "      <td>...</td>\n",
       "      <td>...</td>\n",
       "      <td>...</td>\n",
       "      <td>...</td>\n",
       "    </tr>\n",
       "    <tr>\n",
       "      <th>45</th>\n",
       "      <td>257</td>\n",
       "      <td>425</td>\n",
       "      <td>1</td>\n",
       "      <td>0</td>\n",
       "    </tr>\n",
       "    <tr>\n",
       "      <th>46</th>\n",
       "      <td>257</td>\n",
       "      <td>428</td>\n",
       "      <td>1</td>\n",
       "      <td>0</td>\n",
       "    </tr>\n",
       "    <tr>\n",
       "      <th>47</th>\n",
       "      <td>257</td>\n",
       "      <td>429</td>\n",
       "      <td>1</td>\n",
       "      <td>0</td>\n",
       "    </tr>\n",
       "    <tr>\n",
       "      <th>48</th>\n",
       "      <td>257</td>\n",
       "      <td>440</td>\n",
       "      <td>1</td>\n",
       "      <td>0</td>\n",
       "    </tr>\n",
       "    <tr>\n",
       "      <th>49</th>\n",
       "      <td>257</td>\n",
       "      <td>444</td>\n",
       "      <td>1</td>\n",
       "      <td>0</td>\n",
       "    </tr>\n",
       "  </tbody>\n",
       "</table>\n",
       "<p>10452 rows × 4 columns</p>\n",
       "</div>"
      ],
      "text/plain": [
       "    bike_station_index  distance  restaurants  parks\n",
       "0                    0       308            1      0\n",
       "1                    0       354            1      0\n",
       "2                    0       299            1      0\n",
       "3                    0       400            1      0\n",
       "4                    0       385            1      0\n",
       "..                 ...       ...          ...    ...\n",
       "45                 257       425            1      0\n",
       "46                 257       428            1      0\n",
       "47                 257       429            1      0\n",
       "48                 257       440            1      0\n",
       "49                 257       444            1      0\n",
       "\n",
       "[10452 rows x 4 columns]"
      ]
     },
     "execution_count": 66,
     "metadata": {},
     "output_type": "execute_result"
    }
   ],
   "source": [
    "df_results_all"
   ]
  },
  {
   "cell_type": "code",
   "execution_count": 67,
   "metadata": {},
   "outputs": [],
   "source": [
    "# save file to csv\n",
    "df_results_all.to_csv('fsq_data.csv')"
   ]
  },
  {
   "cell_type": "markdown",
   "metadata": {},
   "source": [
    "# Yelp"
   ]
  },
  {
   "cell_type": "markdown",
   "metadata": {},
   "source": [
    "Send a request to Yelp with a small radius (1000m) for all the bike stations in your city of choice. "
   ]
  },
  {
   "cell_type": "code",
   "execution_count": null,
   "metadata": {},
   "outputs": [],
   "source": [
    "radius = 1000\n",
    "limit = 20\n",
    "categories = \"restaurants,cafes,bars,parks\"\n",
    "\n",
    "url_yelp = \"https://api.yelp.com/v3/businesses/search\"\n",
    "\n",
    "headers_yelp = {\n",
    "    \"accept\": \"application/json\",\n",
    "    \"authorization\": \"Bearer \" + yelp_api_key\n",
    "}\n"
   ]
  },
  {
   "cell_type": "code",
   "execution_count": null,
   "metadata": {},
   "outputs": [],
   "source": [
    "df_results_all_yelp = []\n",
    "\n",
    "for i in range(N_stations):\n",
    "\n",
    "    latitude = df_city_bikes['latitude'].iloc[idx]\n",
    "    longitude = df_city_bikes['longitude'].iloc[idx]\n",
    "    # ll = f\"{lat},{lng}\"\n",
    "\n",
    "    params_yelp = {\n",
    "        'radius': radius,\n",
    "        'categories': categories,\n",
    "        'latitude': latitude,\n",
    "        'longitude': longitude,\n",
    "        'limit': limit\n",
    "    }\n",
    "\n",
    "\n",
    "    response_yelp = requests.get(url_yelp, headers=headers_yelp, params=params_yelp)\n",
    "\n",
    "    results_yelp = response_yelp.json()\n",
    "\n",
    "    "
   ]
  },
  {
   "cell_type": "markdown",
   "metadata": {},
   "source": [
    "Parse through the response to get the POI (such as restaurants, bars, etc) details you want (ratings, name, location, etc)"
   ]
  },
  {
   "cell_type": "code",
   "execution_count": 269,
   "metadata": {},
   "outputs": [
    {
     "data": {
      "text/plain": [
       "dict_keys(['businesses', 'total', 'region'])"
      ]
     },
     "execution_count": 269,
     "metadata": {},
     "output_type": "execute_result"
    }
   ],
   "source": [
    "# view the keys in the result\n",
    "results_yelp.keys()"
   ]
  },
  {
   "cell_type": "code",
   "execution_count": 177,
   "metadata": {},
   "outputs": [
    {
     "data": {
      "text/plain": [
       "247"
      ]
     },
     "execution_count": 177,
     "metadata": {},
     "output_type": "execute_result"
    }
   ],
   "source": [
    "results_yelp['total']"
   ]
  },
  {
   "cell_type": "markdown",
   "metadata": {},
   "source": [
    "Put your parsed results into a DataFrame"
   ]
  },
  {
   "cell_type": "code",
   "execution_count": 271,
   "metadata": {},
   "outputs": [],
   "source": [
    "# convert to dataframe\n",
    "df_results_yelp = pd.json_normalize(results_yelp['businesses'])\n",
    "df_results_yelp['bike_station_index'] = idx\n",
    "# append this to the empty list\n",
    "df_results_all_yelp.append(df_results_yelp)"
   ]
  },
  {
   "cell_type": "code",
   "execution_count": null,
   "metadata": {},
   "outputs": [],
   "source": [
    "df_results_yelp.head()"
   ]
  },
  {
   "cell_type": "code",
   "execution_count": 275,
   "metadata": {},
   "outputs": [],
   "source": [
    "# concat the results\n",
    "df_results_all_yelp = pd.concat(df_results_all_yelp)"
   ]
  },
  {
   "cell_type": "code",
   "execution_count": null,
   "metadata": {},
   "outputs": [],
   "source": [
    "df_results_all_yelp.reset_index()"
   ]
  },
  {
   "cell_type": "code",
   "execution_count": null,
   "metadata": {},
   "outputs": [],
   "source": [
    "df_results_all_yelp"
   ]
  },
  {
   "cell_type": "code",
   "execution_count": null,
   "metadata": {},
   "outputs": [],
   "source": [
    "df_results_all_yelp.shape"
   ]
  },
  {
   "cell_type": "markdown",
   "metadata": {},
   "source": [
    "# Comparing Results"
   ]
  },
  {
   "cell_type": "markdown",
   "metadata": {},
   "source": [
    "Which API provided you with more complete data? Provide an explanation. \n",
    "\n",
    "* The foursquare API gives me a more complete data. The yelp data provides less data coverage. Foursquare covers more than businesses eg train staions and daycares while is mostly business.\n",
    "* Though the yelp API provides information on customer reviews, for the scope of this project I will be focusing of fsq_id (number of POIs in a location) and distance to build the model."
   ]
  },
  {
   "cell_type": "markdown",
   "metadata": {},
   "source": [
    "Get the top 10 restaurants according to their rating"
   ]
  },
  {
   "cell_type": "code",
   "execution_count": 293,
   "metadata": {},
   "outputs": [
    {
     "data": {
      "text/plain": [
       "name\n",
       "Petite Bao                      4.7\n",
       "Casereccio Foods                4.7\n",
       "Chewie's Chicken & Biscuits     4.6\n",
       "Folke Restaurant                4.6\n",
       "Healthy Noodle House            4.5\n",
       "Delara                          4.3\n",
       "Purebread                       4.3\n",
       "Fable Kitchen                   4.3\n",
       "Raisu                           4.2\n",
       "Hanoi Old Quarter Restaurant    4.2\n",
       "Tera V Burger                   4.1\n",
       "Little Bird Dim Sum             4.0\n",
       "Neverland Tea Salon             4.0\n",
       "Dark Table                      4.0\n",
       "Pho Japolo                      3.9\n",
       "East Is East                    3.9\n",
       "Au Comptoir                     3.9\n",
       "Mr. Red Cafe                    3.8\n",
       "Nat's New York Pizzeria         3.7\n",
       "Banana Leaf                     3.6\n",
       "Name: rating, dtype: float64"
      ]
     },
     "execution_count": 293,
     "metadata": {},
     "output_type": "execute_result"
    }
   ],
   "source": [
    "df_results_all_yelp.groupby('name')['rating'].max().sort_values(ascending=False)"
   ]
  },
  {
   "cell_type": "markdown",
   "metadata": {},
   "source": [
    "# Data Exploration and Wrangling"
   ]
  },
  {
   "cell_type": "code",
   "execution_count": null,
   "metadata": {},
   "outputs": [],
   "source": [
    "# read the fsq csv file\n",
    "#fsq_results = pd.read_csv('fsq_data.csv')"
   ]
  },
  {
   "cell_type": "code",
   "execution_count": 74,
   "metadata": {},
   "outputs": [],
   "source": [
    "# import the city_bikes data as we will be using this for analysis as well\n",
    "city_bikes_data = pd.read_csv('df_city_bikes.csv')"
   ]
  },
  {
   "cell_type": "code",
   "execution_count": null,
   "metadata": {},
   "outputs": [
    {
     "data": {
      "text/html": [
       "<div>\n",
       "<style scoped>\n",
       "    .dataframe tbody tr th:only-of-type {\n",
       "        vertical-align: middle;\n",
       "    }\n",
       "\n",
       "    .dataframe tbody tr th {\n",
       "        vertical-align: top;\n",
       "    }\n",
       "\n",
       "    .dataframe thead th {\n",
       "        text-align: right;\n",
       "    }\n",
       "</style>\n",
       "<table border=\"1\" class=\"dataframe\">\n",
       "  <thead>\n",
       "    <tr style=\"text-align: right;\">\n",
       "      <th></th>\n",
       "      <th>fsq_id</th>\n",
       "      <th>categories</th>\n",
       "      <th>chains</th>\n",
       "      <th>closed_bucket</th>\n",
       "      <th>distance</th>\n",
       "      <th>link</th>\n",
       "      <th>name</th>\n",
       "      <th>timezone</th>\n",
       "      <th>geocodes.drop_off.latitude</th>\n",
       "      <th>geocodes.drop_off.longitude</th>\n",
       "      <th>...</th>\n",
       "      <th>related_places.parent.categories</th>\n",
       "      <th>related_places.parent.name</th>\n",
       "      <th>location.address_extended</th>\n",
       "      <th>bike_station_index</th>\n",
       "      <th>related_places.children</th>\n",
       "      <th>geocodes.front_door.latitude</th>\n",
       "      <th>geocodes.front_door.longitude</th>\n",
       "      <th>location.po_box</th>\n",
       "      <th>restaurants</th>\n",
       "      <th>parks</th>\n",
       "    </tr>\n",
       "  </thead>\n",
       "  <tbody>\n",
       "    <tr>\n",
       "      <th>0</th>\n",
       "      <td>4aa7455df964a5208e4c20e3</td>\n",
       "      <td>[{'id': 13276, 'name': 'Sushi Restaurant', 'sh...</td>\n",
       "      <td>[]</td>\n",
       "      <td>VeryLikelyOpen</td>\n",
       "      <td>308</td>\n",
       "      <td>/v3/places/4aa7455df964a5208e4c20e3</td>\n",
       "      <td>Kingyo Izakaya 金魚居酒屋</td>\n",
       "      <td>America/Vancouver</td>\n",
       "      <td>49.290524</td>\n",
       "      <td>-123.136877</td>\n",
       "      <td>...</td>\n",
       "      <td>NaN</td>\n",
       "      <td>NaN</td>\n",
       "      <td>NaN</td>\n",
       "      <td>0</td>\n",
       "      <td>NaN</td>\n",
       "      <td>NaN</td>\n",
       "      <td>NaN</td>\n",
       "      <td>NaN</td>\n",
       "      <td>1</td>\n",
       "      <td>0</td>\n",
       "    </tr>\n",
       "    <tr>\n",
       "      <th>1</th>\n",
       "      <td>4cd8423915d8b60c611f650e</td>\n",
       "      <td>[{'id': 13236, 'name': 'Italian Restaurant', '...</td>\n",
       "      <td>[]</td>\n",
       "      <td>LikelyOpen</td>\n",
       "      <td>354</td>\n",
       "      <td>/v3/places/4cd8423915d8b60c611f650e</td>\n",
       "      <td>Tavola</td>\n",
       "      <td>America/Vancouver</td>\n",
       "      <td>49.291726</td>\n",
       "      <td>-123.135836</td>\n",
       "      <td>...</td>\n",
       "      <td>NaN</td>\n",
       "      <td>NaN</td>\n",
       "      <td>NaN</td>\n",
       "      <td>0</td>\n",
       "      <td>NaN</td>\n",
       "      <td>NaN</td>\n",
       "      <td>NaN</td>\n",
       "      <td>NaN</td>\n",
       "      <td>1</td>\n",
       "      <td>0</td>\n",
       "    </tr>\n",
       "    <tr>\n",
       "      <th>2</th>\n",
       "      <td>5851f5b5297c16529dd5cf93</td>\n",
       "      <td>[{'id': 13073, 'name': 'Australian Restaurant'...</td>\n",
       "      <td>[]</td>\n",
       "      <td>VeryLikelyOpen</td>\n",
       "      <td>299</td>\n",
       "      <td>/v3/places/5851f5b5297c16529dd5cf93</td>\n",
       "      <td>Peaked Pies</td>\n",
       "      <td>America/Vancouver</td>\n",
       "      <td>49.289508</td>\n",
       "      <td>-123.138405</td>\n",
       "      <td>...</td>\n",
       "      <td>NaN</td>\n",
       "      <td>NaN</td>\n",
       "      <td>NaN</td>\n",
       "      <td>0</td>\n",
       "      <td>NaN</td>\n",
       "      <td>NaN</td>\n",
       "      <td>NaN</td>\n",
       "      <td>NaN</td>\n",
       "      <td>1</td>\n",
       "      <td>0</td>\n",
       "    </tr>\n",
       "    <tr>\n",
       "      <th>3</th>\n",
       "      <td>4aa75933f964a520bf4c20e3</td>\n",
       "      <td>[{'id': 13299, 'name': 'Malay Restaurant', 'sh...</td>\n",
       "      <td>[]</td>\n",
       "      <td>LikelyOpen</td>\n",
       "      <td>400</td>\n",
       "      <td>/v3/places/4aa75933f964a520bf4c20e3</td>\n",
       "      <td>Banana Leaf</td>\n",
       "      <td>America/Vancouver</td>\n",
       "      <td>NaN</td>\n",
       "      <td>NaN</td>\n",
       "      <td>...</td>\n",
       "      <td>NaN</td>\n",
       "      <td>NaN</td>\n",
       "      <td>NaN</td>\n",
       "      <td>0</td>\n",
       "      <td>NaN</td>\n",
       "      <td>NaN</td>\n",
       "      <td>NaN</td>\n",
       "      <td>NaN</td>\n",
       "      <td>1</td>\n",
       "      <td>0</td>\n",
       "    </tr>\n",
       "    <tr>\n",
       "      <th>4</th>\n",
       "      <td>4abfcaf5f964a5203c9220e3</td>\n",
       "      <td>[{'id': 13099, 'name': 'Chinese Restaurant', '...</td>\n",
       "      <td>[]</td>\n",
       "      <td>LikelyOpen</td>\n",
       "      <td>385</td>\n",
       "      <td>/v3/places/4abfcaf5f964a5203c9220e3</td>\n",
       "      <td>Legendary Noodle House</td>\n",
       "      <td>America/Vancouver</td>\n",
       "      <td>NaN</td>\n",
       "      <td>NaN</td>\n",
       "      <td>...</td>\n",
       "      <td>NaN</td>\n",
       "      <td>NaN</td>\n",
       "      <td>NaN</td>\n",
       "      <td>0</td>\n",
       "      <td>NaN</td>\n",
       "      <td>NaN</td>\n",
       "      <td>NaN</td>\n",
       "      <td>NaN</td>\n",
       "      <td>1</td>\n",
       "      <td>0</td>\n",
       "    </tr>\n",
       "  </tbody>\n",
       "</table>\n",
       "<p>5 rows × 32 columns</p>\n",
       "</div>"
      ],
      "text/plain": [
       "                     fsq_id  \\\n",
       "0  4aa7455df964a5208e4c20e3   \n",
       "1  4cd8423915d8b60c611f650e   \n",
       "2  5851f5b5297c16529dd5cf93   \n",
       "3  4aa75933f964a520bf4c20e3   \n",
       "4  4abfcaf5f964a5203c9220e3   \n",
       "\n",
       "                                          categories chains   closed_bucket  \\\n",
       "0  [{'id': 13276, 'name': 'Sushi Restaurant', 'sh...     []  VeryLikelyOpen   \n",
       "1  [{'id': 13236, 'name': 'Italian Restaurant', '...     []      LikelyOpen   \n",
       "2  [{'id': 13073, 'name': 'Australian Restaurant'...     []  VeryLikelyOpen   \n",
       "3  [{'id': 13299, 'name': 'Malay Restaurant', 'sh...     []      LikelyOpen   \n",
       "4  [{'id': 13099, 'name': 'Chinese Restaurant', '...     []      LikelyOpen   \n",
       "\n",
       "   distance                                 link                    name  \\\n",
       "0       308  /v3/places/4aa7455df964a5208e4c20e3    Kingyo Izakaya 金魚居酒屋   \n",
       "1       354  /v3/places/4cd8423915d8b60c611f650e                  Tavola   \n",
       "2       299  /v3/places/5851f5b5297c16529dd5cf93             Peaked Pies   \n",
       "3       400  /v3/places/4aa75933f964a520bf4c20e3             Banana Leaf   \n",
       "4       385  /v3/places/4abfcaf5f964a5203c9220e3  Legendary Noodle House   \n",
       "\n",
       "            timezone  geocodes.drop_off.latitude  geocodes.drop_off.longitude  \\\n",
       "0  America/Vancouver                   49.290524                  -123.136877   \n",
       "1  America/Vancouver                   49.291726                  -123.135836   \n",
       "2  America/Vancouver                   49.289508                  -123.138405   \n",
       "3  America/Vancouver                         NaN                          NaN   \n",
       "4  America/Vancouver                         NaN                          NaN   \n",
       "\n",
       "   ...  related_places.parent.categories  related_places.parent.name  \\\n",
       "0  ...                               NaN                         NaN   \n",
       "1  ...                               NaN                         NaN   \n",
       "2  ...                               NaN                         NaN   \n",
       "3  ...                               NaN                         NaN   \n",
       "4  ...                               NaN                         NaN   \n",
       "\n",
       "   location.address_extended  bike_station_index related_places.children  \\\n",
       "0                        NaN                   0                     NaN   \n",
       "1                        NaN                   0                     NaN   \n",
       "2                        NaN                   0                     NaN   \n",
       "3                        NaN                   0                     NaN   \n",
       "4                        NaN                   0                     NaN   \n",
       "\n",
       "  geocodes.front_door.latitude geocodes.front_door.longitude location.po_box  \\\n",
       "0                          NaN                           NaN             NaN   \n",
       "1                          NaN                           NaN             NaN   \n",
       "2                          NaN                           NaN             NaN   \n",
       "3                          NaN                           NaN             NaN   \n",
       "4                          NaN                           NaN             NaN   \n",
       "\n",
       "  restaurants parks  \n",
       "0           1     0  \n",
       "1           1     0  \n",
       "2           1     0  \n",
       "3           1     0  \n",
       "4           1     0  \n",
       "\n",
       "[5 rows x 32 columns]"
      ]
     },
     "execution_count": 96,
     "metadata": {},
     "output_type": "execute_result"
    }
   ],
   "source": [
    "# view teh columns for the fsq data\n",
    "df_results_all.head()"
   ]
  },
  {
   "cell_type": "code",
   "execution_count": null,
   "metadata": {},
   "outputs": [
    {
     "data": {
      "text/html": [
       "<div>\n",
       "<style scoped>\n",
       "    .dataframe tbody tr th:only-of-type {\n",
       "        vertical-align: middle;\n",
       "    }\n",
       "\n",
       "    .dataframe tbody tr th {\n",
       "        vertical-align: top;\n",
       "    }\n",
       "\n",
       "    .dataframe thead th {\n",
       "        text-align: right;\n",
       "    }\n",
       "</style>\n",
       "<table border=\"1\" class=\"dataframe\">\n",
       "  <thead>\n",
       "    <tr style=\"text-align: right;\">\n",
       "      <th></th>\n",
       "      <th>Unnamed: 0</th>\n",
       "      <th>Station Name</th>\n",
       "      <th>Latitude</th>\n",
       "      <th>Longitude</th>\n",
       "      <th>Available Bikes</th>\n",
       "    </tr>\n",
       "  </thead>\n",
       "  <tbody>\n",
       "    <tr>\n",
       "      <th>0</th>\n",
       "      <td>0</td>\n",
       "      <td>Chilco &amp; Barclay</td>\n",
       "      <td>49.291909</td>\n",
       "      <td>-123.140713</td>\n",
       "      <td>12</td>\n",
       "    </tr>\n",
       "    <tr>\n",
       "      <th>1</th>\n",
       "      <td>1</td>\n",
       "      <td>St George &amp; Broadway</td>\n",
       "      <td>49.262321</td>\n",
       "      <td>-123.093060</td>\n",
       "      <td>2</td>\n",
       "    </tr>\n",
       "    <tr>\n",
       "      <th>2</th>\n",
       "      <td>2</td>\n",
       "      <td>Britannia Parking Lot</td>\n",
       "      <td>49.275882</td>\n",
       "      <td>-123.071865</td>\n",
       "      <td>2</td>\n",
       "    </tr>\n",
       "    <tr>\n",
       "      <th>3</th>\n",
       "      <td>3</td>\n",
       "      <td>Morton &amp; Denman</td>\n",
       "      <td>49.288030</td>\n",
       "      <td>-123.142135</td>\n",
       "      <td>9</td>\n",
       "    </tr>\n",
       "    <tr>\n",
       "      <th>4</th>\n",
       "      <td>4</td>\n",
       "      <td>Thornton &amp; National</td>\n",
       "      <td>49.273777</td>\n",
       "      <td>-123.092723</td>\n",
       "      <td>2</td>\n",
       "    </tr>\n",
       "  </tbody>\n",
       "</table>\n",
       "</div>"
      ],
      "text/plain": [
       "   Unnamed: 0           Station Name   Latitude   Longitude  Available Bikes\n",
       "0           0       Chilco & Barclay  49.291909 -123.140713               12\n",
       "1           1   St George & Broadway  49.262321 -123.093060                2\n",
       "2           2  Britannia Parking Lot  49.275882 -123.071865                2\n",
       "3           3        Morton & Denman  49.288030 -123.142135                9\n",
       "4           4    Thornton & National  49.273777 -123.092723                2"
      ]
     },
     "execution_count": 75,
     "metadata": {},
     "output_type": "execute_result"
    }
   ],
   "source": [
    "# view the first 5 rows of teh city bikes data\n",
    "city_bikes_data.head()"
   ]
  },
  {
   "cell_type": "code",
   "execution_count": 97,
   "metadata": {},
   "outputs": [
    {
     "data": {
      "text/plain": [
       "fsq_id                               object\n",
       "categories                           object\n",
       "chains                               object\n",
       "closed_bucket                        object\n",
       "distance                              int64\n",
       "link                                 object\n",
       "name                                 object\n",
       "timezone                             object\n",
       "geocodes.drop_off.latitude          float64\n",
       "geocodes.drop_off.longitude         float64\n",
       "geocodes.main.latitude              float64\n",
       "geocodes.main.longitude             float64\n",
       "geocodes.roof.latitude              float64\n",
       "geocodes.roof.longitude             float64\n",
       "location.address                     object\n",
       "location.country                     object\n",
       "location.cross_street                object\n",
       "location.formatted_address           object\n",
       "location.locality                    object\n",
       "location.postcode                    object\n",
       "location.region                      object\n",
       "related_places.parent.fsq_id         object\n",
       "related_places.parent.categories     object\n",
       "related_places.parent.name           object\n",
       "location.address_extended            object\n",
       "bike_station_index                    int64\n",
       "related_places.children              object\n",
       "geocodes.front_door.latitude        float64\n",
       "geocodes.front_door.longitude       float64\n",
       "location.po_box                      object\n",
       "restaurants                           int64\n",
       "parks                                 int64\n",
       "dtype: object"
      ]
     },
     "execution_count": 97,
     "metadata": {},
     "output_type": "execute_result"
    }
   ],
   "source": [
    "# check data type \n",
    "df_results_all.dtypes"
   ]
  },
  {
   "cell_type": "markdown",
   "metadata": {},
   "source": [
    "The data types are integers, objects and floats. We will be looking the columns that are of interest"
   ]
  },
  {
   "cell_type": "code",
   "execution_count": 98,
   "metadata": {},
   "outputs": [
    {
     "data": {
      "text/plain": [
       "distance        int64\n",
       "categories     object\n",
       "restaurants     int64\n",
       "parks           int64\n",
       "dtype: object"
      ]
     },
     "execution_count": 98,
     "metadata": {},
     "output_type": "execute_result"
    }
   ],
   "source": [
    "# view selected columns data types\n",
    "df_results_all[['distance', 'categories', 'restaurants', 'parks']].dtypes"
   ]
  },
  {
   "cell_type": "markdown",
   "metadata": {},
   "source": [
    "categories type is an object, containing list of dictionaries and cannot be used for analysis. We are interested in knowing the impact of number of POIs within 500m radius in a station and distance on number of bikes. Parks and restaurants are categories extracted from the categories column."
   ]
  },
  {
   "cell_type": "code",
   "execution_count": 99,
   "metadata": {},
   "outputs": [
    {
     "data": {
      "text/plain": [
       "Unnamed: 0           int64\n",
       "Station Name        object\n",
       "Latitude           float64\n",
       "Longitude          float64\n",
       "Available Bikes      int64\n",
       "dtype: object"
      ]
     },
     "execution_count": 99,
     "metadata": {},
     "output_type": "execute_result"
    }
   ],
   "source": [
    "# check data types for city_bike_data\n",
    "city_bikes_data.dtypes"
   ]
  },
  {
   "cell_type": "markdown",
   "metadata": {},
   "source": [
    "The data types for each columns are numeric, thus, is usable for analysis."
   ]
  },
  {
   "cell_type": "code",
   "execution_count": null,
   "metadata": {},
   "outputs": [
    {
     "data": {
      "text/html": [
       "<div>\n",
       "<style scoped>\n",
       "    .dataframe tbody tr th:only-of-type {\n",
       "        vertical-align: middle;\n",
       "    }\n",
       "\n",
       "    .dataframe tbody tr th {\n",
       "        vertical-align: top;\n",
       "    }\n",
       "\n",
       "    .dataframe thead th {\n",
       "        text-align: right;\n",
       "    }\n",
       "</style>\n",
       "<table border=\"1\" class=\"dataframe\">\n",
       "  <thead>\n",
       "    <tr style=\"text-align: right;\">\n",
       "      <th></th>\n",
       "      <th>distance</th>\n",
       "      <th>restaurants</th>\n",
       "      <th>parks</th>\n",
       "    </tr>\n",
       "  </thead>\n",
       "  <tbody>\n",
       "    <tr>\n",
       "      <th>count</th>\n",
       "      <td>10452.000000</td>\n",
       "      <td>10452.000000</td>\n",
       "      <td>10452.000000</td>\n",
       "    </tr>\n",
       "    <tr>\n",
       "      <th>mean</th>\n",
       "      <td>325.136433</td>\n",
       "      <td>0.949866</td>\n",
       "      <td>0.050134</td>\n",
       "    </tr>\n",
       "    <tr>\n",
       "      <th>std</th>\n",
       "      <td>312.403789</td>\n",
       "      <td>0.218232</td>\n",
       "      <td>0.218232</td>\n",
       "    </tr>\n",
       "    <tr>\n",
       "      <th>min</th>\n",
       "      <td>7.000000</td>\n",
       "      <td>0.000000</td>\n",
       "      <td>0.000000</td>\n",
       "    </tr>\n",
       "    <tr>\n",
       "      <th>25%</th>\n",
       "      <td>226.000000</td>\n",
       "      <td>1.000000</td>\n",
       "      <td>0.000000</td>\n",
       "    </tr>\n",
       "    <tr>\n",
       "      <th>50%</th>\n",
       "      <td>335.000000</td>\n",
       "      <td>1.000000</td>\n",
       "      <td>0.000000</td>\n",
       "    </tr>\n",
       "    <tr>\n",
       "      <th>75%</th>\n",
       "      <td>420.000000</td>\n",
       "      <td>1.000000</td>\n",
       "      <td>0.000000</td>\n",
       "    </tr>\n",
       "    <tr>\n",
       "      <th>max</th>\n",
       "      <td>13725.000000</td>\n",
       "      <td>1.000000</td>\n",
       "      <td>1.000000</td>\n",
       "    </tr>\n",
       "  </tbody>\n",
       "</table>\n",
       "</div>"
      ],
      "text/plain": [
       "           distance   restaurants         parks\n",
       "count  10452.000000  10452.000000  10452.000000\n",
       "mean     325.136433      0.949866      0.050134\n",
       "std      312.403789      0.218232      0.218232\n",
       "min        7.000000      0.000000      0.000000\n",
       "25%      226.000000      1.000000      0.000000\n",
       "50%      335.000000      1.000000      0.000000\n",
       "75%      420.000000      1.000000      0.000000\n",
       "max    13725.000000      1.000000      1.000000"
      ]
     },
     "execution_count": 101,
     "metadata": {},
     "output_type": "execute_result"
    }
   ],
   "source": [
    "# check descriptive statistics for fsq data\n",
    "df_results_all[['distance', 'restaurants', 'parks']].describe()"
   ]
  },
  {
   "cell_type": "markdown",
   "metadata": {},
   "source": [
    "From the descrisptive statistics we can see that distance may contain outltiers with a min value of 7 and max value of 13725.These outliers will be treated accordingly after further exploration."
   ]
  },
  {
   "cell_type": "code",
   "execution_count": 156,
   "metadata": {},
   "outputs": [
    {
     "data": {
      "text/html": [
       "<div>\n",
       "<style scoped>\n",
       "    .dataframe tbody tr th:only-of-type {\n",
       "        vertical-align: middle;\n",
       "    }\n",
       "\n",
       "    .dataframe tbody tr th {\n",
       "        vertical-align: top;\n",
       "    }\n",
       "\n",
       "    .dataframe thead th {\n",
       "        text-align: right;\n",
       "    }\n",
       "</style>\n",
       "<table border=\"1\" class=\"dataframe\">\n",
       "  <thead>\n",
       "    <tr style=\"text-align: right;\">\n",
       "      <th></th>\n",
       "      <th>Unnamed: 0</th>\n",
       "      <th>Latitude</th>\n",
       "      <th>Longitude</th>\n",
       "      <th>Available Bikes</th>\n",
       "    </tr>\n",
       "  </thead>\n",
       "  <tbody>\n",
       "    <tr>\n",
       "      <th>count</th>\n",
       "      <td>258.000000</td>\n",
       "      <td>258.000000</td>\n",
       "      <td>258.000000</td>\n",
       "      <td>258.000000</td>\n",
       "    </tr>\n",
       "    <tr>\n",
       "      <th>mean</th>\n",
       "      <td>128.500000</td>\n",
       "      <td>49.271570</td>\n",
       "      <td>-123.123023</td>\n",
       "      <td>7.395349</td>\n",
       "    </tr>\n",
       "    <tr>\n",
       "      <th>std</th>\n",
       "      <td>74.622383</td>\n",
       "      <td>0.011640</td>\n",
       "      <td>0.039317</td>\n",
       "      <td>5.529431</td>\n",
       "    </tr>\n",
       "    <tr>\n",
       "      <th>min</th>\n",
       "      <td>0.000000</td>\n",
       "      <td>49.238105</td>\n",
       "      <td>-123.254307</td>\n",
       "      <td>0.000000</td>\n",
       "    </tr>\n",
       "    <tr>\n",
       "      <th>25%</th>\n",
       "      <td>64.250000</td>\n",
       "      <td>49.263115</td>\n",
       "      <td>-123.139179</td>\n",
       "      <td>3.000000</td>\n",
       "    </tr>\n",
       "    <tr>\n",
       "      <th>50%</th>\n",
       "      <td>128.500000</td>\n",
       "      <td>49.270830</td>\n",
       "      <td>-123.118546</td>\n",
       "      <td>6.000000</td>\n",
       "    </tr>\n",
       "    <tr>\n",
       "      <th>75%</th>\n",
       "      <td>192.750000</td>\n",
       "      <td>49.280403</td>\n",
       "      <td>-123.100094</td>\n",
       "      <td>10.000000</td>\n",
       "    </tr>\n",
       "    <tr>\n",
       "      <th>max</th>\n",
       "      <td>257.000000</td>\n",
       "      <td>49.302577</td>\n",
       "      <td>-123.056909</td>\n",
       "      <td>28.000000</td>\n",
       "    </tr>\n",
       "  </tbody>\n",
       "</table>\n",
       "</div>"
      ],
      "text/plain": [
       "       Unnamed: 0    Latitude   Longitude  Available Bikes\n",
       "count  258.000000  258.000000  258.000000       258.000000\n",
       "mean   128.500000   49.271570 -123.123023         7.395349\n",
       "std     74.622383    0.011640    0.039317         5.529431\n",
       "min      0.000000   49.238105 -123.254307         0.000000\n",
       "25%     64.250000   49.263115 -123.139179         3.000000\n",
       "50%    128.500000   49.270830 -123.118546         6.000000\n",
       "75%    192.750000   49.280403 -123.100094        10.000000\n",
       "max    257.000000   49.302577 -123.056909        28.000000"
      ]
     },
     "execution_count": 156,
     "metadata": {},
     "output_type": "execute_result"
    }
   ],
   "source": [
    "# check descriptive statistics for city bikes data\n",
    "city_bikes_data.describe()"
   ]
  },
  {
   "cell_type": "markdown",
   "metadata": {},
   "source": [
    "The descriptive shows that some stations have higher number of bikes available."
   ]
  },
  {
   "cell_type": "markdown",
   "metadata": {},
   "source": [
    "## Check for Missing Values"
   ]
  },
  {
   "cell_type": "code",
   "execution_count": 102,
   "metadata": {},
   "outputs": [
    {
     "data": {
      "text/html": [
       "<div>\n",
       "<style scoped>\n",
       "    .dataframe tbody tr th:only-of-type {\n",
       "        vertical-align: middle;\n",
       "    }\n",
       "\n",
       "    .dataframe tbody tr th {\n",
       "        vertical-align: top;\n",
       "    }\n",
       "\n",
       "    .dataframe thead th {\n",
       "        text-align: right;\n",
       "    }\n",
       "</style>\n",
       "<table border=\"1\" class=\"dataframe\">\n",
       "  <thead>\n",
       "    <tr style=\"text-align: right;\">\n",
       "      <th></th>\n",
       "      <th>fsq_id</th>\n",
       "      <th>categories</th>\n",
       "      <th>chains</th>\n",
       "      <th>closed_bucket</th>\n",
       "      <th>distance</th>\n",
       "      <th>link</th>\n",
       "      <th>name</th>\n",
       "      <th>timezone</th>\n",
       "      <th>geocodes.drop_off.latitude</th>\n",
       "      <th>geocodes.drop_off.longitude</th>\n",
       "      <th>...</th>\n",
       "      <th>related_places.parent.categories</th>\n",
       "      <th>related_places.parent.name</th>\n",
       "      <th>location.address_extended</th>\n",
       "      <th>bike_station_index</th>\n",
       "      <th>related_places.children</th>\n",
       "      <th>geocodes.front_door.latitude</th>\n",
       "      <th>geocodes.front_door.longitude</th>\n",
       "      <th>location.po_box</th>\n",
       "      <th>restaurants</th>\n",
       "      <th>parks</th>\n",
       "    </tr>\n",
       "  </thead>\n",
       "  <tbody>\n",
       "    <tr>\n",
       "      <th>45</th>\n",
       "      <td>5f2d918d3731e5073cb1d691</td>\n",
       "      <td>[{'id': 13002, 'name': 'Bakery', 'short_name':...</td>\n",
       "      <td>[]</td>\n",
       "      <td>VeryLikelyOpen</td>\n",
       "      <td>425</td>\n",
       "      <td>/v3/places/5f2d918d3731e5073cb1d691</td>\n",
       "      <td>Melo Patisserie</td>\n",
       "      <td>America/Vancouver</td>\n",
       "      <td>49.263710</td>\n",
       "      <td>-123.101546</td>\n",
       "      <td>...</td>\n",
       "      <td>NaN</td>\n",
       "      <td>NaN</td>\n",
       "      <td>NaN</td>\n",
       "      <td>257</td>\n",
       "      <td>NaN</td>\n",
       "      <td>NaN</td>\n",
       "      <td>NaN</td>\n",
       "      <td>NaN</td>\n",
       "      <td>1</td>\n",
       "      <td>0</td>\n",
       "    </tr>\n",
       "    <tr>\n",
       "      <th>46</th>\n",
       "      <td>4c14598fa5eb76b03cb5c1b7</td>\n",
       "      <td>[{'id': 13027, 'name': 'Bistro', 'short_name':...</td>\n",
       "      <td>[]</td>\n",
       "      <td>LikelyOpen</td>\n",
       "      <td>428</td>\n",
       "      <td>/v3/places/4c14598fa5eb76b03cb5c1b7</td>\n",
       "      <td>Jamies Bistro Restaurant</td>\n",
       "      <td>America/Vancouver</td>\n",
       "      <td>NaN</td>\n",
       "      <td>NaN</td>\n",
       "      <td>...</td>\n",
       "      <td>NaN</td>\n",
       "      <td>NaN</td>\n",
       "      <td>NaN</td>\n",
       "      <td>257</td>\n",
       "      <td>NaN</td>\n",
       "      <td>NaN</td>\n",
       "      <td>NaN</td>\n",
       "      <td>NaN</td>\n",
       "      <td>1</td>\n",
       "      <td>0</td>\n",
       "    </tr>\n",
       "    <tr>\n",
       "      <th>47</th>\n",
       "      <td>5c6fc0c3446ea60037c21fd9</td>\n",
       "      <td>[{'id': 13040, 'name': 'Dessert Shop', 'short_...</td>\n",
       "      <td>[]</td>\n",
       "      <td>LikelyOpen</td>\n",
       "      <td>429</td>\n",
       "      <td>/v3/places/5c6fc0c3446ea60037c21fd9</td>\n",
       "      <td>Billy Button Dessert Bar</td>\n",
       "      <td>America/Vancouver</td>\n",
       "      <td>49.262922</td>\n",
       "      <td>-123.101476</td>\n",
       "      <td>...</td>\n",
       "      <td>NaN</td>\n",
       "      <td>NaN</td>\n",
       "      <td>NaN</td>\n",
       "      <td>257</td>\n",
       "      <td>NaN</td>\n",
       "      <td>NaN</td>\n",
       "      <td>NaN</td>\n",
       "      <td>NaN</td>\n",
       "      <td>1</td>\n",
       "      <td>0</td>\n",
       "    </tr>\n",
       "    <tr>\n",
       "      <th>48</th>\n",
       "      <td>4ace7f72f964a520e6d020e3</td>\n",
       "      <td>[{'id': 13049, 'name': 'Diner', 'short_name': ...</td>\n",
       "      <td>[]</td>\n",
       "      <td>LikelyOpen</td>\n",
       "      <td>440</td>\n",
       "      <td>/v3/places/4ace7f72f964a520e6d020e3</td>\n",
       "      <td>Josephine's Restaurant Inc</td>\n",
       "      <td>America/Vancouver</td>\n",
       "      <td>NaN</td>\n",
       "      <td>NaN</td>\n",
       "      <td>...</td>\n",
       "      <td>NaN</td>\n",
       "      <td>NaN</td>\n",
       "      <td>NaN</td>\n",
       "      <td>257</td>\n",
       "      <td>NaN</td>\n",
       "      <td>NaN</td>\n",
       "      <td>NaN</td>\n",
       "      <td>NaN</td>\n",
       "      <td>1</td>\n",
       "      <td>0</td>\n",
       "    </tr>\n",
       "    <tr>\n",
       "      <th>49</th>\n",
       "      <td>55ff3061498e521acf37b77f</td>\n",
       "      <td>[{'id': 13146, 'name': 'Filipino Restaurant', ...</td>\n",
       "      <td>[]</td>\n",
       "      <td>LikelyOpen</td>\n",
       "      <td>444</td>\n",
       "      <td>/v3/places/55ff3061498e521acf37b77f</td>\n",
       "      <td>Klasik Inasal &amp; Noodle Express</td>\n",
       "      <td>America/Vancouver</td>\n",
       "      <td>NaN</td>\n",
       "      <td>NaN</td>\n",
       "      <td>...</td>\n",
       "      <td>NaN</td>\n",
       "      <td>NaN</td>\n",
       "      <td># 2</td>\n",
       "      <td>257</td>\n",
       "      <td>NaN</td>\n",
       "      <td>NaN</td>\n",
       "      <td>NaN</td>\n",
       "      <td>NaN</td>\n",
       "      <td>1</td>\n",
       "      <td>0</td>\n",
       "    </tr>\n",
       "  </tbody>\n",
       "</table>\n",
       "<p>5 rows × 32 columns</p>\n",
       "</div>"
      ],
      "text/plain": [
       "                      fsq_id  \\\n",
       "45  5f2d918d3731e5073cb1d691   \n",
       "46  4c14598fa5eb76b03cb5c1b7   \n",
       "47  5c6fc0c3446ea60037c21fd9   \n",
       "48  4ace7f72f964a520e6d020e3   \n",
       "49  55ff3061498e521acf37b77f   \n",
       "\n",
       "                                           categories chains   closed_bucket  \\\n",
       "45  [{'id': 13002, 'name': 'Bakery', 'short_name':...     []  VeryLikelyOpen   \n",
       "46  [{'id': 13027, 'name': 'Bistro', 'short_name':...     []      LikelyOpen   \n",
       "47  [{'id': 13040, 'name': 'Dessert Shop', 'short_...     []      LikelyOpen   \n",
       "48  [{'id': 13049, 'name': 'Diner', 'short_name': ...     []      LikelyOpen   \n",
       "49  [{'id': 13146, 'name': 'Filipino Restaurant', ...     []      LikelyOpen   \n",
       "\n",
       "    distance                                 link  \\\n",
       "45       425  /v3/places/5f2d918d3731e5073cb1d691   \n",
       "46       428  /v3/places/4c14598fa5eb76b03cb5c1b7   \n",
       "47       429  /v3/places/5c6fc0c3446ea60037c21fd9   \n",
       "48       440  /v3/places/4ace7f72f964a520e6d020e3   \n",
       "49       444  /v3/places/55ff3061498e521acf37b77f   \n",
       "\n",
       "                              name           timezone  \\\n",
       "45                 Melo Patisserie  America/Vancouver   \n",
       "46        Jamies Bistro Restaurant  America/Vancouver   \n",
       "47        Billy Button Dessert Bar  America/Vancouver   \n",
       "48      Josephine's Restaurant Inc  America/Vancouver   \n",
       "49  Klasik Inasal & Noodle Express  America/Vancouver   \n",
       "\n",
       "    geocodes.drop_off.latitude  geocodes.drop_off.longitude  ...  \\\n",
       "45                   49.263710                  -123.101546  ...   \n",
       "46                         NaN                          NaN  ...   \n",
       "47                   49.262922                  -123.101476  ...   \n",
       "48                         NaN                          NaN  ...   \n",
       "49                         NaN                          NaN  ...   \n",
       "\n",
       "    related_places.parent.categories  related_places.parent.name  \\\n",
       "45                               NaN                         NaN   \n",
       "46                               NaN                         NaN   \n",
       "47                               NaN                         NaN   \n",
       "48                               NaN                         NaN   \n",
       "49                               NaN                         NaN   \n",
       "\n",
       "    location.address_extended  bike_station_index related_places.children  \\\n",
       "45                        NaN                 257                     NaN   \n",
       "46                        NaN                 257                     NaN   \n",
       "47                        NaN                 257                     NaN   \n",
       "48                        NaN                 257                     NaN   \n",
       "49                        # 2                 257                     NaN   \n",
       "\n",
       "   geocodes.front_door.latitude geocodes.front_door.longitude location.po_box  \\\n",
       "45                          NaN                           NaN             NaN   \n",
       "46                          NaN                           NaN             NaN   \n",
       "47                          NaN                           NaN             NaN   \n",
       "48                          NaN                           NaN             NaN   \n",
       "49                          NaN                           NaN             NaN   \n",
       "\n",
       "   restaurants parks  \n",
       "45           1     0  \n",
       "46           1     0  \n",
       "47           1     0  \n",
       "48           1     0  \n",
       "49           1     0  \n",
       "\n",
       "[5 rows x 32 columns]"
      ]
     },
     "execution_count": 102,
     "metadata": {},
     "output_type": "execute_result"
    }
   ],
   "source": [
    "# view the last 5 rows\n",
    "df_results_all.tail()"
   ]
  },
  {
   "cell_type": "markdown",
   "metadata": {},
   "source": [
    "we can see from this that we have some missing values in the fsq data. "
   ]
  },
  {
   "cell_type": "code",
   "execution_count": 103,
   "metadata": {},
   "outputs": [
    {
     "name": "stdout",
     "output_type": "stream",
     "text": [
      "<class 'pandas.core.frame.DataFrame'>\n",
      "Index: 10452 entries, 0 to 49\n",
      "Data columns (total 32 columns):\n",
      " #   Column                            Non-Null Count  Dtype  \n",
      "---  ------                            --------------  -----  \n",
      " 0   fsq_id                            10452 non-null  object \n",
      " 1   categories                        10452 non-null  object \n",
      " 2   chains                            10452 non-null  object \n",
      " 3   closed_bucket                     10452 non-null  object \n",
      " 4   distance                          10452 non-null  int64  \n",
      " 5   link                              10452 non-null  object \n",
      " 6   name                              10452 non-null  object \n",
      " 7   timezone                          10141 non-null  object \n",
      " 8   geocodes.drop_off.latitude        4061 non-null   float64\n",
      " 9   geocodes.drop_off.longitude       4061 non-null   float64\n",
      " 10  geocodes.main.latitude            10452 non-null  float64\n",
      " 11  geocodes.main.longitude           10452 non-null  float64\n",
      " 12  geocodes.roof.latitude            10073 non-null  float64\n",
      " 13  geocodes.roof.longitude           10073 non-null  float64\n",
      " 14  location.address                  10141 non-null  object \n",
      " 15  location.country                  10452 non-null  object \n",
      " 16  location.cross_street             9405 non-null   object \n",
      " 17  location.formatted_address        10452 non-null  object \n",
      " 18  location.locality                 10380 non-null  object \n",
      " 19  location.postcode                 9776 non-null   object \n",
      " 20  location.region                   10399 non-null  object \n",
      " 21  related_places.parent.fsq_id      441 non-null    object \n",
      " 22  related_places.parent.categories  441 non-null    object \n",
      " 23  related_places.parent.name        441 non-null    object \n",
      " 24  location.address_extended         1446 non-null   object \n",
      " 25  bike_station_index                10452 non-null  int64  \n",
      " 26  related_places.children           228 non-null    object \n",
      " 27  geocodes.front_door.latitude      37 non-null     float64\n",
      " 28  geocodes.front_door.longitude     37 non-null     float64\n",
      " 29  location.po_box                   23 non-null     object \n",
      " 30  restaurants                       10452 non-null  int64  \n",
      " 31  parks                             10452 non-null  int64  \n",
      "dtypes: float64(8), int64(4), object(20)\n",
      "memory usage: 2.6+ MB\n"
     ]
    }
   ],
   "source": [
    "#check info to see if there are nulls\n",
    "df_results_all.info()"
   ]
  },
  {
   "cell_type": "markdown",
   "metadata": {},
   "source": [
    "There are 6751 rows, this shows we have some null values."
   ]
  },
  {
   "cell_type": "code",
   "execution_count": 104,
   "metadata": {},
   "outputs": [
    {
     "name": "stdout",
     "output_type": "stream",
     "text": [
      "fsq_id                                  0\n",
      "categories                              0\n",
      "chains                                  0\n",
      "closed_bucket                           0\n",
      "distance                                0\n",
      "link                                    0\n",
      "name                                    0\n",
      "timezone                              311\n",
      "geocodes.drop_off.latitude           6391\n",
      "geocodes.drop_off.longitude          6391\n",
      "geocodes.main.latitude                  0\n",
      "geocodes.main.longitude                 0\n",
      "geocodes.roof.latitude                379\n",
      "geocodes.roof.longitude               379\n",
      "location.address                      311\n",
      "location.country                        0\n",
      "location.cross_street                1047\n",
      "location.formatted_address              0\n",
      "location.locality                      72\n",
      "location.postcode                     676\n",
      "location.region                        53\n",
      "related_places.parent.fsq_id        10011\n",
      "related_places.parent.categories    10011\n",
      "related_places.parent.name          10011\n",
      "location.address_extended            9006\n",
      "bike_station_index                      0\n",
      "related_places.children             10224\n",
      "geocodes.front_door.latitude        10415\n",
      "geocodes.front_door.longitude       10415\n",
      "location.po_box                     10429\n",
      "restaurants                             0\n",
      "parks                                   0\n",
      "dtype: int64\n"
     ]
    }
   ],
   "source": [
    "# check for missing values\n",
    "print(df_results_all.isnull().sum())"
   ]
  },
  {
   "cell_type": "code",
   "execution_count": null,
   "metadata": {},
   "outputs": [],
   "source": [
    "# further checks using isna\n",
    "df_results_all.isna().sum()"
   ]
  },
  {
   "cell_type": "markdown",
   "metadata": {},
   "source": [
    "All methods used have shown some missing values in all data. We will be dropping the columns that have nulls since these are also not relevant to our analysis."
   ]
  },
  {
   "cell_type": "code",
   "execution_count": 105,
   "metadata": {},
   "outputs": [
    {
     "data": {
      "text/plain": [
       "Index(['fsq_id', 'categories', 'chains', 'closed_bucket', 'distance', 'link',\n",
       "       'name', 'timezone', 'geocodes.drop_off.latitude',\n",
       "       'geocodes.drop_off.longitude', 'geocodes.main.latitude',\n",
       "       'geocodes.main.longitude', 'geocodes.roof.latitude',\n",
       "       'geocodes.roof.longitude', 'location.address', 'location.country',\n",
       "       'location.cross_street', 'location.formatted_address',\n",
       "       'location.locality', 'location.postcode', 'location.region',\n",
       "       'related_places.parent.fsq_id', 'related_places.parent.categories',\n",
       "       'related_places.parent.name', 'location.address_extended',\n",
       "       'bike_station_index', 'related_places.children',\n",
       "       'geocodes.front_door.latitude', 'geocodes.front_door.longitude',\n",
       "       'location.po_box', 'restaurants', 'parks'],\n",
       "      dtype='object')"
      ]
     },
     "execution_count": 105,
     "metadata": {},
     "output_type": "execute_result"
    }
   ],
   "source": [
    "df_results_all.columns"
   ]
  },
  {
   "cell_type": "code",
   "execution_count": 110,
   "metadata": {},
   "outputs": [],
   "source": [
    "# drop irrelevant columns\n",
    "fsq_data = df_results_all.drop(['chains', 'categories', 'closed_bucket',\n",
    "       'link', 'name', 'timezone', 'geocodes.drop_off.latitude',\n",
    "       'geocodes.drop_off.longitude', 'geocodes.main.latitude',\n",
    "       'geocodes.main.longitude', 'geocodes.roof.latitude',\n",
    "       'geocodes.roof.longitude', 'location.address', 'location.country',\n",
    "       'location.cross_street', 'location.formatted_address',\n",
    "       'location.locality', 'location.postcode', 'location.region', 'location.address_extended',\n",
    "       'related_places.children', 'related_places.parent.fsq_id',\n",
    "       'related_places.parent.categories', 'related_places.parent.name',\n",
    "       'geocodes.front_door.latitude', 'geocodes.front_door.longitude',\n",
    "       'location.po_box'], axis=1)"
   ]
  },
  {
   "cell_type": "code",
   "execution_count": 124,
   "metadata": {},
   "outputs": [],
   "source": [
    "# drop columns in city bike data\n",
    "city_bikes_data = city_bikes_data.drop(['Unnamed: 0'], axis=1)"
   ]
  },
  {
   "cell_type": "code",
   "execution_count": 111,
   "metadata": {},
   "outputs": [
    {
     "data": {
      "text/html": [
       "<div>\n",
       "<style scoped>\n",
       "    .dataframe tbody tr th:only-of-type {\n",
       "        vertical-align: middle;\n",
       "    }\n",
       "\n",
       "    .dataframe tbody tr th {\n",
       "        vertical-align: top;\n",
       "    }\n",
       "\n",
       "    .dataframe thead th {\n",
       "        text-align: right;\n",
       "    }\n",
       "</style>\n",
       "<table border=\"1\" class=\"dataframe\">\n",
       "  <thead>\n",
       "    <tr style=\"text-align: right;\">\n",
       "      <th></th>\n",
       "      <th>fsq_id</th>\n",
       "      <th>distance</th>\n",
       "      <th>bike_station_index</th>\n",
       "      <th>restaurants</th>\n",
       "      <th>parks</th>\n",
       "    </tr>\n",
       "  </thead>\n",
       "  <tbody>\n",
       "    <tr>\n",
       "      <th>0</th>\n",
       "      <td>4aa7455df964a5208e4c20e3</td>\n",
       "      <td>308</td>\n",
       "      <td>0</td>\n",
       "      <td>1</td>\n",
       "      <td>0</td>\n",
       "    </tr>\n",
       "    <tr>\n",
       "      <th>1</th>\n",
       "      <td>4cd8423915d8b60c611f650e</td>\n",
       "      <td>354</td>\n",
       "      <td>0</td>\n",
       "      <td>1</td>\n",
       "      <td>0</td>\n",
       "    </tr>\n",
       "    <tr>\n",
       "      <th>2</th>\n",
       "      <td>5851f5b5297c16529dd5cf93</td>\n",
       "      <td>299</td>\n",
       "      <td>0</td>\n",
       "      <td>1</td>\n",
       "      <td>0</td>\n",
       "    </tr>\n",
       "    <tr>\n",
       "      <th>3</th>\n",
       "      <td>4aa75933f964a520bf4c20e3</td>\n",
       "      <td>400</td>\n",
       "      <td>0</td>\n",
       "      <td>1</td>\n",
       "      <td>0</td>\n",
       "    </tr>\n",
       "    <tr>\n",
       "      <th>4</th>\n",
       "      <td>4abfcaf5f964a5203c9220e3</td>\n",
       "      <td>385</td>\n",
       "      <td>0</td>\n",
       "      <td>1</td>\n",
       "      <td>0</td>\n",
       "    </tr>\n",
       "    <tr>\n",
       "      <th>...</th>\n",
       "      <td>...</td>\n",
       "      <td>...</td>\n",
       "      <td>...</td>\n",
       "      <td>...</td>\n",
       "      <td>...</td>\n",
       "    </tr>\n",
       "    <tr>\n",
       "      <th>45</th>\n",
       "      <td>5f2d918d3731e5073cb1d691</td>\n",
       "      <td>425</td>\n",
       "      <td>257</td>\n",
       "      <td>1</td>\n",
       "      <td>0</td>\n",
       "    </tr>\n",
       "    <tr>\n",
       "      <th>46</th>\n",
       "      <td>4c14598fa5eb76b03cb5c1b7</td>\n",
       "      <td>428</td>\n",
       "      <td>257</td>\n",
       "      <td>1</td>\n",
       "      <td>0</td>\n",
       "    </tr>\n",
       "    <tr>\n",
       "      <th>47</th>\n",
       "      <td>5c6fc0c3446ea60037c21fd9</td>\n",
       "      <td>429</td>\n",
       "      <td>257</td>\n",
       "      <td>1</td>\n",
       "      <td>0</td>\n",
       "    </tr>\n",
       "    <tr>\n",
       "      <th>48</th>\n",
       "      <td>4ace7f72f964a520e6d020e3</td>\n",
       "      <td>440</td>\n",
       "      <td>257</td>\n",
       "      <td>1</td>\n",
       "      <td>0</td>\n",
       "    </tr>\n",
       "    <tr>\n",
       "      <th>49</th>\n",
       "      <td>55ff3061498e521acf37b77f</td>\n",
       "      <td>444</td>\n",
       "      <td>257</td>\n",
       "      <td>1</td>\n",
       "      <td>0</td>\n",
       "    </tr>\n",
       "  </tbody>\n",
       "</table>\n",
       "<p>10452 rows × 5 columns</p>\n",
       "</div>"
      ],
      "text/plain": [
       "                      fsq_id  distance  bike_station_index  restaurants  parks\n",
       "0   4aa7455df964a5208e4c20e3       308                   0            1      0\n",
       "1   4cd8423915d8b60c611f650e       354                   0            1      0\n",
       "2   5851f5b5297c16529dd5cf93       299                   0            1      0\n",
       "3   4aa75933f964a520bf4c20e3       400                   0            1      0\n",
       "4   4abfcaf5f964a5203c9220e3       385                   0            1      0\n",
       "..                       ...       ...                 ...          ...    ...\n",
       "45  5f2d918d3731e5073cb1d691       425                 257            1      0\n",
       "46  4c14598fa5eb76b03cb5c1b7       428                 257            1      0\n",
       "47  5c6fc0c3446ea60037c21fd9       429                 257            1      0\n",
       "48  4ace7f72f964a520e6d020e3       440                 257            1      0\n",
       "49  55ff3061498e521acf37b77f       444                 257            1      0\n",
       "\n",
       "[10452 rows x 5 columns]"
      ]
     },
     "execution_count": 111,
     "metadata": {},
     "output_type": "execute_result"
    }
   ],
   "source": [
    "fsq_data"
   ]
  },
  {
   "cell_type": "code",
   "execution_count": 106,
   "metadata": {},
   "outputs": [
    {
     "name": "stdout",
     "output_type": "stream",
     "text": [
      "<class 'pandas.core.frame.DataFrame'>\n",
      "RangeIndex: 258 entries, 0 to 257\n",
      "Data columns (total 5 columns):\n",
      " #   Column           Non-Null Count  Dtype  \n",
      "---  ------           --------------  -----  \n",
      " 0   Unnamed: 0       258 non-null    int64  \n",
      " 1   Station Name     258 non-null    object \n",
      " 2   Latitude         258 non-null    float64\n",
      " 3   Longitude        258 non-null    float64\n",
      " 4   Available Bikes  258 non-null    int64  \n",
      "dtypes: float64(2), int64(2), object(1)\n",
      "memory usage: 10.2+ KB\n"
     ]
    }
   ],
   "source": [
    "# do the same for city_bikes data\n",
    "# #check info to see if there are nulls\n",
    "city_bikes_data.info()"
   ]
  },
  {
   "cell_type": "markdown",
   "metadata": {},
   "source": [
    "We have 258 rows and all rows for all columns show no missing data."
   ]
  },
  {
   "cell_type": "code",
   "execution_count": 107,
   "metadata": {},
   "outputs": [
    {
     "name": "stdout",
     "output_type": "stream",
     "text": [
      "Unnamed: 0         0\n",
      "Station Name       0\n",
      "Latitude           0\n",
      "Longitude          0\n",
      "Available Bikes    0\n",
      "dtype: int64\n"
     ]
    }
   ],
   "source": [
    "# check for missing values\n",
    "print(city_bikes_data.isnull().sum())"
   ]
  },
  {
   "cell_type": "code",
   "execution_count": 108,
   "metadata": {},
   "outputs": [
    {
     "data": {
      "text/plain": [
       "Unnamed: 0         0\n",
       "Station Name       0\n",
       "Latitude           0\n",
       "Longitude          0\n",
       "Available Bikes    0\n",
       "dtype: int64"
      ]
     },
     "execution_count": 108,
     "metadata": {},
     "output_type": "execute_result"
    }
   ],
   "source": [
    "# further checks using isna\n",
    "city_bikes_data.isna().sum()"
   ]
  },
  {
   "cell_type": "markdown",
   "metadata": {},
   "source": [
    "All methods used have shown no missing values in the city_bike data. We will be dropping the columns that have nulls since these are also not relevant to our analysis."
   ]
  },
  {
   "cell_type": "markdown",
   "metadata": {},
   "source": [
    "## Check Duplicates"
   ]
  },
  {
   "cell_type": "code",
   "execution_count": 112,
   "metadata": {},
   "outputs": [
    {
     "data": {
      "text/plain": [
       "(10452, 5)"
      ]
     },
     "execution_count": 112,
     "metadata": {},
     "output_type": "execute_result"
    }
   ],
   "source": [
    "# Dropping the duplicate rows\n",
    "fsq_data.shape"
   ]
  },
  {
   "cell_type": "code",
   "execution_count": 113,
   "metadata": {},
   "outputs": [
    {
     "name": "stdout",
     "output_type": "stream",
     "text": [
      "number of duplicate rows:  (0, 5)\n"
     ]
    }
   ],
   "source": [
    "#checking for duplicate rows\n",
    "duplicate_rows_df = fsq_data[fsq_data.duplicated()]\n",
    "print(\"number of duplicate rows: \", duplicate_rows_df.shape) # no duplicate rows"
   ]
  },
  {
   "cell_type": "markdown",
   "metadata": {},
   "source": [
    "From the results we can see there are no duplicate rows."
   ]
  },
  {
   "cell_type": "code",
   "execution_count": 114,
   "metadata": {},
   "outputs": [
    {
     "data": {
      "text/plain": [
       "fsq_id                10452\n",
       "distance              10452\n",
       "bike_station_index    10452\n",
       "restaurants           10452\n",
       "parks                 10452\n",
       "dtype: int64"
      ]
     },
     "execution_count": 114,
     "metadata": {},
     "output_type": "execute_result"
    }
   ],
   "source": [
    "fsq_data.count()"
   ]
  },
  {
   "cell_type": "code",
   "execution_count": null,
   "metadata": {},
   "outputs": [
    {
     "data": {
      "text/plain": [
       "(258, 5)"
      ]
     },
     "execution_count": 118,
     "metadata": {},
     "output_type": "execute_result"
    }
   ],
   "source": [
    "# Do same for city_bikes data\n",
    "# Dropping the duplicate rows\n",
    "city_bikes_data.shape"
   ]
  },
  {
   "cell_type": "code",
   "execution_count": 119,
   "metadata": {},
   "outputs": [
    {
     "name": "stdout",
     "output_type": "stream",
     "text": [
      "number of duplicate rows:  (0, 5)\n"
     ]
    }
   ],
   "source": [
    "#checking for duplicate rows\n",
    "duplicate_rows_df = city_bikes_data[city_bikes_data.duplicated()]\n",
    "print(\"number of duplicate rows: \", duplicate_rows_df.shape) # no duplicate rows"
   ]
  },
  {
   "cell_type": "markdown",
   "metadata": {},
   "source": [
    "From the results we can see there are no duplicate rows."
   ]
  },
  {
   "cell_type": "code",
   "execution_count": 120,
   "metadata": {},
   "outputs": [
    {
     "data": {
      "text/plain": [
       "Unnamed: 0         258\n",
       "Station Name       258\n",
       "Latitude           258\n",
       "Longitude          258\n",
       "Available Bikes    258\n",
       "dtype: int64"
      ]
     },
     "execution_count": 120,
     "metadata": {},
     "output_type": "execute_result"
    }
   ],
   "source": [
    "city_bikes_data.count()"
   ]
  },
  {
   "cell_type": "markdown",
   "metadata": {},
   "source": [
    "## Detecting Outliers\n",
    "Boxplot for the variables"
   ]
  },
  {
   "cell_type": "code",
   "execution_count": 117,
   "metadata": {},
   "outputs": [],
   "source": [
    "import pandas as pd\n",
    "import numpy as np\n",
    "import seaborn as sns                       #visualisation\n",
    "import matplotlib.pyplot as plt             #visualisation\n",
    "import plotly.graph_objs as go\n",
    "sns.set_theme()\n",
    "%matplotlib inline     \n",
    "sns.set(color_codes=True)"
   ]
  },
  {
   "cell_type": "code",
   "execution_count": 118,
   "metadata": {},
   "outputs": [
    {
     "data": {
      "image/png": "[encoded data removed]",
      "text/plain": [
       "<Figure size 640x480 with 1 Axes>"
      ]
     },
     "metadata": {},
     "output_type": "display_data"
    }
   ],
   "source": [
    "# Detecting Outliers\n",
    "sns.boxplot(x=fsq_data['distance'])\n",
    "plt.show()"
   ]
  },
  {
   "cell_type": "markdown",
   "metadata": {},
   "source": [
    "There are outliers in the mean of distance variable. This will be kept as is and evaluated again after data joining."
   ]
  },
  {
   "cell_type": "code",
   "execution_count": 133,
   "metadata": {},
   "outputs": [
    {
     "data": {
      "image/png": "[encoded data removed]",
      "text/plain": [
       "<Figure size 640x480 with 1 Axes>"
      ]
     },
     "metadata": {},
     "output_type": "display_data"
    }
   ],
   "source": [
    "sns.boxplot(x=city_bikes_data['Latitude'])\n",
    "plt.show()"
   ]
  },
  {
   "cell_type": "code",
   "execution_count": 131,
   "metadata": {},
   "outputs": [
    {
     "data": {
      "image/png": "[encoded data removed]",
      "text/plain": [
       "<Figure size 640x480 with 1 Axes>"
      ]
     },
     "metadata": {},
     "output_type": "display_data"
    }
   ],
   "source": [
    "sns.boxplot(x=city_bikes_data['Longitude'])\n",
    "plt.show()"
   ]
  },
  {
   "cell_type": "code",
   "execution_count": 141,
   "metadata": {},
   "outputs": [
    {
     "data": {
      "image/png": "[encoded data removed]",
      "text/plain": [
       "<Figure size 640x480 with 1 Axes>"
      ]
     },
     "metadata": {},
     "output_type": "display_data"
    }
   ],
   "source": [
    "# box plot for free bikes\n",
    "sns.boxplot(x=city_bikes_data['Available Bikes'])\n",
    "plt.show()"
   ]
  },
  {
   "cell_type": "code",
   "execution_count": 121,
   "metadata": {},
   "outputs": [
    {
     "data": {
      "image/png": "[encoded data removed]",
      "text/plain": [
       "<Figure size 1000x500 with 2 Axes>"
      ]
     },
     "metadata": {},
     "output_type": "display_data"
    }
   ],
   "source": [
    "# Heat Maps\n",
    "plt.figure(figsize=(10,5))\n",
    "c= fsq_data.corr(numeric_only=True)\n",
    "sns.heatmap(c,cmap=\"BrBG\",annot=True)\n",
    "c\n",
    "plt.show()"
   ]
  },
  {
   "cell_type": "code",
   "execution_count": 143,
   "metadata": {},
   "outputs": [
    {
     "data": {
      "text/plain": [
       "<Figure size 1000x500 with 0 Axes>"
      ]
     },
     "metadata": {},
     "output_type": "display_data"
    },
    {
     "data": {
      "image/png": "[encoded data removed]",
      "text/plain": [
       "<Figure size 1000x500 with 2 Axes>"
      ]
     },
     "metadata": {},
     "output_type": "display_data"
    }
   ],
   "source": [
    "# Heat Maps\n",
    "plt.figure(figsize=(10,5))\n",
    "c= city_bikes_data.corr(numeric_only=True)\n",
    "sns.heatmap(c,cmap=\"BrBG\",annot=True)\n",
    "c\n",
    "plt.show()"
   ]
  },
  {
   "cell_type": "markdown",
   "metadata": {},
   "source": [
    "The heat maps above shows low correlation between the variables (features)"
   ]
  },
  {
   "cell_type": "code",
   "execution_count": 149,
   "metadata": {},
   "outputs": [
    {
     "data": {
      "image/png": "[encoded data removed]",
      "text/plain": [
       "<Figure size 640x480 with 1 Axes>"
      ]
     },
     "metadata": {},
     "output_type": "display_data"
    }
   ],
   "source": [
    "# Plot different features against one another (scatter), against frequency (histogram)\n",
    "# Histogram\n",
    "\n",
    "# Plotting a basic histogram\n",
    "plt.hist(city_bikes_data['Available Bikes'], bins=30, color='skyblue', edgecolor='black')\n",
    " \n",
    "# Adding labels and title\n",
    "plt.xlabel('Available Bikes')\n",
    "plt.ylabel('Frequency')\n",
    " \n",
    "# Display the plot\n",
    "plt.show()"
   ]
  },
  {
   "cell_type": "markdown",
   "metadata": {},
   "source": [
    "The scatter plot will be provided in the joining he data section after joining the data."
   ]
  },
  {
   "cell_type": "code",
   "execution_count": 119,
   "metadata": {},
   "outputs": [],
   "source": [
    "# Save the clean data to a csv file\n",
    "fsq_data.to_csv('fsq_data_cleaned.csv')\n"
   ]
  },
  {
   "cell_type": "code",
   "execution_count": 125,
   "metadata": {},
   "outputs": [],
   "source": [
    "city_bikes_data.to_csv('city_bikes_cleaned.csv')"
   ]
  }
 ],
 "metadata": {
  "kernelspec": {
   "display_name": "base",
   "language": "python",
   "name": "python3"
  },
  "language_info": {
   "codemirror_mode": {
    "name": "ipython",
    "version": 3
   },
   "file_extension": ".py",
   "mimetype": "text/x-python",
   "name": "python",
   "nbconvert_exporter": "python",
   "pygments_lexer": "ipython3",
   "version": "3.12.7"
  }
 },
 "nbformat": 4,
 "nbformat_minor": 4
}
