{
 "cells": [
  {
   "cell_type": "markdown",
   "metadata": {},
   "source": [
    "Join the data from Part 1 with the data from Part 2 to create a new dataframe."
   ]
  },
  {
   "cell_type": "code",
   "execution_count": 3,
   "metadata": {},
   "outputs": [],
   "source": [
    "import pandas as pd\n",
    "import numpy as np"
   ]
  },
  {
   "cell_type": "code",
   "execution_count": 53,
   "metadata": {},
   "outputs": [],
   "source": [
    "# getting the joined data\n",
    "df_city_bikes = pd.read_csv('city_bikes_df.csv')"
   ]
  },
  {
   "cell_type": "code",
   "execution_count": 47,
   "metadata": {},
   "outputs": [
    {
     "data": {
      "text/plain": [
       "Index(['Unnamed: 0', 'id', 'name', 'latitude', 'longitude', 'timestamp',\n",
       "       'free_bikes', 'empty_slots', 'extra.uid', 'extra.renting',\n",
       "       'extra.returning', 'extra.last_updated', 'extra.slots',\n",
       "       'extra.normal_bikes', 'extra.ebikes', 'extra.has_ebikes'],\n",
       "      dtype='object')"
      ]
     },
     "execution_count": 47,
     "metadata": {},
     "output_type": "execute_result"
    }
   ],
   "source": [
    "# view columns\n",
    "city_bike_share.columns"
   ]
  },
  {
   "cell_type": "code",
   "execution_count": 36,
   "metadata": {},
   "outputs": [],
   "source": [
    "city_bike_share_columns = pd.read_csv('city_bike_column_dropped.csv')"
   ]
  },
  {
   "cell_type": "code",
   "execution_count": 37,
   "metadata": {},
   "outputs": [
    {
     "data": {
      "text/plain": [
       "Index(['Unnamed: 0.1', 'fsq_id', 'categories', 'chains', 'closed_bucket',\n",
       "       'distance', 'link', 'name_x', 'timezone', 'geocodes.main.latitude',\n",
       "       'geocodes.main.longitude', 'geocodes.roof.latitude',\n",
       "       'geocodes.roof.longitude', 'location.address', 'location.country',\n",
       "       'location.cross_street', 'location.formatted_address',\n",
       "       'location.locality', 'location.postcode', 'location.region',\n",
       "       'related_places.parent.fsq_id', 'related_places.parent.categories',\n",
       "       'related_places.parent.name', 'geocodes.drop_off.latitude',\n",
       "       'geocodes.drop_off.longitude', 'related_places.children',\n",
       "       'location.address_extended', 'bike_station_index', 'location.po_box',\n",
       "       'geocodes.front_door.latitude', 'geocodes.front_door.longitude',\n",
       "       'Unnamed: 0', 'id', 'name_y', 'latitude', 'longitude', 'timestamp',\n",
       "       'free_bikes', 'empty_slots', 'extra.uid', 'extra.renting',\n",
       "       'extra.returning', 'extra.last_updated', 'extra.slots',\n",
       "       'extra.normal_bikes', 'extra.ebikes', 'extra.has_ebikes'],\n",
       "      dtype='object')"
      ]
     },
     "execution_count": 37,
     "metadata": {},
     "output_type": "execute_result"
    }
   ],
   "source": [
    "city_bike_share_columns.columns"
   ]
  },
  {
   "cell_type": "code",
   "execution_count": null,
   "metadata": {},
   "outputs": [],
   "source": [
    "df_dropped_columns = city_bike_share_columns.drop(['extra.uid', 'extra.renting',\n",
    "       'extra.returning', 'extra.last_updated', 'extra.slots',\n",
    "       'extra.normal_bikes', 'extra.ebikes', 'extra.has_ebikes'], axis=1)"
   ]
  },
  {
   "cell_type": "code",
   "execution_count": null,
   "metadata": {},
   "outputs": [
    {
     "data": {
      "text/plain": [
       "Index(['Unnamed: 0.1', 'fsq_id', 'categories', 'chains', 'closed_bucket',\n",
       "       'distance', 'link', 'name_x', 'timezone', 'geocodes.main.latitude',\n",
       "       'geocodes.main.longitude', 'geocodes.roof.latitude',\n",
       "       'geocodes.roof.longitude', 'location.address', 'location.country',\n",
       "       'location.cross_street', 'location.formatted_address',\n",
       "       'location.locality', 'location.postcode', 'location.region',\n",
       "       'related_places.parent.fsq_id', 'related_places.parent.categories',\n",
       "       'related_places.parent.name', 'geocodes.drop_off.latitude',\n",
       "       'geocodes.drop_off.longitude', 'related_places.children',\n",
       "       'location.address_extended', 'bike_station_index', 'location.po_box',\n",
       "       'geocodes.front_door.latitude', 'geocodes.front_door.longitude',\n",
       "       'Unnamed: 0', 'id', 'name_y', 'latitude', 'longitude', 'timestamp',\n",
       "       'free_bikes', 'empty_slots'],\n",
       "      dtype='object')"
      ]
     },
     "metadata": {},
     "output_type": "display_data"
    }
   ],
   "source": [
    "df_dropped_columns.columns"
   ]
  },
  {
   "cell_type": "code",
   "execution_count": null,
   "metadata": {},
   "outputs": [
    {
     "data": {
      "text/plain": [
       "categories\n",
       "[{'id': 18021, 'name': 'Gym and Studio', 'short_name': 'Gym and Studio', 'plural_name': 'Gym and Studios', 'icon': {'prefix': 'https://ss3.4sqi.net/img/categories_v2/building/gym_', 'suffix': '.png'}}]                                                                                                                                                                                                                                                                                                                                                                                                                                                           2239\n",
       "[{'id': 16032, 'name': 'Park', 'short_name': 'Park', 'plural_name': 'Parks', 'icon': {'prefix': 'https://ss3.4sqi.net/img/categories_v2/parks_outdoors/park_', 'suffix': '.png'}}]                                                                                                                                                                                                                                                                                                                                                                                                                                                                                  1826\n",
       "[{'id': 18000, 'name': 'Sports and Recreation', 'short_name': 'Sports and Recreation', 'plural_name': 'Sports and Recreation', 'icon': {'prefix': 'https://ss3.4sqi.net/img/categories_v2/shops/sports_outdoors_', 'suffix': '.png'}}]                                                                                                                                                                                                                                                                                                                                                                                                                               636\n",
       "[{'id': 18028, 'name': 'Yoga Studio', 'short_name': 'Yoga Studio', 'plural_name': 'Yoga Studios', 'icon': {'prefix': 'https://ss3.4sqi.net/img/categories_v2/shops/gym_yogastudio_', 'suffix': '.png'}}]                                                                                                                                                                                                                                                                                                                                                                                                                                                             579\n",
       "[{'id': 18036, 'name': 'Martial Arts Dojo', 'short_name': 'Martial Arts Dojo', 'plural_name': 'Martial Arts Dojos', 'icon': {'prefix': 'https://ss3.4sqi.net/img/categories_v2/shops/gym_martialarts_', 'suffix': '.png'}}]                                                                                                                                                                                                                                                                                                                                                                                                                                          481\n",
       "                                                                                                                                                                                                                                                                                                                                                                                                                                                                                                                                                                                                                                                                    ... \n",
       "[{'id': 13276, 'name': 'Sushi Restaurant', 'short_name': 'Sushi', 'plural_name': 'Sushi Restaurants', 'icon': {'prefix': 'https://ss3.4sqi.net/img/categories_v2/food/sushi_', 'suffix': '.png'}}, {'id': 19047, 'name': 'Rail Station', 'short_name': 'Rail Station', 'plural_name': 'Rail Stations', 'icon': {'prefix': 'https://ss3.4sqi.net/img/categories_v2/travel/trainstation_', 'suffix': '.png'}}]                                                                                                                                                                                                                                                           1\n",
       "[{'id': 18044, 'name': 'Squash Court', 'short_name': 'Squash Court', 'plural_name': 'Squash Courts', 'icon': {'prefix': 'https://ss3.4sqi.net/img/categories_v2/arts_entertainment/stadium_tennis_', 'suffix': '.png'}}]                                                                                                                                                                                                                                                                                                                                                                                                                                               1\n",
       "[{'id': 17031, 'name': 'Costume Store', 'short_name': 'Costume Store', 'plural_name': 'Costume Stores', 'icon': {'prefix': 'https://ss3.4sqi.net/img/categories_v2/shops/default_', 'suffix': '.png'}}, {'id': 18025, 'name': 'Dance Studio', 'short_name': 'Dance Studio', 'plural_name': 'Dance Studios', 'icon': {'prefix': 'https://ss3.4sqi.net/img/categories_v2/arts_entertainment/performingarts_dancestudio_', 'suffix': '.png'}}]                                                                                                                                                                                                                            1\n",
       "[{'id': 17117, 'name': 'Sporting Goods Retail', 'short_name': 'Sporting Goods Retail', 'plural_name': 'Sporting Goods Retail', 'icon': {'prefix': 'https://ss3.4sqi.net/img/categories_v2/shops/sports_outdoors_', 'suffix': '.png'}}, {'id': 18056, 'name': 'Skating Rink', 'short_name': 'Skating Rink', 'plural_name': 'Skating Rinks', 'icon': {'prefix': 'https://ss3.4sqi.net/img/categories_v2/parks_outdoors/skatingrink_', 'suffix': '.png'}}, {'id': 18065, 'name': 'Sports Club', 'short_name': 'Sports Club', 'plural_name': 'Sports Clubs', 'icon': {'prefix': 'https://ss3.4sqi.net/img/categories_v2/shops/sports_outdoors_', 'suffix': '.png'}}]       1\n",
       "[{'id': 13049, 'name': 'Diner', 'short_name': 'Diner', 'plural_name': 'Diners', 'icon': {'prefix': 'https://ss3.4sqi.net/img/categories_v2/food/diner_', 'suffix': '.png'}}, {'id': 13134, 'name': 'Comfort Food Restaurant', 'short_name': 'Comfort Food', 'plural_name': 'Comfort Food Restaurants', 'icon': {'prefix': 'https://ss3.4sqi.net/img/categories_v2/food/default_', 'suffix': '.png'}}]                                                                                                                                                                                                                                                                  1\n",
       "Name: count, Length: 216, dtype: int64"
      ]
     },
     "metadata": {},
     "output_type": "display_data"
    }
   ],
   "source": [
    "df_dropped_columns['categories'].value_counts()"
   ]
  },
  {
   "cell_type": "code",
   "execution_count": null,
   "metadata": {},
   "outputs": [],
   "source": [
    "df_dropped_columns['name_y'].value_counts() # note that name_y is the stations. This is going to be renamed to stations for a clearer understanding.count\n",
    "df_dropped_columns['stations'] = df_dropped_columns['name_y']"
   ]
  },
  {
   "cell_type": "code",
   "execution_count": null,
   "metadata": {},
   "outputs": [
    {
     "data": {
      "text/plain": [
       "stations                              \n",
       "10th & Cambie                             50\n",
       "Cypress & 10th                            50\n",
       "10th & Columbia                           50\n",
       "Dunbar & Broadway                         50\n",
       "Dunsmuir & Beatty                         50\n",
       "                                          ..\n",
       "Brock Commons                             20\n",
       "Trimble & 8th                             19\n",
       "Sasamat & 10th                            16\n",
       "Arbutus & Nanton                          14\n",
       "Stanley Park - Third Beach Parking Lot     6\n",
       "Name: count, Length: 258, dtype: int64"
      ]
     },
     "metadata": {},
     "output_type": "display_data"
    }
   ],
   "source": [
    "df_dropped_columns[['stations']].value_counts()"
   ]
  },
  {
   "cell_type": "code",
   "execution_count": null,
   "metadata": {},
   "outputs": [
    {
     "data": {
      "text/plain": [
       "name_x                         \n",
       "Fitness World                      120\n",
       "Caffe Barney                        50\n",
       "Orangetheory Fitness                50\n",
       "Robert Lee YMCA Pool                49\n",
       "Creekside Park                      49\n",
       "                                  ... \n",
       "IDance Studios                       1\n",
       "Stella Gym                           1\n",
       "Unity Integration Studios            1\n",
       "Devine Fitness & Pilates             1\n",
       "kerrisdale cyclone Taylor arena      1\n",
       "Name: count, Length: 960, dtype: int64"
      ]
     },
     "metadata": {},
     "output_type": "display_data"
    }
   ],
   "source": [
    "df_dropped_columns[['name_x']].value_counts()"
   ]
  },
  {
   "cell_type": "code",
   "execution_count": null,
   "metadata": {},
   "outputs": [
    {
     "data": {
      "text/plain": [
       "fsq_id                  \n",
       "5806abc3d67c62c5c465643d    49\n",
       "5501d248498ec8482e74c7f4    48\n",
       "4d2d106da40da35d3af78e77    47\n",
       "51f58381498ea9240bf344ce    46\n",
       "4d114e17437c236a5d6c8e7d    45\n",
       "                            ..\n",
       "4bc18891920eb71349ef1a2c     1\n",
       "948d7cf7b1a140a63b4eee52     1\n",
       "93f88e578e55429cba8ac936     1\n",
       "542dd7c3498ef8a716fff6d9     1\n",
       "ff1254690f7e47b98456aa08     1\n",
       "Name: count, Length: 1013, dtype: int64"
      ]
     },
     "metadata": {},
     "output_type": "display_data"
    }
   ],
   "source": [
    "df_dropped_columns[['fsq_id']].value_counts()"
   ]
  },
  {
   "cell_type": "code",
   "execution_count": null,
   "metadata": {},
   "outputs": [],
   "source": [
    "df_dropped_columns_sorted = df_dropped_columns.sort_values('categories')"
   ]
  },
  {
   "cell_type": "code",
   "execution_count": null,
   "metadata": {},
   "outputs": [],
   "source": [
    "#sb.scatterplot(x=df_results_all['geocodes.main.longitude'],y=df_results_all['geocodes.main.latitude'],c='b')"
   ]
  },
  {
   "cell_type": "code",
   "execution_count": null,
   "metadata": {},
   "outputs": [],
   "source": [
    "# Convert string representation of lists into actual lists\n",
    "import ast\n",
    "df_dropped_columns_sorted['categories'] = df_dropped_columns_sorted['categories'].apply(ast.literal_eval)"
   ]
  },
  {
   "cell_type": "code",
   "execution_count": null,
   "metadata": {},
   "outputs": [],
   "source": [
    "# Extract category names\n",
    "df_dropped_columns_sorted['category_names'] = df_dropped_columns_sorted['categories'].apply(lambda x: [d['name'] for d in x])"
   ]
  },
  {
   "cell_type": "code",
   "execution_count": null,
   "metadata": {},
   "outputs": [],
   "source": [
    "# view the first 5 rows\n",
    "#df_dropped_columns_sorted.head()"
   ]
  },
  {
   "cell_type": "code",
   "execution_count": null,
   "metadata": {},
   "outputs": [],
   "source": [
    "df_dropped_columns_sorted['cat_names'] = [','.join(map(str, l)) for l in df_dropped_columns_sorted['category_names']]"
   ]
  },
  {
   "cell_type": "code",
   "execution_count": null,
   "metadata": {},
   "outputs": [
    {
     "data": {
      "text/plain": [
       "Unnamed: 0.1                            0\n",
       "fsq_id                                  0\n",
       "categories                              0\n",
       "chains                                  0\n",
       "closed_bucket                           0\n",
       "distance                                0\n",
       "link                                    0\n",
       "name_x                                  0\n",
       "timezone                             1448\n",
       "geocodes.main.latitude                  0\n",
       "geocodes.main.longitude                 0\n",
       "geocodes.roof.latitude               1122\n",
       "geocodes.roof.longitude              1122\n",
       "location.address                     1090\n",
       "location.country                        0\n",
       "location.cross_street                7130\n",
       "location.formatted_address            304\n",
       "location.locality                     385\n",
       "location.postcode                    2861\n",
       "location.region                       304\n",
       "related_places.parent.fsq_id        11047\n",
       "related_places.parent.categories    11047\n",
       "related_places.parent.name          11047\n",
       "geocodes.drop_off.latitude           7582\n",
       "geocodes.drop_off.longitude          7582\n",
       "related_places.children             10897\n",
       "location.address_extended            9911\n",
       "bike_station_index                      0\n",
       "location.po_box                     11472\n",
       "geocodes.front_door.latitude        11452\n",
       "geocodes.front_door.longitude       11452\n",
       "Unnamed: 0                              0\n",
       "id                                      0\n",
       "name_y                                  0\n",
       "latitude                                0\n",
       "longitude                               0\n",
       "timestamp                               0\n",
       "free_bikes                              0\n",
       "empty_slots                             0\n",
       "stations                                0\n",
       "category_names                          0\n",
       "cat_names                               0\n",
       "dtype: int64"
      ]
     },
     "metadata": {},
     "output_type": "display_data"
    }
   ],
   "source": [
    "# df_dropped_columns_sorted.isnull().sum()"
   ]
  },
  {
   "cell_type": "markdown",
   "metadata": {},
   "source": []
  },
  {
   "cell_type": "code",
   "execution_count": 38,
   "metadata": {},
   "outputs": [],
   "source": [
    "# read the saved API data\n",
    "data = pd.read_csv('final_data.csv')"
   ]
  },
  {
   "cell_type": "code",
   "execution_count": 39,
   "metadata": {},
   "outputs": [
    {
     "data": {
      "text/html": [
       "<div>\n",
       "<style scoped>\n",
       "    .dataframe tbody tr th:only-of-type {\n",
       "        vertical-align: middle;\n",
       "    }\n",
       "\n",
       "    .dataframe tbody tr th {\n",
       "        vertical-align: top;\n",
       "    }\n",
       "\n",
       "    .dataframe thead th {\n",
       "        text-align: right;\n",
       "    }\n",
       "</style>\n",
       "<table border=\"1\" class=\"dataframe\">\n",
       "  <thead>\n",
       "    <tr style=\"text-align: right;\">\n",
       "      <th></th>\n",
       "      <th>Unnamed: 0.2</th>\n",
       "      <th>Unnamed: 0.1</th>\n",
       "      <th>fsq_id</th>\n",
       "      <th>categories</th>\n",
       "      <th>chains</th>\n",
       "      <th>closed_bucket</th>\n",
       "      <th>distance</th>\n",
       "      <th>link</th>\n",
       "      <th>name_x</th>\n",
       "      <th>timezone</th>\n",
       "      <th>...</th>\n",
       "      <th>name_y</th>\n",
       "      <th>latitude</th>\n",
       "      <th>longitude</th>\n",
       "      <th>timestamp</th>\n",
       "      <th>free_bikes</th>\n",
       "      <th>empty_slots</th>\n",
       "      <th>stations</th>\n",
       "      <th>category_names</th>\n",
       "      <th>cat_names</th>\n",
       "      <th>category_group</th>\n",
       "    </tr>\n",
       "  </thead>\n",
       "  <tbody>\n",
       "    <tr>\n",
       "      <th>0</th>\n",
       "      <td>11501</td>\n",
       "      <td>11501</td>\n",
       "      <td>a1bc6053934e4395a5b80379</td>\n",
       "      <td>[{'id': 10000, 'name': 'Arts and Entertainment...</td>\n",
       "      <td>[]</td>\n",
       "      <td>LikelyOpen</td>\n",
       "      <td>836</td>\n",
       "      <td>/v3/places/a1bc6053934e4395a5b80379</td>\n",
       "      <td>First Dance Vancouver</td>\n",
       "      <td>NaN</td>\n",
       "      <td>...</td>\n",
       "      <td>8th &amp; Prince Edward</td>\n",
       "      <td>49.263518</td>\n",
       "      <td>-123.095680</td>\n",
       "      <td>2025-02-08T08:10:50.530814Z</td>\n",
       "      <td>8</td>\n",
       "      <td>10</td>\n",
       "      <td>8th &amp; Prince Edward</td>\n",
       "      <td>['Arts and Entertainment', 'Dance Studio']</td>\n",
       "      <td>Arts and Entertainment,Dance Studio</td>\n",
       "      <td>unknown</td>\n",
       "    </tr>\n",
       "    <tr>\n",
       "      <th>1</th>\n",
       "      <td>10654</td>\n",
       "      <td>10654</td>\n",
       "      <td>13723319ace94aa3d0ed4bc9</td>\n",
       "      <td>[{'id': 10000, 'name': 'Arts and Entertainment...</td>\n",
       "      <td>[]</td>\n",
       "      <td>Unsure</td>\n",
       "      <td>850</td>\n",
       "      <td>/v3/places/13723319ace94aa3d0ed4bc9</td>\n",
       "      <td>Salsa &amp; Tango Dance Susana Domingues</td>\n",
       "      <td>NaN</td>\n",
       "      <td>...</td>\n",
       "      <td>18th &amp; Cambie</td>\n",
       "      <td>49.254818</td>\n",
       "      <td>-123.114785</td>\n",
       "      <td>2025-02-08T08:10:50.556346Z</td>\n",
       "      <td>6</td>\n",
       "      <td>18</td>\n",
       "      <td>18th &amp; Cambie</td>\n",
       "      <td>['Arts and Entertainment', 'Dance Studio']</td>\n",
       "      <td>Arts and Entertainment,Dance Studio</td>\n",
       "      <td>unknown</td>\n",
       "    </tr>\n",
       "    <tr>\n",
       "      <th>2</th>\n",
       "      <td>494</td>\n",
       "      <td>494</td>\n",
       "      <td>13723319ace94aa3d0ed4bc9</td>\n",
       "      <td>[{'id': 10000, 'name': 'Arts and Entertainment...</td>\n",
       "      <td>[]</td>\n",
       "      <td>Unsure</td>\n",
       "      <td>450</td>\n",
       "      <td>/v3/places/13723319ace94aa3d0ed4bc9</td>\n",
       "      <td>Salsa &amp; Tango Dance Susana Domingues</td>\n",
       "      <td>NaN</td>\n",
       "      <td>...</td>\n",
       "      <td>13th &amp; Cambie</td>\n",
       "      <td>49.259579</td>\n",
       "      <td>-123.114769</td>\n",
       "      <td>2025-02-08T08:10:50.532118Z</td>\n",
       "      <td>5</td>\n",
       "      <td>9</td>\n",
       "      <td>13th &amp; Cambie</td>\n",
       "      <td>['Arts and Entertainment', 'Dance Studio']</td>\n",
       "      <td>Arts and Entertainment,Dance Studio</td>\n",
       "      <td>unknown</td>\n",
       "    </tr>\n",
       "    <tr>\n",
       "      <th>3</th>\n",
       "      <td>6935</td>\n",
       "      <td>6935</td>\n",
       "      <td>4d2621522f77a09011c60cf1</td>\n",
       "      <td>[{'id': 10000, 'name': 'Arts and Entertainment...</td>\n",
       "      <td>[]</td>\n",
       "      <td>LikelyOpen</td>\n",
       "      <td>859</td>\n",
       "      <td>/v3/places/4d2621522f77a09011c60cf1</td>\n",
       "      <td>Night and Day Dance</td>\n",
       "      <td>America/Vancouver</td>\n",
       "      <td>...</td>\n",
       "      <td>Princess &amp; Union</td>\n",
       "      <td>49.277615</td>\n",
       "      <td>-123.091654</td>\n",
       "      <td>2025-02-08T08:10:50.528136Z</td>\n",
       "      <td>8</td>\n",
       "      <td>4</td>\n",
       "      <td>Princess &amp; Union</td>\n",
       "      <td>['Arts and Entertainment', 'Dance Studio']</td>\n",
       "      <td>Arts and Entertainment,Dance Studio</td>\n",
       "      <td>unknown</td>\n",
       "    </tr>\n",
       "    <tr>\n",
       "      <th>4</th>\n",
       "      <td>6848</td>\n",
       "      <td>6848</td>\n",
       "      <td>13723319ace94aa3d0ed4bc9</td>\n",
       "      <td>[{'id': 10000, 'name': 'Arts and Entertainment...</td>\n",
       "      <td>[]</td>\n",
       "      <td>Unsure</td>\n",
       "      <td>863</td>\n",
       "      <td>/v3/places/13723319ace94aa3d0ed4bc9</td>\n",
       "      <td>Salsa &amp; Tango Dance Susana Domingues</td>\n",
       "      <td>NaN</td>\n",
       "      <td>...</td>\n",
       "      <td>Charleson Park</td>\n",
       "      <td>49.267628</td>\n",
       "      <td>-123.127698</td>\n",
       "      <td>2025-02-08T08:10:50.299604Z</td>\n",
       "      <td>10</td>\n",
       "      <td>4</td>\n",
       "      <td>Charleson Park</td>\n",
       "      <td>['Arts and Entertainment', 'Dance Studio']</td>\n",
       "      <td>Arts and Entertainment,Dance Studio</td>\n",
       "      <td>unknown</td>\n",
       "    </tr>\n",
       "  </tbody>\n",
       "</table>\n",
       "<p>5 rows × 44 columns</p>\n",
       "</div>"
      ],
      "text/plain": [
       "   Unnamed: 0.2  Unnamed: 0.1                    fsq_id  \\\n",
       "0         11501         11501  a1bc6053934e4395a5b80379   \n",
       "1         10654         10654  13723319ace94aa3d0ed4bc9   \n",
       "2           494           494  13723319ace94aa3d0ed4bc9   \n",
       "3          6935          6935  4d2621522f77a09011c60cf1   \n",
       "4          6848          6848  13723319ace94aa3d0ed4bc9   \n",
       "\n",
       "                                          categories chains closed_bucket  \\\n",
       "0  [{'id': 10000, 'name': 'Arts and Entertainment...     []    LikelyOpen   \n",
       "1  [{'id': 10000, 'name': 'Arts and Entertainment...     []        Unsure   \n",
       "2  [{'id': 10000, 'name': 'Arts and Entertainment...     []        Unsure   \n",
       "3  [{'id': 10000, 'name': 'Arts and Entertainment...     []    LikelyOpen   \n",
       "4  [{'id': 10000, 'name': 'Arts and Entertainment...     []        Unsure   \n",
       "\n",
       "   distance                                 link  \\\n",
       "0       836  /v3/places/a1bc6053934e4395a5b80379   \n",
       "1       850  /v3/places/13723319ace94aa3d0ed4bc9   \n",
       "2       450  /v3/places/13723319ace94aa3d0ed4bc9   \n",
       "3       859  /v3/places/4d2621522f77a09011c60cf1   \n",
       "4       863  /v3/places/13723319ace94aa3d0ed4bc9   \n",
       "\n",
       "                                 name_x           timezone  ...  \\\n",
       "0                 First Dance Vancouver                NaN  ...   \n",
       "1  Salsa & Tango Dance Susana Domingues                NaN  ...   \n",
       "2  Salsa & Tango Dance Susana Domingues                NaN  ...   \n",
       "3                   Night and Day Dance  America/Vancouver  ...   \n",
       "4  Salsa & Tango Dance Susana Domingues                NaN  ...   \n",
       "\n",
       "                name_y   latitude   longitude                    timestamp  \\\n",
       "0  8th & Prince Edward  49.263518 -123.095680  2025-02-08T08:10:50.530814Z   \n",
       "1        18th & Cambie  49.254818 -123.114785  2025-02-08T08:10:50.556346Z   \n",
       "2        13th & Cambie  49.259579 -123.114769  2025-02-08T08:10:50.532118Z   \n",
       "3     Princess & Union  49.277615 -123.091654  2025-02-08T08:10:50.528136Z   \n",
       "4       Charleson Park  49.267628 -123.127698  2025-02-08T08:10:50.299604Z   \n",
       "\n",
       "  free_bikes empty_slots             stations  \\\n",
       "0          8          10  8th & Prince Edward   \n",
       "1          6          18        18th & Cambie   \n",
       "2          5           9        13th & Cambie   \n",
       "3          8           4     Princess & Union   \n",
       "4         10           4       Charleson Park   \n",
       "\n",
       "                               category_names  \\\n",
       "0  ['Arts and Entertainment', 'Dance Studio']   \n",
       "1  ['Arts and Entertainment', 'Dance Studio']   \n",
       "2  ['Arts and Entertainment', 'Dance Studio']   \n",
       "3  ['Arts and Entertainment', 'Dance Studio']   \n",
       "4  ['Arts and Entertainment', 'Dance Studio']   \n",
       "\n",
       "                             cat_names category_group  \n",
       "0  Arts and Entertainment,Dance Studio        unknown  \n",
       "1  Arts and Entertainment,Dance Studio        unknown  \n",
       "2  Arts and Entertainment,Dance Studio        unknown  \n",
       "3  Arts and Entertainment,Dance Studio        unknown  \n",
       "4  Arts and Entertainment,Dance Studio        unknown  \n",
       "\n",
       "[5 rows x 44 columns]"
      ]
     },
     "execution_count": 39,
     "metadata": {},
     "output_type": "execute_result"
    }
   ],
   "source": [
    "data.head()"
   ]
  },
  {
   "cell_type": "markdown",
   "metadata": {},
   "source": [
    "## Group and Join Data"
   ]
  },
  {
   "cell_type": "code",
   "execution_count": 41,
   "metadata": {},
   "outputs": [
    {
     "data": {
      "text/html": [
       "<div>\n",
       "<style scoped>\n",
       "    .dataframe tbody tr th:only-of-type {\n",
       "        vertical-align: middle;\n",
       "    }\n",
       "\n",
       "    .dataframe tbody tr th {\n",
       "        vertical-align: top;\n",
       "    }\n",
       "\n",
       "    .dataframe thead th {\n",
       "        text-align: right;\n",
       "    }\n",
       "</style>\n",
       "<table border=\"1\" class=\"dataframe\">\n",
       "  <thead>\n",
       "    <tr style=\"text-align: right;\">\n",
       "      <th></th>\n",
       "      <th>bike_station_index</th>\n",
       "      <th>distance</th>\n",
       "    </tr>\n",
       "  </thead>\n",
       "  <tbody>\n",
       "    <tr>\n",
       "      <th>0</th>\n",
       "      <td>0</td>\n",
       "      <td>172</td>\n",
       "    </tr>\n",
       "    <tr>\n",
       "      <th>1</th>\n",
       "      <td>1</td>\n",
       "      <td>82</td>\n",
       "    </tr>\n",
       "    <tr>\n",
       "      <th>2</th>\n",
       "      <td>2</td>\n",
       "      <td>90</td>\n",
       "    </tr>\n",
       "    <tr>\n",
       "      <th>3</th>\n",
       "      <td>3</td>\n",
       "      <td>46</td>\n",
       "    </tr>\n",
       "    <tr>\n",
       "      <th>4</th>\n",
       "      <td>4</td>\n",
       "      <td>216</td>\n",
       "    </tr>\n",
       "    <tr>\n",
       "      <th>...</th>\n",
       "      <td>...</td>\n",
       "      <td>...</td>\n",
       "    </tr>\n",
       "    <tr>\n",
       "      <th>253</th>\n",
       "      <td>253</td>\n",
       "      <td>171</td>\n",
       "    </tr>\n",
       "    <tr>\n",
       "      <th>254</th>\n",
       "      <td>254</td>\n",
       "      <td>108</td>\n",
       "    </tr>\n",
       "    <tr>\n",
       "      <th>255</th>\n",
       "      <td>255</td>\n",
       "      <td>119</td>\n",
       "    </tr>\n",
       "    <tr>\n",
       "      <th>256</th>\n",
       "      <td>256</td>\n",
       "      <td>106</td>\n",
       "    </tr>\n",
       "    <tr>\n",
       "      <th>257</th>\n",
       "      <td>257</td>\n",
       "      <td>72</td>\n",
       "    </tr>\n",
       "  </tbody>\n",
       "</table>\n",
       "<p>258 rows × 2 columns</p>\n",
       "</div>"
      ],
      "text/plain": [
       "     bike_station_index  distance\n",
       "0                     0       172\n",
       "1                     1        82\n",
       "2                     2        90\n",
       "3                     3        46\n",
       "4                     4       216\n",
       "..                  ...       ...\n",
       "253                 253       171\n",
       "254                 254       108\n",
       "255                 255       119\n",
       "256                 256       106\n",
       "257                 257        72\n",
       "\n",
       "[258 rows x 2 columns]"
      ]
     },
     "execution_count": 41,
     "metadata": {},
     "output_type": "execute_result"
    }
   ],
   "source": [
    "# group by stations with min distance\n",
    "data.groupby('bike_station_index',as_index=False)['distance'].min()"
   ]
  },
  {
   "cell_type": "code",
   "execution_count": 50,
   "metadata": {},
   "outputs": [
    {
     "data": {
      "text/html": [
       "<div>\n",
       "<style scoped>\n",
       "    .dataframe tbody tr th:only-of-type {\n",
       "        vertical-align: middle;\n",
       "    }\n",
       "\n",
       "    .dataframe tbody tr th {\n",
       "        vertical-align: top;\n",
       "    }\n",
       "\n",
       "    .dataframe thead th {\n",
       "        text-align: right;\n",
       "    }\n",
       "</style>\n",
       "<table border=\"1\" class=\"dataframe\">\n",
       "  <thead>\n",
       "    <tr style=\"text-align: right;\">\n",
       "      <th></th>\n",
       "      <th>bike_station_index</th>\n",
       "      <th>fsq_id</th>\n",
       "    </tr>\n",
       "  </thead>\n",
       "  <tbody>\n",
       "    <tr>\n",
       "      <th>0</th>\n",
       "      <td>0</td>\n",
       "      <td>50</td>\n",
       "    </tr>\n",
       "    <tr>\n",
       "      <th>1</th>\n",
       "      <td>1</td>\n",
       "      <td>45</td>\n",
       "    </tr>\n",
       "    <tr>\n",
       "      <th>2</th>\n",
       "      <td>2</td>\n",
       "      <td>50</td>\n",
       "    </tr>\n",
       "    <tr>\n",
       "      <th>3</th>\n",
       "      <td>3</td>\n",
       "      <td>47</td>\n",
       "    </tr>\n",
       "    <tr>\n",
       "      <th>4</th>\n",
       "      <td>4</td>\n",
       "      <td>48</td>\n",
       "    </tr>\n",
       "    <tr>\n",
       "      <th>...</th>\n",
       "      <td>...</td>\n",
       "      <td>...</td>\n",
       "    </tr>\n",
       "    <tr>\n",
       "      <th>253</th>\n",
       "      <td>253</td>\n",
       "      <td>47</td>\n",
       "    </tr>\n",
       "    <tr>\n",
       "      <th>254</th>\n",
       "      <td>254</td>\n",
       "      <td>46</td>\n",
       "    </tr>\n",
       "    <tr>\n",
       "      <th>255</th>\n",
       "      <td>255</td>\n",
       "      <td>50</td>\n",
       "    </tr>\n",
       "    <tr>\n",
       "      <th>256</th>\n",
       "      <td>256</td>\n",
       "      <td>50</td>\n",
       "    </tr>\n",
       "    <tr>\n",
       "      <th>257</th>\n",
       "      <td>257</td>\n",
       "      <td>50</td>\n",
       "    </tr>\n",
       "  </tbody>\n",
       "</table>\n",
       "<p>258 rows × 2 columns</p>\n",
       "</div>"
      ],
      "text/plain": [
       "     bike_station_index  fsq_id\n",
       "0                     0      50\n",
       "1                     1      45\n",
       "2                     2      50\n",
       "3                     3      47\n",
       "4                     4      48\n",
       "..                  ...     ...\n",
       "253                 253      47\n",
       "254                 254      46\n",
       "255                 255      50\n",
       "256                 256      50\n",
       "257                 257      50\n",
       "\n",
       "[258 rows x 2 columns]"
      ]
     },
     "execution_count": 50,
     "metadata": {},
     "output_type": "execute_result"
    }
   ],
   "source": [
    "# group with count of fsq_id\n",
    "data.groupby('bike_station_index',as_index=False)['fsq_id'].count()\n"
   ]
  },
  {
   "cell_type": "code",
   "execution_count": null,
   "metadata": {},
   "outputs": [],
   "source": [
    "#df_grouped = data.groupby(['bike_station_index', 'category_group'], as_index=True).agg({'distance': 'min', 'fsq_id': 'count'})\n",
    "#df_grouped"
   ]
  },
  {
   "cell_type": "code",
   "execution_count": 51,
   "metadata": {},
   "outputs": [],
   "source": [
    "# combined groupby\n",
    "df_grouped = data.groupby('bike_station_index', as_index=True).agg({'distance': 'min', 'fsq_id': 'count'})"
   ]
  },
  {
   "cell_type": "code",
   "execution_count": 54,
   "metadata": {},
   "outputs": [
    {
     "data": {
      "text/html": [
       "<div>\n",
       "<style scoped>\n",
       "    .dataframe tbody tr th:only-of-type {\n",
       "        vertical-align: middle;\n",
       "    }\n",
       "\n",
       "    .dataframe tbody tr th {\n",
       "        vertical-align: top;\n",
       "    }\n",
       "\n",
       "    .dataframe thead th {\n",
       "        text-align: right;\n",
       "    }\n",
       "</style>\n",
       "<table border=\"1\" class=\"dataframe\">\n",
       "  <thead>\n",
       "    <tr style=\"text-align: right;\">\n",
       "      <th></th>\n",
       "      <th>bike_station_index</th>\n",
       "      <th>distance</th>\n",
       "      <th>fsq_id</th>\n",
       "      <th>Unnamed: 0</th>\n",
       "      <th>id</th>\n",
       "      <th>name</th>\n",
       "      <th>latitude</th>\n",
       "      <th>longitude</th>\n",
       "      <th>timestamp</th>\n",
       "      <th>free_bikes</th>\n",
       "      <th>empty_slots</th>\n",
       "      <th>extra.uid</th>\n",
       "      <th>extra.renting</th>\n",
       "      <th>extra.returning</th>\n",
       "      <th>extra.last_updated</th>\n",
       "      <th>extra.slots</th>\n",
       "      <th>extra.normal_bikes</th>\n",
       "      <th>extra.ebikes</th>\n",
       "      <th>extra.has_ebikes</th>\n",
       "    </tr>\n",
       "  </thead>\n",
       "  <tbody>\n",
       "    <tr>\n",
       "      <th>0</th>\n",
       "      <td>0</td>\n",
       "      <td>172</td>\n",
       "      <td>50</td>\n",
       "      <td>0</td>\n",
       "      <td>00fa94ad698dc4a9e4d708d6fd32f294</td>\n",
       "      <td>Chilco &amp; Barclay</td>\n",
       "      <td>49.291909</td>\n",
       "      <td>-123.140713</td>\n",
       "      <td>2025-02-08T08:10:50.124152Z</td>\n",
       "      <td>17</td>\n",
       "      <td>0</td>\n",
       "      <td>92</td>\n",
       "      <td>True</td>\n",
       "      <td>True</td>\n",
       "      <td>1739002136</td>\n",
       "      <td>18</td>\n",
       "      <td>15</td>\n",
       "      <td>2</td>\n",
       "      <td>True</td>\n",
       "    </tr>\n",
       "    <tr>\n",
       "      <th>1</th>\n",
       "      <td>1</td>\n",
       "      <td>82</td>\n",
       "      <td>45</td>\n",
       "      <td>1</td>\n",
       "      <td>012d3e06901cc222b1c2cf0a2ace3a29</td>\n",
       "      <td>St George &amp; Broadway</td>\n",
       "      <td>49.262321</td>\n",
       "      <td>-123.093060</td>\n",
       "      <td>2025-02-08T08:10:50.529626Z</td>\n",
       "      <td>6</td>\n",
       "      <td>8</td>\n",
       "      <td>248</td>\n",
       "      <td>True</td>\n",
       "      <td>True</td>\n",
       "      <td>1739002022</td>\n",
       "      <td>14</td>\n",
       "      <td>5</td>\n",
       "      <td>1</td>\n",
       "      <td>True</td>\n",
       "    </tr>\n",
       "    <tr>\n",
       "      <th>2</th>\n",
       "      <td>2</td>\n",
       "      <td>90</td>\n",
       "      <td>50</td>\n",
       "      <td>2</td>\n",
       "      <td>029a505bd4422a1afd127987757f71a6</td>\n",
       "      <td>Britannia Parking Lot</td>\n",
       "      <td>49.275882</td>\n",
       "      <td>-123.071865</td>\n",
       "      <td>2025-02-08T08:10:50.528937Z</td>\n",
       "      <td>2</td>\n",
       "      <td>12</td>\n",
       "      <td>232</td>\n",
       "      <td>True</td>\n",
       "      <td>True</td>\n",
       "      <td>1739001589</td>\n",
       "      <td>14</td>\n",
       "      <td>2</td>\n",
       "      <td>0</td>\n",
       "      <td>True</td>\n",
       "    </tr>\n",
       "    <tr>\n",
       "      <th>3</th>\n",
       "      <td>3</td>\n",
       "      <td>46</td>\n",
       "      <td>47</td>\n",
       "      <td>3</td>\n",
       "      <td>0438114d2e6b96118de69bc9775bb21e</td>\n",
       "      <td>Morton &amp; Denman</td>\n",
       "      <td>49.288030</td>\n",
       "      <td>-123.142135</td>\n",
       "      <td>2025-02-08T08:10:50.093341Z</td>\n",
       "      <td>12</td>\n",
       "      <td>14</td>\n",
       "      <td>31</td>\n",
       "      <td>True</td>\n",
       "      <td>True</td>\n",
       "      <td>1739001853</td>\n",
       "      <td>26</td>\n",
       "      <td>6</td>\n",
       "      <td>6</td>\n",
       "      <td>True</td>\n",
       "    </tr>\n",
       "    <tr>\n",
       "      <th>4</th>\n",
       "      <td>4</td>\n",
       "      <td>216</td>\n",
       "      <td>48</td>\n",
       "      <td>4</td>\n",
       "      <td>0459b7e93703980b853cd65a9dc60596</td>\n",
       "      <td>Thornton &amp; National</td>\n",
       "      <td>49.273777</td>\n",
       "      <td>-123.092723</td>\n",
       "      <td>2025-02-08T08:10:50.528973Z</td>\n",
       "      <td>4</td>\n",
       "      <td>10</td>\n",
       "      <td>233</td>\n",
       "      <td>True</td>\n",
       "      <td>True</td>\n",
       "      <td>1739001524</td>\n",
       "      <td>14</td>\n",
       "      <td>4</td>\n",
       "      <td>0</td>\n",
       "      <td>True</td>\n",
       "    </tr>\n",
       "    <tr>\n",
       "      <th>...</th>\n",
       "      <td>...</td>\n",
       "      <td>...</td>\n",
       "      <td>...</td>\n",
       "      <td>...</td>\n",
       "      <td>...</td>\n",
       "      <td>...</td>\n",
       "      <td>...</td>\n",
       "      <td>...</td>\n",
       "      <td>...</td>\n",
       "      <td>...</td>\n",
       "      <td>...</td>\n",
       "      <td>...</td>\n",
       "      <td>...</td>\n",
       "      <td>...</td>\n",
       "      <td>...</td>\n",
       "      <td>...</td>\n",
       "      <td>...</td>\n",
       "      <td>...</td>\n",
       "      <td>...</td>\n",
       "    </tr>\n",
       "    <tr>\n",
       "      <th>253</th>\n",
       "      <td>253</td>\n",
       "      <td>171</td>\n",
       "      <td>47</td>\n",
       "      <td>253</td>\n",
       "      <td>fbb4c06b719596c21f91fd51ef6d4710</td>\n",
       "      <td>7th &amp; Heather</td>\n",
       "      <td>49.265089</td>\n",
       "      <td>-123.119425</td>\n",
       "      <td>2025-02-08T08:10:50.123858Z</td>\n",
       "      <td>12</td>\n",
       "      <td>6</td>\n",
       "      <td>81</td>\n",
       "      <td>True</td>\n",
       "      <td>True</td>\n",
       "      <td>1739002135</td>\n",
       "      <td>18</td>\n",
       "      <td>11</td>\n",
       "      <td>1</td>\n",
       "      <td>True</td>\n",
       "    </tr>\n",
       "    <tr>\n",
       "      <th>254</th>\n",
       "      <td>254</td>\n",
       "      <td>108</td>\n",
       "      <td>46</td>\n",
       "      <td>254</td>\n",
       "      <td>fe0c57d04d6e682d284d501446095fc9</td>\n",
       "      <td>Union &amp; Dunlevy</td>\n",
       "      <td>49.277595</td>\n",
       "      <td>-123.095830</td>\n",
       "      <td>2025-02-08T08:10:50.528015Z</td>\n",
       "      <td>5</td>\n",
       "      <td>11</td>\n",
       "      <td>212</td>\n",
       "      <td>True</td>\n",
       "      <td>True</td>\n",
       "      <td>1739002135</td>\n",
       "      <td>16</td>\n",
       "      <td>5</td>\n",
       "      <td>0</td>\n",
       "      <td>True</td>\n",
       "    </tr>\n",
       "    <tr>\n",
       "      <th>255</th>\n",
       "      <td>255</td>\n",
       "      <td>119</td>\n",
       "      <td>50</td>\n",
       "      <td>255</td>\n",
       "      <td>fedff7a263c182df94bda7307059cc52</td>\n",
       "      <td>Richards &amp; Helmcken</td>\n",
       "      <td>49.277141</td>\n",
       "      <td>-123.122589</td>\n",
       "      <td>2025-02-08T08:10:50.299192Z</td>\n",
       "      <td>0</td>\n",
       "      <td>18</td>\n",
       "      <td>138</td>\n",
       "      <td>True</td>\n",
       "      <td>True</td>\n",
       "      <td>1739001816</td>\n",
       "      <td>18</td>\n",
       "      <td>0</td>\n",
       "      <td>0</td>\n",
       "      <td>True</td>\n",
       "    </tr>\n",
       "    <tr>\n",
       "      <th>256</th>\n",
       "      <td>256</td>\n",
       "      <td>106</td>\n",
       "      <td>50</td>\n",
       "      <td>256</td>\n",
       "      <td>fef69fb400210d861107a61db954d037</td>\n",
       "      <td>Keefer &amp; Abbott</td>\n",
       "      <td>49.279821</td>\n",
       "      <td>-123.108020</td>\n",
       "      <td>2025-02-08T08:10:50.122810Z</td>\n",
       "      <td>15</td>\n",
       "      <td>13</td>\n",
       "      <td>53</td>\n",
       "      <td>True</td>\n",
       "      <td>True</td>\n",
       "      <td>1739001000</td>\n",
       "      <td>28</td>\n",
       "      <td>15</td>\n",
       "      <td>0</td>\n",
       "      <td>True</td>\n",
       "    </tr>\n",
       "    <tr>\n",
       "      <th>257</th>\n",
       "      <td>257</td>\n",
       "      <td>72</td>\n",
       "      <td>50</td>\n",
       "      <td>257</td>\n",
       "      <td>fffd87607aaae16fbb1f71615cbe7d17</td>\n",
       "      <td>8th &amp; Prince Edward</td>\n",
       "      <td>49.263518</td>\n",
       "      <td>-123.095680</td>\n",
       "      <td>2025-02-08T08:10:50.530814Z</td>\n",
       "      <td>8</td>\n",
       "      <td>10</td>\n",
       "      <td>262</td>\n",
       "      <td>True</td>\n",
       "      <td>True</td>\n",
       "      <td>1739001737</td>\n",
       "      <td>18</td>\n",
       "      <td>7</td>\n",
       "      <td>1</td>\n",
       "      <td>True</td>\n",
       "    </tr>\n",
       "  </tbody>\n",
       "</table>\n",
       "<p>258 rows × 19 columns</p>\n",
       "</div>"
      ],
      "text/plain": [
       "     bike_station_index  distance  fsq_id  Unnamed: 0  \\\n",
       "0                     0       172      50           0   \n",
       "1                     1        82      45           1   \n",
       "2                     2        90      50           2   \n",
       "3                     3        46      47           3   \n",
       "4                     4       216      48           4   \n",
       "..                  ...       ...     ...         ...   \n",
       "253                 253       171      47         253   \n",
       "254                 254       108      46         254   \n",
       "255                 255       119      50         255   \n",
       "256                 256       106      50         256   \n",
       "257                 257        72      50         257   \n",
       "\n",
       "                                   id                   name   latitude  \\\n",
       "0    00fa94ad698dc4a9e4d708d6fd32f294       Chilco & Barclay  49.291909   \n",
       "1    012d3e06901cc222b1c2cf0a2ace3a29   St George & Broadway  49.262321   \n",
       "2    029a505bd4422a1afd127987757f71a6  Britannia Parking Lot  49.275882   \n",
       "3    0438114d2e6b96118de69bc9775bb21e        Morton & Denman  49.288030   \n",
       "4    0459b7e93703980b853cd65a9dc60596    Thornton & National  49.273777   \n",
       "..                                ...                    ...        ...   \n",
       "253  fbb4c06b719596c21f91fd51ef6d4710          7th & Heather  49.265089   \n",
       "254  fe0c57d04d6e682d284d501446095fc9        Union & Dunlevy  49.277595   \n",
       "255  fedff7a263c182df94bda7307059cc52    Richards & Helmcken  49.277141   \n",
       "256  fef69fb400210d861107a61db954d037        Keefer & Abbott  49.279821   \n",
       "257  fffd87607aaae16fbb1f71615cbe7d17    8th & Prince Edward  49.263518   \n",
       "\n",
       "      longitude                    timestamp  free_bikes  empty_slots  \\\n",
       "0   -123.140713  2025-02-08T08:10:50.124152Z          17            0   \n",
       "1   -123.093060  2025-02-08T08:10:50.529626Z           6            8   \n",
       "2   -123.071865  2025-02-08T08:10:50.528937Z           2           12   \n",
       "3   -123.142135  2025-02-08T08:10:50.093341Z          12           14   \n",
       "4   -123.092723  2025-02-08T08:10:50.528973Z           4           10   \n",
       "..          ...                          ...         ...          ...   \n",
       "253 -123.119425  2025-02-08T08:10:50.123858Z          12            6   \n",
       "254 -123.095830  2025-02-08T08:10:50.528015Z           5           11   \n",
       "255 -123.122589  2025-02-08T08:10:50.299192Z           0           18   \n",
       "256 -123.108020  2025-02-08T08:10:50.122810Z          15           13   \n",
       "257 -123.095680  2025-02-08T08:10:50.530814Z           8           10   \n",
       "\n",
       "     extra.uid  extra.renting  extra.returning  extra.last_updated  \\\n",
       "0           92           True             True          1739002136   \n",
       "1          248           True             True          1739002022   \n",
       "2          232           True             True          1739001589   \n",
       "3           31           True             True          1739001853   \n",
       "4          233           True             True          1739001524   \n",
       "..         ...            ...              ...                 ...   \n",
       "253         81           True             True          1739002135   \n",
       "254        212           True             True          1739002135   \n",
       "255        138           True             True          1739001816   \n",
       "256         53           True             True          1739001000   \n",
       "257        262           True             True          1739001737   \n",
       "\n",
       "     extra.slots  extra.normal_bikes  extra.ebikes  extra.has_ebikes  \n",
       "0             18                  15             2              True  \n",
       "1             14                   5             1              True  \n",
       "2             14                   2             0              True  \n",
       "3             26                   6             6              True  \n",
       "4             14                   4             0              True  \n",
       "..           ...                 ...           ...               ...  \n",
       "253           18                  11             1              True  \n",
       "254           16                   5             0              True  \n",
       "255           18                   0             0              True  \n",
       "256           28                  15             0              True  \n",
       "257           18                   7             1              True  \n",
       "\n",
       "[258 rows x 19 columns]"
      ]
     },
     "execution_count": 54,
     "metadata": {},
     "output_type": "execute_result"
    }
   ],
   "source": [
    "# join the data \n",
    "df_merged = pd.merge(df_grouped,df_city_bikes,left_on='bike_station_index',right_on=df_city_bikes.index)\n",
    "df_merged"
   ]
  },
  {
   "cell_type": "markdown",
   "metadata": {},
   "source": [
    "Provide a visualization that you used as part of your EDA process. Explain the initial pattern or relationship you discoved through this visualization. "
   ]
  },
  {
   "cell_type": "code",
   "execution_count": 92,
   "metadata": {},
   "outputs": [],
   "source": [
    "import pandas as pd\n",
    "import numpy as np\n",
    "import seaborn as sns                       #visualisation\n",
    "import matplotlib.pyplot as plt             #visualisation\n",
    "import plotly.graph_objs as go\n",
    "sns.set_theme()\n",
    "%matplotlib inline     \n",
    "sns.set(color_codes=True)"
   ]
  },
  {
   "cell_type": "code",
   "execution_count": 93,
   "metadata": {},
   "outputs": [
    {
     "data": {
      "image/png": "[encoded data removed]",
      "text/plain": [
       "<Figure size 640x480 with 1 Axes>"
      ]
     },
     "metadata": {},
     "output_type": "display_data"
    }
   ],
   "source": [
    "# Detecting Outliers\n",
    "sns.boxplot(x=df_merged['distance'])\n",
    "plt.show()"
   ]
  },
  {
   "cell_type": "code",
   "execution_count": 94,
   "metadata": {},
   "outputs": [
    {
     "data": {
      "image/png": "[encoded data removed]",
      "text/plain": [
       "<Figure size 640x480 with 1 Axes>"
      ]
     },
     "metadata": {},
     "output_type": "display_data"
    }
   ],
   "source": [
    "# Detecting Outliers\n",
    "sns.boxplot(x=df_merged['fsq_id'])\n",
    "plt.show()"
   ]
  },
  {
   "cell_type": "code",
   "execution_count": 96,
   "metadata": {},
   "outputs": [
    {
     "data": {
      "image/png": "[encoded data removed]",
      "text/plain": [
       "<Figure size 640x480 with 1 Axes>"
      ]
     },
     "metadata": {},
     "output_type": "display_data"
    }
   ],
   "source": [
    "sns.boxplot(x=df_merged['free_bikes'])\n",
    "plt.show()"
   ]
  },
  {
   "cell_type": "code",
   "execution_count": 98,
   "metadata": {},
   "outputs": [
    {
     "data": {
      "image/png": "[encoded data removed]",
      "text/plain": [
       "<Figure size 640x480 with 1 Axes>"
      ]
     },
     "metadata": {},
     "output_type": "display_data"
    }
   ],
   "source": [
    "sns.boxplot(x=df_merged['empty_slots'])\n",
    "plt.show()"
   ]
  },
  {
   "cell_type": "code",
   "execution_count": null,
   "metadata": {},
   "outputs": [],
   "source": [
    "# calculating quantile\n",
    "# Q1 = df_merged_dropped_columns.quantile(0.25, numeric_only=True)\n",
    "# Q3 = df_merged_dropped_columns.quantile(0.75, numeric_only=True)\n",
    "# IQR = Q3 - Q1\n",
    "# print(IQR)"
   ]
  },
  {
   "cell_type": "markdown",
   "metadata": {},
   "source": [
    "## Scatter Diagram, Heat Maps and Histogram"
   ]
  },
  {
   "cell_type": "code",
   "execution_count": 99,
   "metadata": {},
   "outputs": [
    {
     "data": {
      "image/png": "[encoded data removed]",
      "text/plain": [
       "<Figure size 640x480 with 1 Axes>"
      ]
     },
     "metadata": {},
     "output_type": "display_data"
    }
   ],
   "source": [
    "# Plot different features against one another (scatter), against frequency (histogram)\n",
    "# Histogram\n",
    "\n",
    "# Plotting a basic histogram\n",
    "plt.hist(df_merged['distance'], bins=30, color='skyblue', edgecolor='black')\n",
    " \n",
    "# Adding labels and title\n",
    "plt.xlabel('Distance')\n",
    "plt.ylabel('Frequency')\n",
    " \n",
    "# Display the plot\n",
    "plt.show()"
   ]
  },
  {
   "cell_type": "markdown",
   "metadata": {},
   "source": [
    "This is skewed"
   ]
  },
  {
   "cell_type": "code",
   "execution_count": 100,
   "metadata": {},
   "outputs": [
    {
     "data": {
      "image/png": "[encoded data removed]",
      "text/plain": [
       "<Figure size 640x480 with 1 Axes>"
      ]
     },
     "metadata": {},
     "output_type": "display_data"
    }
   ],
   "source": [
    "# Plot different features against one another (scatter), against frequency (histogram)\n",
    "# Histogram\n",
    "\n",
    "# Plotting a basic histogram\n",
    "plt.hist(df_merged['fsq_id'], bins=30, color='skyblue', edgecolor='black')\n",
    " \n",
    "# Adding labels and title\n",
    "plt.xlabel('fsq_id')\n",
    "plt.ylabel('Frequency')\n",
    " \n",
    "# Display the plot\n",
    "plt.show()"
   ]
  },
  {
   "cell_type": "markdown",
   "metadata": {},
   "source": [
    "this is also skewed and we can detect an outlier"
   ]
  },
  {
   "cell_type": "code",
   "execution_count": 102,
   "metadata": {},
   "outputs": [],
   "source": [
    "#dropping irrelevant columns\n",
    "df_merged_dropped_columns = df_merged.drop(['extra.uid', 'extra.renting',\n",
    "       'extra.returning', 'extra.last_updated', 'extra.slots',\n",
    "       'extra.normal_bikes', 'extra.ebikes', 'extra.has_ebikes', 'Unnamed: 0', 'timestamp'], axis=1)"
   ]
  },
  {
   "cell_type": "code",
   "execution_count": 103,
   "metadata": {},
   "outputs": [
    {
     "data": {
      "image/png": "[encoded data removed]",
      "text/plain": [
       "<Figure size 1000x500 with 2 Axes>"
      ]
     },
     "metadata": {},
     "output_type": "display_data"
    }
   ],
   "source": [
    "# Heat Maps\n",
    "plt.figure(figsize=(10,5))\n",
    "c= df_merged_dropped_columns.corr(numeric_only=True)\n",
    "sns.heatmap(c,cmap=\"BrBG\",annot=True)\n",
    "c\n",
    "plt.show()"
   ]
  },
  {
   "cell_type": "markdown",
   "metadata": {},
   "source": [
    "The heat maps above shows low correlation between the variables (features)"
   ]
  },
  {
   "cell_type": "code",
   "execution_count": null,
   "metadata": {},
   "outputs": [
    {
     "data": {
      "image/png": "[encoded data removed]",
      "text/plain": [
       "<Figure size 1000x600 with 1 Axes>"
      ]
     },
     "metadata": {},
     "output_type": "display_data"
    }
   ],
   "source": [
    "#Scatterplot\n",
    "fig, ax = plt.subplots(figsize=(10,6))\n",
    "ax.scatter(df_merged_dropped_columns['distance'], df_merged_dropped_columns['free_bikes'])\n",
    "ax.set_xlabel('distance')\n",
    "ax.set_ylabel('free_bikes')\n",
    "plt.show()"
   ]
  },
  {
   "cell_type": "code",
   "execution_count": null,
   "metadata": {},
   "outputs": [
    {
     "data": {
      "image/png": "[encoded data removed]",
      "text/plain": [
       "<Figure size 1000x600 with 1 Axes>"
      ]
     },
     "metadata": {},
     "output_type": "display_data"
    }
   ],
   "source": [
    "#Scatterplot\n",
    "fig, ax = plt.subplots(figsize=(10,6))\n",
    "ax.scatter(df_merged_dropped_columns['fsq_id'], df_merged_dropped_columns['free_bikes'])\n",
    "ax.set_xlabel('fsq_id')\n",
    "ax.set_ylabel('free_bikes')\n",
    "plt.show()"
   ]
  },
  {
   "cell_type": "markdown",
   "metadata": {},
   "source": [
    "# Database"
   ]
  },
  {
   "cell_type": "markdown",
   "metadata": {},
   "source": [
    "Put all your results in an SQLite3 database (remember, SQLite stores its databases as files in your local machine - make sure to create your database in your project's data/ directory!)"
   ]
  },
  {
   "cell_type": "code",
   "execution_count": 2,
   "metadata": {},
   "outputs": [],
   "source": [
    "import sqlite3\n",
    "from sqlite3 import Error\n",
    "\n",
    "def create_connection(path):\n",
    "    connection = None\n",
    "    try:\n",
    "        connection = sqlite3.connect(path)\n",
    "        print(\"Connection to SQLite DB successful\")\n",
    "    except Error as e:\n",
    "        print(f\"The error '{e}' occurred\")\n",
    "\n",
    "    return connection"
   ]
  },
  {
   "cell_type": "markdown",
   "metadata": {},
   "source": [
    "Look at the data before and after the join to validate your data."
   ]
  },
  {
   "cell_type": "code",
   "execution_count": 7,
   "metadata": {},
   "outputs": [
    {
     "name": "stdout",
     "output_type": "stream",
     "text": [
      "Connection to SQLite DB successful\n"
     ]
    }
   ],
   "source": [
    "connection = create_connection(\"sm_app.sqlite\")"
   ]
  },
  {
   "cell_type": "markdown",
   "metadata": {},
   "source": [
    "## Creatibg Table"
   ]
  },
  {
   "cell_type": "code",
   "execution_count": 15,
   "metadata": {},
   "outputs": [],
   "source": [
    "def execute_query(connection, query):\n",
    "    cursor = connection.cursor()\n",
    "    try:\n",
    "        cursor.execute(query)\n",
    "        connection.commit()\n",
    "        print(\"Query executed successfully\")\n",
    "    except Error as e:\n",
    "        print(f\"The error '{e}' occurred\")"
   ]
  },
  {
   "cell_type": "code",
   "execution_count": 27,
   "metadata": {},
   "outputs": [],
   "source": [
    "create_stations_table = \"\"\"\n",
    "CREATE TABLE IF NOT EXISTS stations (\n",
    "  bike_station_index INTEGER PRIMARY KEY,\n",
    "  fsq_id INTEGER,\n",
    "  name TEXT,\n",
    "  free_bikes INTEGER,\n",
    "  empty_slots INTEGER\n",
    ");\n",
    "\"\"\"\n"
   ]
  },
  {
   "cell_type": "code",
   "execution_count": 25,
   "metadata": {},
   "outputs": [],
   "source": [
    "create_geodistance_table = \"\"\"\n",
    "CREATE TABLE IF NOT EXISTS geo_distance (\n",
    "  id INTEGER PRIMARY KEY AUTOINCREMENT,\n",
    "  bike_station_index INTEGER,\n",
    "  latitude INTEGER,\n",
    "  longitude INTEGER,\n",
    "  FOREIGN KEY (bike_station_index) REFERENCES stations (bike_station_index)\n",
    "  );\n",
    "\"\"\"\n"
   ]
  },
  {
   "cell_type": "code",
   "execution_count": 28,
   "metadata": {},
   "outputs": [
    {
     "name": "stdout",
     "output_type": "stream",
     "text": [
      "Query executed successfully\n"
     ]
    }
   ],
   "source": [
    "execute_query(connection, create_stations_table)"
   ]
  },
  {
   "cell_type": "code",
   "execution_count": 26,
   "metadata": {},
   "outputs": [
    {
     "name": "stdout",
     "output_type": "stream",
     "text": [
      "Query executed successfully\n"
     ]
    }
   ],
   "source": [
    "execute_query(connection, create_geodistance_table)"
   ]
  },
  {
   "cell_type": "markdown",
   "metadata": {},
   "source": [
    "## Inserting values"
   ]
  },
  {
   "cell_type": "markdown",
   "metadata": {},
   "source": []
  },
  {
   "cell_type": "code",
   "execution_count": 75,
   "metadata": {},
   "outputs": [],
   "source": [
    "# Define cursor\n",
    "cursor = connection.cursor()"
   ]
  },
  {
   "cell_type": "code",
   "execution_count": null,
   "metadata": {},
   "outputs": [],
   "source": [
    "# insert values for stations\n",
    "for _, row in df_merged.iterrows():\n",
    "    cursor.execute('''\n",
    "    INSERT INTO stations (bike_station_index, fsq_id, name, free_bikes, empty_slots)\n",
    "    VALUES (?, ?, ?, ?, ?);\n",
    "    ''', (row['bike_station_index'], row['fsq_id'], row['name'], row['free_bikes'], row['empty_slots']))"
   ]
  },
  {
   "cell_type": "code",
   "execution_count": null,
   "metadata": {},
   "outputs": [],
   "source": [
    "# insert for geo+distance\n",
    "for _, row in df_merged.iterrows():\n",
    "    cursor.execute('''\n",
    "    INSERT INTO geo_distance (bike_station_index, latitude, longitude)\n",
    "    VALUES (?, ?, ?);\n",
    "    ''', (row['bike_station_index'], row['latitude'], row['longitude']))"
   ]
  },
  {
   "cell_type": "code",
   "execution_count": 86,
   "metadata": {},
   "outputs": [],
   "source": [
    "conn.commit()\n"
   ]
  },
  {
   "cell_type": "code",
   "execution_count": 87,
   "metadata": {},
   "outputs": [],
   "source": [
    "# define select from function\n",
    "def execute_read_query(connection, query):\n",
    "    cursor = connection.cursor()\n",
    "    result = None\n",
    "    try:\n",
    "        cursor.execute(query)\n",
    "        result = cursor.fetchall()\n",
    "        return result\n",
    "    except Error as e:\n",
    "        print(f\"The error '{e}' occurred\")"
   ]
  },
  {
   "cell_type": "code",
   "execution_count": 90,
   "metadata": {},
   "outputs": [
    {
     "name": "stdout",
     "output_type": "stream",
     "text": [
      "(0, None, 49.291909, -123.140713)\n",
      "(1, None, 49.262321, -123.09306)\n",
      "(2, None, 49.275882, -123.071865)\n",
      "(3, None, 49.28803, -123.142135)\n",
      "(4, None, 49.273777, -123.092723)\n",
      "(5, None, 49.259469, -123.145718)\n",
      "(6, None, 49.266314, -123.116011)\n",
      "(7, None, 49.264928, -123.168068)\n",
      "(8, None, 49.243375, -123.104978)\n",
      "(9, None, 49.283968, -123.061615)\n",
      "(10, None, 49.259579, -123.114769)\n",
      "(11, None, 49.247854, -123.153422)\n",
      "(12, None, 49.257939, -123.089531)\n",
      "(13, None, 49.256857, -123.065646)\n",
      "(14, None, 49.282758, -123.122092)\n",
      "(15, None, 49.289255, -123.132677)\n",
      "(16, None, 49.2685027, -123.0975014)\n",
      "(17, None, 49.26151, -123.089413)\n",
      "(18, None, 49.266724, -123.104824)\n",
      "(19, None, 49.256845, -123.120071)\n",
      "(20, None, 49.279259, -123.119145)\n",
      "(21, None, 49.277773, -123.114237)\n",
      "(22, None, 49.283482, -123.103738)\n",
      "(23, None, 49.25094, -123.101306)\n",
      "(24, None, 49.276294, -123.106534)\n",
      "(25, None, 49.2731, -123.0732)\n",
      "(26, None, 49.27023, -123.10651)\n",
      "(27, None, 49.264466, -123.085183)\n",
      "(28, None, 49.283986, -123.065264)\n",
      "(29, None, 49.254667, -123.101389)\n",
      "(30, None, 49.261353, -123.085333)\n",
      "(31, None, 49.277844, -123.120942)\n",
      "(32, None, 49.262835, -123.152626)\n",
      "(33, None, 49.288444, -123.139203)\n",
      "(34, None, 49.258352, -123.096337)\n",
      "(35, None, 49.283992, -123.091206)\n",
      "(36, None, 49.28972, -123.144028)\n",
      "(37, None, 49.284554, -123.111031)\n",
      "(38, None, 49.259999, -123.250902)\n",
      "(39, None, 49.2661, -123.24568)\n",
      "(40, None, 49.263523, -123.155267)\n",
      "(41, None, 49.261263, -123.073707)\n",
      "(42, None, 49.256825, -123.105234)\n",
      "(43, None, 49.258819, -123.131317)\n",
      "(44, None, 49.275938, -123.145939)\n",
      "(45, None, 49.266636, -123.183661)\n",
      "(46, None, 49.299292, -123.130281)\n",
      "(47, None, 49.274566, -123.121817)\n",
      "(48, None, 49.282503, -123.124697)\n",
      "(49, None, 49.282759, -123.106955)\n",
      "(50, None, 49.264019, -123.209176)\n",
      "(51, None, 49.268339, -123.157443)\n",
      "(52, None, 49.262062, -123.104656)\n",
      "(53, None, 49.262822, -123.14338)\n",
      "(54, None, 49.268974, -123.190701)\n",
      "(55, None, 49.273663, -123.127075)\n",
      "(56, None, 49.265198, -123.131043)\n",
      "(57, None, 49.287214, -123.11287)\n",
      "(58, None, 49.286646, -123.129232)\n",
      "(59, None, 49.255034, -123.120226)\n",
      "(60, None, 49.258761, -123.127071)\n",
      "(61, None, 49.283343, -123.131099)\n",
      "(62, None, 49.285253, -123.134356)\n",
      "(63, None, 49.272172, -123.097978)\n",
      "(64, None, 49.302577, -123.155616)\n",
      "(65, None, 49.266751, -123.073501)\n",
      "(66, None, 49.264215, -123.117772)\n",
      "(67, None, 49.27808, -123.130557)\n",
      "(68, None, 49.261973, -123.09725)\n",
      "(69, None, 49.262255, -123.126217)\n",
      "(70, None, 49.277333, -123.087359)\n",
      "(71, None, 49.273833, -123.114373)\n",
      "(72, None, 49.28763, -123.127245)\n",
      "(73, None, 49.265605, -123.152566)\n",
      "(74, None, 49.25849, -123.104799)\n",
      "(75, None, 49.249184, -123.116141)\n",
      "(76, None, 49.270783, -123.141564)\n",
      "(77, None, 49.257654, -123.153212)\n",
      "(78, None, 49.2665793, -123.2485487)\n",
      "(79, None, 49.246243, -123.124373)\n",
      "(80, None, 49.266774, -123.141135)\n",
      "(81, None, 49.263073, -123.254307)\n",
      "(82, None, 49.280427, -123.074082)\n",
      "(83, None, 49.284893, -123.128685)\n",
      "(84, None, 49.273011, -123.159663)\n",
      "(85, None, 49.290112, -123.127062)\n",
      "(86, None, 49.28512, -123.11242)\n",
      "(87, None, 49.261742, -123.13148)\n",
      "(88, None, 49.262206, -123.109091)\n",
      "(89, None, 49.259183, -123.120126)\n",
      "(90, None, 49.252656, -123.067965)\n",
      "(91, None, 49.273355, -123.154493)\n",
      "(92, None, 49.274232, -123.129998)\n",
      "(93, None, 49.289124, -123.12196)\n",
      "(94, None, 49.260599, -123.113504)\n",
      "(95, None, 49.268837, -123.177633)\n",
      "(96, None, 49.267725, -123.11311)\n",
      "(97, None, 49.280881, -123.130672)\n",
      "(98, None, 49.258763, -123.115392)\n",
      "(99, None, 49.282409, -123.118541)\n",
      "(100, None, 49.271377, -123.069416)\n",
      "(101, None, 49.263837, -123.105173)\n",
      "(102, None, 49.28062, -123.12482)\n",
      "(103, None, 49.283227, -123.120523)\n",
      "(104, None, 49.279764, -123.110154)\n",
      "(105, None, 49.281506, -123.120101)\n",
      "(106, None, 49.266969, -123.069936)\n",
      "(107, None, 49.263635, -123.099236)\n",
      "(108, None, 49.279739, -123.116251)\n",
      "(109, None, 49.2653, -123.13811)\n",
      "(110, None, 49.28026, -123.135244)\n",
      "(111, None, 49.2756, -123.102661)\n",
      "(112, None, 49.2885056, -123.1312375)\n",
      "(113, None, 49.261403, -123.070102)\n",
      "(114, None, 49.262487, -123.114397)\n",
      "(115, None, 49.27033, -123.10275)\n",
      "(116, None, 49.285575, -123.061575)\n",
      "(117, None, 49.267266, -123.090786)\n",
      "(118, None, 49.266476, -123.109389)\n",
      "(119, None, 49.238105, -123.154966)\n",
      "(120, None, 49.272969, -123.164325)\n",
      "(121, None, 49.267222, -123.153157)\n",
      "(122, None, 49.297933, -123.130758)\n",
      "(123, None, 49.258425, -123.100792)\n",
      "(124, None, 49.278529, -123.100017)\n",
      "(125, None, 49.261736, -123.24648)\n",
      "(126, None, 49.27247, -123.185643)\n",
      "(127, None, 49.252691, -123.101289)\n",
      "(128, None, 49.276436, -123.11877)\n",
      "(129, None, 49.271471, -123.17731)\n",
      "(130, None, 49.265939, -123.1129)\n",
      "(131, None, 49.265336, -123.145823)\n",
      "(132, None, 49.25894, -123.139272)\n",
      "(133, None, 49.287464, -123.060771)\n",
      "(134, None, 49.283298, -123.142288)\n",
      "(135, None, 49.268269, -123.147885)\n",
      "(136, None, 49.285836, -123.127265)\n",
      "(137, None, 49.280216, -123.117639)\n",
      "(138, None, 49.277469, -123.081315)\n",
      "(139, None, 49.263962, -123.112621)\n",
      "(140, None, 49.270721, -123.146175)\n",
      "(141, None, 49.262141, -123.101961)\n",
      "(142, None, 49.280787, -123.115271)\n",
      "(143, None, 49.271741, -123.155421)\n",
      "(144, None, 49.271721, -123.104207)\n",
      "(145, None, 49.262598, -123.138921)\n",
      "(146, None, 49.256496, -123.075426)\n",
      "(147, None, 49.249722, -123.104991)\n",
      "(148, None, 49.264579, -123.18373)\n",
      "(149, None, 49.28117, -123.104419)\n",
      "(150, None, 49.263242, -123.070521)\n",
      "(151, None, 49.267628, -123.127698)\n",
      "(152, None, 49.275295, -123.132585)\n",
      "(153, None, 49.277615, -123.091654)\n",
      "(154, None, 49.268216, -123.103168)\n",
      "(155, None, 49.294318, -123.148808)\n",
      "(156, None, 49.265213, -123.090785)\n",
      "(157, None, 49.265207, -123.250139)\n",
      "(158, None, 49.264483, -123.173926)\n",
      "(159, None, 49.278004, -123.105664)\n",
      "(160, None, 49.273568, -123.129935)\n",
      "(161, None, 49.247204, -123.101549)\n",
      "(162, None, 49.29534, -123.150433)\n",
      "(163, None, 49.265005, -123.079481)\n",
      "(164, None, 49.271221, -123.191133)\n",
      "(165, None, 49.271044, -123.170661)\n",
      "(166, None, 49.264251, -123.073853)\n",
      "(167, None, 49.27821, -123.136972)\n",
      "(168, None, 49.285953, -123.124066)\n",
      "(169, None, 49.2856698, -123.1125432)\n",
      "(170, None, 49.275717, -123.142564)\n",
      "(171, None, 49.264326, -123.164725)\n",
      "(172, None, 49.274881, -123.069323)\n",
      "(173, None, 49.265071, -123.123864)\n",
      "(174, None, 49.273691, -123.102232)\n",
      "(175, None, 49.280197, -123.065859)\n",
      "(176, None, 49.25741, -123.148531)\n",
      "(177, None, 49.270877, -123.115103)\n",
      "(178, None, 49.279235, -123.087528)\n",
      "(179, None, 49.245135, -123.116098)\n",
      "(180, None, 49.261188, -123.066009)\n",
      "(181, None, 49.277436, -123.070427)\n",
      "(182, None, 49.258902, -123.109596)\n",
      "(183, None, 49.282214, -123.114101)\n",
      "(184, None, 49.280852, -123.084746)\n",
      "(185, None, 49.282087, -123.056909)\n",
      "(186, None, 49.273103, -123.069892)\n",
      "(187, None, 49.275679, -123.116963)\n",
      "(188, None, 49.2658, -123.20596)\n",
      "(189, None, 49.270905, -123.126006)\n",
      "(190, None, 49.267859, -123.145782)\n",
      "(191, None, 49.272827, -123.147744)\n",
      "(192, None, 49.279369, -123.091241)\n",
      "(193, None, 49.28526, -123.141809)\n",
      "(194, None, 49.261122, -123.097571)\n",
      "(195, None, 49.287097, -123.118551)\n",
      "(196, None, 49.269969, -123.109623)\n",
      "(197, None, 49.287782, -123.12395)\n",
      "(198, None, 49.269361, -123.13782)\n",
      "(199, None, 49.266456, -123.100324)\n",
      "(200, None, 49.284062, -123.095097)\n",
      "(201, None, 49.258817, -123.092797)\n",
      "(202, None, 49.283236, -123.070443)\n",
      "(203, None, 49.263746, -123.069892)\n",
      "(204, None, 49.276115, -123.114496)\n",
      "(205, None, 49.25919, -123.148268)\n",
      "(206, None, 49.269172, -123.25279)\n",
      "(207, None, 49.281301, -123.139108)\n",
      "(208, None, 49.258924, -123.152591)\n",
      "(209, None, 49.284157, -123.099917)\n",
      "(210, None, 49.277178, -123.13)\n",
      "(211, None, 49.265442, -123.187738)\n",
      "(212, None, 49.26262, -123.2431)\n",
      "(213, None, 49.290587, -123.13625)\n",
      "(214, None, 49.257985, -123.083366)\n",
      "(215, None, 49.256694, -123.096579)\n",
      "(216, None, 49.285512, -123.1384)\n",
      "(217, None, 49.26893, -123.11813)\n",
      "(218, None, 49.273471, -123.118016)\n",
      "(219, None, 49.277665, -123.073653)\n",
      "(220, None, 49.282055, -123.133045)\n",
      "(221, None, 49.266725, -123.065925)\n",
      "(222, None, 49.245535, -123.120496)\n",
      "(223, None, 49.276292, -123.150592)\n",
      "(224, None, 49.267561, -123.252261)\n",
      "(225, None, 49.27029, -123.135025)\n",
      "(226, None, 49.265242, -123.095577)\n",
      "(227, None, 49.283749, -123.136133)\n",
      "(228, None, 49.27751, -123.061429)\n",
      "(229, None, 49.262944, -123.148109)\n",
      "(230, None, 49.261655, -123.241924)\n",
      "(231, None, 49.285871, -123.12105)\n",
      "(232, None, 49.251358, -123.115637)\n",
      "(233, None, 49.262242, -123.081459)\n",
      "(234, None, 49.298657, -123.121176)\n",
      "(235, None, 49.287528, -123.142139)\n",
      "(236, None, 49.280284, -123.097052)\n",
      "(237, None, 49.275683, -123.124388)\n",
      "(238, None, 49.280332, -123.070068)\n",
      "(239, None, 49.254818, -123.114785)\n",
      "(240, None, 49.268616, -123.069908)\n",
      "(241, None, 49.25478, -123.23621)\n",
      "(242, None, 49.293257, -123.138563)\n",
      "(243, None, 49.279342, -123.101822)\n",
      "(244, None, 49.288682, -123.11818)\n",
      "(245, None, 49.270684, -123.073562)\n",
      "(246, None, 49.291597, -123.129158)\n",
      "(247, None, 49.2890705989865, -123.138407369468)\n",
      "(248, None, 49.263382, -123.088837)\n",
      "(249, None, 49.266924, -123.173849)\n",
      "(250, None, 49.284605, -123.108662)\n",
      "(251, None, 49.279938, -123.127478)\n",
      "(252, None, 49.28602, -123.116624)\n",
      "(253, None, 49.265089, -123.119425)\n",
      "(254, None, 49.277595, -123.09583)\n",
      "(255, None, 49.277141, -123.122589)\n",
      "(256, None, 49.279821, -123.10802)\n",
      "(257, None, 49.263518, -123.09568)\n"
     ]
    }
   ],
   "source": [
    "# select columns\n",
    "select_geodistance = \"SELECT * from geo_distance\"\n",
    "geo_distance = execute_read_query(connection, select_geodistance)\n",
    "\n",
    "for i in geo_distance:\n",
    "    print(i)"
   ]
  },
  {
   "cell_type": "code",
   "execution_count": 91,
   "metadata": {},
   "outputs": [
    {
     "name": "stdout",
     "output_type": "stream",
     "text": [
      "(0, 50, 'Chilco & Barclay', 17, 0, None, None)\n",
      "(1, 45, 'St George & Broadway', 6, 8, None, None)\n",
      "(2, 50, 'Britannia Parking Lot', 2, 12, None, None)\n",
      "(3, 47, 'Morton & Denman', 12, 14, None, None)\n",
      "(4, 48, 'Thornton & National', 4, 10, None, None)\n",
      "(5, 50, 'Burrard & 14th', 1, 17, None, None)\n",
      "(6, 50, 'Olympic Village Station', 3, 17, None, None)\n",
      "(7, 50, '8th & Macdonald', 12, 8, None, None)\n",
      "(8, 43, '30th & Ontario', 13, 9, None, None)\n",
      "(9, 27, 'Lakewood & Triumph', 7, 9, None, None)\n",
      "(10, 44, '13th & Cambie', 5, 9, None, None)\n",
      "(11, 14, 'Arbutus & Nanton', 4, 12, None, None)\n",
      "(12, 41, '14th & Fraser', 3, 13, None, None)\n",
      "(13, 32, '15th & Victoria (Trout Lake)', 5, 13, None, None)\n",
      "(14, 50, 'Robson & Hornby', 5, 15, None, None)\n",
      "(15, 50, 'Cardero & Robson', 11, 14, None, None)\n",
      "(16, 50, '1st & Scotia', 13, 7, None, None)\n",
      "(17, 48, '10th & Fraser', 6, 8, None, None)\n",
      "(18, 50, 'Ontario & 5th', 15, 5, None, None)\n",
      "(19, 50, 'Heather & 16th', 4, 8, None, None)\n",
      "(20, 50, 'Richards & Smithe', 7, 10, None, None)\n",
      "(21, 50, 'Robson & Beatty', 3, 16, None, None)\n",
      "(22, 43, 'Maple Tree Square', 9, 16, None, None)\n",
      "(23, 50, '22nd & Main', 2, 12, None, None)\n",
      "(24, 40, 'Carrall & Seawall', 4, 13, None, None)\n",
      "(25, 50, 'Charles & Woodland', 8, 5, None, None)\n",
      "(26, 50, '1st & Manitoba', 14, 8, None, None)\n",
      "(27, 39, 'St Catherines & 7th', 8, 11, None, None)\n",
      "(28, 29, 'Triumph & Victoria', 9, 9, None, None)\n",
      "(29, 41, '18th & Main', 4, 12, None, None)\n",
      "(30, 47, 'St Catherines & 10th', 0, 12, None, None)\n",
      "(31, 50, 'Nelson & Richards', 9, 9, None, None)\n",
      "(32, 50, 'Arbutus & 10th', 2, 16, None, None)\n",
      "(33, 50, 'Comox & Denman', 16, 2, None, None)\n",
      "(34, 50, 'Prince Edward & 14th', 2, 12, None, None)\n",
      "(35, 43, 'Alexander & Railway', 3, 16, None, None)\n",
      "(36, 49, 'Chilco & Beach', 10, 4, None, None)\n",
      "(37, 50, 'Richards & Cordova', 0, 16, None, None)\n",
      "(38, 32, 'Orchard Commons', 5, 21, None, None)\n",
      "(39, 27, 'Strangway Building', 5, 18, None, None)\n",
      "(40, 50, 'Yew & Broadway', 3, 14, None, None)\n",
      "(41, 49, 'Woodland & 10th', 9, 4, None, None)\n",
      "(42, 37, 'Ontario & 16th', 7, 7, None, None)\n",
      "(43, 44, '14th & Alder', 5, 9, None, None)\n",
      "(44, 45, 'Chestnut & McNicoll', 2, 14, None, None)\n",
      "(45, 50, 'Dunbar & 6th', 9, 7, None, None)\n",
      "(46, 37, 'Stanley Park - Vancouver Aquarium', 1, 16, None, None)\n",
      "(47, 46, 'Yaletown-Roundhouse Station', 5, 10, None, None)\n",
      "(48, 50, 'Smithe & Burrard', 8, 8, None, None)\n",
      "(49, 50, 'Abbott & Cordova', 2, 20, None, None)\n",
      "(50, 16, 'Sasamat & 10th', 10, 12, None, None)\n",
      "(51, 50, 'Vine & 4th', 4, 13, None, None)\n",
      "(52, 50, '10th & Ontario', 7, 13, None, None)\n",
      "(53, 50, 'Pine & 10th', 10, 10, None, None)\n",
      "(54, 32, 'Wallace & 4th', 10, 8, None, None)\n",
      "(55, 50, 'Pacific & Richards', 9, 2, None, None)\n",
      "(56, 49, '7th &  Alder', 5, 11, None, None)\n",
      "(57, 50, 'Canada Place', 23, 2, None, None)\n",
      "(58, 50, 'Jervis & Robson', 6, 13, None, None)\n",
      "(59, 38, 'Heather & 18th', 0, 16, None, None)\n",
      "(60, 50, '14th & Oak', 2, 12, None, None)\n",
      "(61, 44, 'Bute & Comox', 15, 6, None, None)\n",
      "(62, 45, 'Comox & Broughton', 12, 0, None, None)\n",
      "(63, 50, 'Station & Terminal', 14, 4, None, None)\n",
      "(64, 6, 'Stanley Park - Third Beach Parking Lot', 14, 23, None, None)\n",
      "(65, 50, 'Woodland & 4th', 10, 3, None, None)\n",
      "(66, 43, '8th & Ash', 5, 11, None, None)\n",
      "(67, 50, 'Burrard & Drake', 6, 14, None, None)\n",
      "(68, 50, '10th & Kingsway', 7, 12, None, None)\n",
      "(69, 50, '10th & Oak', 1, 20, None, None)\n",
      "(70, 44, 'Hawks & Union', 3, 13, None, None)\n",
      "(71, 48, 'Marinaside & Cooperage', 5, 21, None, None)\n",
      "(72, 50, 'Alberni & Jervis', 5, 15, None, None)\n",
      "(73, 50, '7th & Arbutus', 4, 12, None, None)\n",
      "(74, 42, '14th & Ontario', 8, 8, None, None)\n",
      "(75, 47, 'King Edward & Cambie', 8, 10, None, None)\n",
      "(76, 50, '1st & Fir', 16, 3, None, None)\n",
      "(77, 44, 'Arbutus & 16th', 13, 27, None, None)\n",
      "(78, 27, 'War Memorial Gym', 14, 13, None, None)\n",
      "(79, 22, '28th & Willow', 12, 8, None, None)\n",
      "(80, 50, 'Arbutus Greenway & Fir', 6, 10, None, None)\n",
      "(81, 24, 'West Mall Swing Space Building', 5, 15, None, None)\n",
      "(82, 42, 'McLean & Pender', 7, 9, None, None)\n",
      "(83, 48, 'Bute & Barclay', 4, 26, None, None)\n",
      "(84, 46, 'Balsam & Cornwall', 13, 5, None, None)\n",
      "(85, 50, 'Hastings & Broughton', 10, 14, None, None)\n",
      "(86, 50, 'Seymour & Cordova', 7, 12, None, None)\n",
      "(87, 48, 'Alder & 11th', 12, 2, None, None)\n",
      "(88, 50, '10th & Columbia', 7, 7, None, None)\n",
      "(89, 46, 'Heather & 14th', 8, 8, None, None)\n",
      "(90, 42, 'Commercial & 20th', 9, 11, None, None)\n",
      "(91, 50, 'Kitsilano Beach Park', 12, 24, None, None)\n",
      "(92, 50, 'Rolston & Granville', 8, 14, None, None)\n",
      "(93, 50, 'Cordova & Bute', 14, 0, None, None)\n",
      "(94, 49, '12th & Yukon (City Hall)', 11, 5, None, None)\n",
      "(95, 50, 'Blenheim & 4th', 7, 16, None, None)\n",
      "(96, 50, 'Wylie & 2nd', 9, 8, None, None)\n",
      "(97, 48, 'Thurlow & Pendrell', 4, 11, None, None)\n",
      "(98, 41, '14th & Cambie', 1, 13, None, None)\n",
      "(99, 50, 'Granville & Georgia', 3, 17, None, None)\n",
      "(100, 50, 'Grant & Commercial', 4, 10, None, None)\n",
      "(101, 45, '8th & Ontario', 3, 13, None, None)\n",
      "(102, 50, 'Hornby & Nelson', 11, 7, None, None)\n",
      "(103, 50, \"šxʷƛ̓ənəq Xwtl'e7énḵ Square - Vancouver Art Gallery\", 3, 25, None, None)\n",
      "(104, 50, 'Dunsmuir & Beatty', 13, 12, None, None)\n",
      "(105, 50, 'Robson & Granville', 8, 15, None, None)\n",
      "(106, 49, '4th & Commercial', 1, 13, None, None)\n",
      "(107, 50, '8th & Scotia', 3, 9, None, None)\n",
      "(108, 50, 'Homer & Robson (Vancouver Public Library)', 2, 18, None, None)\n",
      "(109, 50, '7th & Granville', 5, 9, None, None)\n",
      "(110, 41, 'Harwood & Bute', 5, 15, None, None)\n",
      "(111, 39, 'Creekside Park North', 11, 7, None, None)\n",
      "(112, 50, 'Nicola & Robson', 9, 9, None, None)\n",
      "(113, 47, '10th & Commercial', 12, 14, None, None)\n",
      "(114, 50, '10th & Cambie', 16, 20, None, None)\n",
      "(115, 50, 'Quebec & 1st', 13, 1, None, None)\n",
      "(116, 26, 'Lakewood & Oxford', 8, 10, None, None)\n",
      "(117, 45, 'Carolina & Great Northern Way', 10, 6, None, None)\n",
      "(118, 49, 'Columbia & 5th', 12, 6, None, None)\n",
      "(119, 29, 'East Blvd & 37th', 9, 11, None, None)\n",
      "(120, 44, 'Trafalgar & Cornwall', 2, 18, None, None)\n",
      "(121, 50, '5th & Arbutus', 11, 5, None, None)\n",
      "(122, 50, 'Stanley Park - Information Booth', 3, 16, None, None)\n",
      "(123, 50, '14th & Main', 5, 8, None, None)\n",
      "(124, 41, 'Georgia & Main', 13, 7, None, None)\n",
      "(125, 33, 'Agronomy & East Mall', 2, 16, None, None)\n",
      "(126, 25, 'Alma & Point Grey', 9, 15, None, None)\n",
      "(127, 37, '20th & Main', 4, 12, None, None)\n",
      "(128, 50, 'Nelson & Mainland', 3, 17, None, None)\n",
      "(129, 50, 'Point Grey & Blenheim', 9, 5, None, None)\n",
      "(130, 49, 'Yukon & 6th', 5, 13, None, None)\n",
      "(131, 50, 'Burrard & 7th', 6, 9, None, None)\n",
      "(132, 49, '14th & Granville', 6, 8, None, None)\n",
      "(133, 21, 'Wall & Eton', 6, 11, None, None)\n",
      "(134, 39, 'Beach & Cardero', 10, 12, None, None)\n",
      "(135, 50, 'Cypress & 4th', 5, 12, None, None)\n",
      "(136, 50, 'Bute & Robson', 0, 0, None, None)\n",
      "(137, 50, 'Richards & Robson', 8, 7, None, None)\n",
      "(138, 42, 'Glen & Union', 8, 6, None, None)\n",
      "(139, 50, '8th & Yukon', 3, 21, None, None)\n",
      "(140, 50, '1st & Chestnut', 16, 10, None, None)\n",
      "(141, 48, '10th & Main', 8, 10, None, None)\n",
      "(142, 50, 'Georgia & Homer', 1, 16, None, None)\n",
      "(143, 45, 'York & Yew', 18, 2, None, None)\n",
      "(144, 48, 'Ontario & Seawall', 4, 16, None, None)\n",
      "(145, 50, '10th & Granville', 4, 9, None, None)\n",
      "(146, 43, '15th & Knight', 9, 5, None, None)\n",
      "(147, 50, 'Ontario & 23rd', 6, 6, None, None)\n",
      "(148, 50, 'Dunbar & Broadway', 14, 12, None, None)\n",
      "(149, 50, 'Carrall & Hastings', 11, 7, None, None)\n",
      "(150, 49, '8th & Commercial', 7, 13, None, None)\n",
      "(151, 50, 'Charleson Park', 10, 4, None, None)\n",
      "(152, 49, 'Beach & Hornby', 9, 13, None, None)\n",
      "(153, 48, 'Princess & Union', 8, 4, None, None)\n",
      "(154, 50, '3rd & Quebec', 19, 1, None, None)\n",
      "(155, 31, 'Stanley Park - Second Beach South', 16, 2, None, None)\n",
      "(156, 49, '6th & Carolina', 7, 9, None, None)\n",
      "(157, 28, 'UBC Bookstore', 9, 3, None, None)\n",
      "(158, 50, 'Balaclava & Broadway', 9, 9, None, None)\n",
      "(159, 50, 'Expo & Carrall', 13, 3, None, None)\n",
      "(160, 50, 'Beach & Seymour', 11, 7, None, None)\n",
      "(161, 50, '27th & Main', 6, 17, None, None)\n",
      "(162, 21, 'Stanley Park - Second Beach North', 12, 1, None, None)\n",
      "(163, 47, 'Keith & 6th', 13, 15, None, None)\n",
      "(164, 37, 'Jericho Beach', 10, 16, None, None)\n",
      "(165, 50, 'Point Grey & Bayswater', 12, 4, None, None)\n",
      "(166, 45, '7th & Woodland', 10, 2, None, None)\n",
      "(167, 47, 'Aquatic Centre', 7, 33, None, None)\n",
      "(168, 50, 'Georgia & Thurlow', 0, 12, None, None)\n",
      "(169, 50, 'Cordova & Granville', 12, 5, None, None)\n",
      "(170, 41, 'Vanier Park', 5, 23, None, None)\n",
      "(171, 50, 'Trafalgar & Broadway', 5, 10, None, None)\n",
      "(172, 47, 'Napier & Commercial', 7, 7, None, None)\n",
      "(173, 49, '7th & Laurel', 5, 8, None, None)\n",
      "(174, 50, 'Science World', 10, 6, None, None)\n",
      "(175, 43, 'Pender & Victoria', 2, 14, None, None)\n",
      "(176, 48, 'Cypress & 16th', 3, 9, None, None)\n",
      "(177, 42, 'Spyglass & Seawall', 10, 1, None, None)\n",
      "(178, 48, 'Keefer & Hawks', 13, 3, None, None)\n",
      "(179, 40, '29th & Cambie', 10, 10, None, None)\n",
      "(180, 39, 'Victoria & 10th', 0, 0, None, None)\n",
      "(181, 46, 'Commercial & Adanac', 14, 2, None, None)\n",
      "(182, 47, 'Columbia & 14th', 7, 7, None, None)\n",
      "(183, 50, 'Dunsmuir & Richards', 2, 20, None, None)\n",
      "(184, 39, 'Campbell & Hastings', 7, 7, None, None)\n",
      "(185, 28, 'Franklin & Nanaimo', 9, 11, None, None)\n",
      "(186, 48, 'Charles & Commercial', 15, 7, None, None)\n",
      "(187, 50, 'Beatty & Nelson', 8, 6, None, None)\n",
      "(188, 19, 'Trimble & 8th', 8, 12, None, None)\n",
      "(189, 48, 'David Lam Park', 9, 8, None, None)\n",
      "(190, 50, 'Burrard & 4th', 10, 6, None, None)\n",
      "(191, 48, 'Cypress & Cornwall', 13, 9, None, None)\n",
      "(192, 43, 'Keefer & Princess', 2, 12, None, None)\n",
      "(193, 40, 'Bidwell & Burnaby', 0, 0, None, None)\n",
      "(194, 50, '11th & Kingsway', 5, 10, None, None)\n",
      "(195, 50, 'Pender & Burrard', 2, 23, None, None)\n",
      "(196, 50, 'Columbia & 1st', 17, 7, None, None)\n",
      "(197, 50, 'Melville & Bute', 0, 14, None, None)\n",
      "(198, 50, 'Anderson & 2nd', 15, 13, None, None)\n",
      "(199, 50, '5th & Main', 10, 10, None, None)\n",
      "(200, 33, 'Alexander & Dunlevy', 3, 10, None, None)\n",
      "(201, 50, '13th & St George', 7, 9, None, None)\n",
      "(202, 36, 'Commercial & Pandora', 10, 6, None, None)\n",
      "(203, 46, 'Grandview & Commercial', 11, 5, None, None)\n",
      "(204, 50, 'Expo & Smithe', 7, 6, None, None)\n",
      "(205, 39, 'Cypress & 14th', 3, 9, None, None)\n",
      "(206, 20, 'Brock Commons', 14, 6, None, None)\n",
      "(207, 28, 'Beach & Broughton', 20, 2, None, None)\n",
      "(208, 41, 'Arbutus Greenway & 14th', 0, 19, None, None)\n",
      "(209, 41, 'Alexander & Main', 14, 6, None, None)\n",
      "(210, 50, 'Hornby & Drake', 8, 13, None, None)\n",
      "(211, 50, 'Highbury & 8th', 8, 11, None, None)\n",
      "(212, 31, 'Pharmaceutical Sciences', 6, 17, None, None)\n",
      "(213, 49, 'Haro & Denman', 7, 12, None, None)\n",
      "(214, 41, 'Windsor & 14th', 13, 1, None, None)\n",
      "(215, 45, 'Prince Edward & 16th', 7, 7, None, None)\n",
      "(216, 41, 'Cardero & Davie', 9, 4, None, None)\n",
      "(217, 50, 'Stamps Landing', 7, 7, None, None)\n",
      "(218, 44, 'Marinaside & Davie', 16, 6, None, None)\n",
      "(219, 47, 'Adanac & McLean', 15, 7, None, None)\n",
      "(220, 45, 'Bute & Davie', 5, 15, None, None)\n",
      "(221, 45, 'Victoria & 4th', 4, 12, None, None)\n",
      "(222, 34, 'Heather & 29th', 5, 17, None, None)\n",
      "(223, 39, 'McNicoll & Arbutus', 12, 18, None, None)\n",
      "(224, 24, 'IK Barber Learning Centre', 9, 11, None, None)\n",
      "(225, 48, 'Granville Island', 17, 15, None, None)\n",
      "(226, 50, '6th & Prince Edward', 6, 10, None, None)\n",
      "(227, 33, 'Broughton & Davie', 5, 12, None, None)\n",
      "(228, 42, 'Adanac & Lakewood', 8, 12, None, None)\n",
      "(229, 50, 'Cypress & 10th', 7, 5, None, None)\n",
      "(230, 34, 'Thunderbird Parkade', 8, 9, None, None)\n",
      "(231, 50, 'Burrard Station (Melville & Dunsmuir)', 13, 15, None, None)\n",
      "(232, 37, '22nd & Cambie', 6, 8, None, None)\n",
      "(233, 44, 'Glen & Broadway', 13, 5, None, None)\n",
      "(234, 21, 'Stanley Park - Totem Poles', 2, 18, None, None)\n",
      "(235, 47, 'Davie & Beach', 20, 10, None, None)\n",
      "(236, 50, 'Pender & Gore', 10, 4, None, None)\n",
      "(237, 50, 'Richards & Davie', 11, 2, None, None)\n",
      "(238, 43, 'Pender & Commercial', 5, 11, None, None)\n",
      "(239, 33, '18th & Cambie', 6, 18, None, None)\n",
      "(240, 48, '2nd & Commercial', 5, 17, None, None)\n",
      "(241, 20, 'Wesbrook Village - Berton & Shrum', 19, 9, None, None)\n",
      "(242, 50, 'Chilco & Robson', 14, 5, None, None)\n",
      "(243, 49, 'Keefer & Columbia', 0, 14, None, None)\n",
      "(244, 50, 'Rogers Tower', 5, 1, None, None)\n",
      "(245, 50, 'Woodland & Graveley', 6, 6, None, None)\n",
      "(246, 50, 'Cardero & Bayshore', 12, 8, None, None)\n",
      "(247, 40, 'Nelson & Denman', 4, 13, None, None)\n",
      "(248, 46, '8th & Fraser', 4, 11, None, None)\n",
      "(249, 50, 'Balaclava & 6th', 7, 9, None, None)\n",
      "(250, 50, 'Cambie & Water', 15, 17, None, None)\n",
      "(251, 50, 'Helmcken & Burrard', 6, 9, None, None)\n",
      "(252, 50, 'Hornby & Pender', 6, 14, None, None)\n",
      "(253, 47, '7th & Heather', 12, 6, None, None)\n",
      "(254, 46, 'Union & Dunlevy', 5, 11, None, None)\n",
      "(255, 50, 'Richards & Helmcken', 0, 18, None, None)\n",
      "(256, 50, 'Keefer & Abbott', 15, 13, None, None)\n",
      "(257, 50, '8th & Prince Edward', 8, 10, None, None)\n"
     ]
    }
   ],
   "source": [
    "# select columns\n",
    "select_stations = \"SELECT * from stations\"\n",
    "stations = execute_read_query(connection, select_stations)\n",
    "\n",
    "for i in stations:\n",
    "    print(i)"
   ]
  }
 ],
 "metadata": {
  "kernelspec": {
   "display_name": "base",
   "language": "python",
   "name": "python3"
  },
  "language_info": {
   "codemirror_mode": {
    "name": "ipython",
    "version": 3
   },
   "file_extension": ".py",
   "mimetype": "text/x-python",
   "name": "python",
   "nbconvert_exporter": "python",
   "pygments_lexer": "ipython3",
   "version": "3.12.7"
  }
 },
 "nbformat": 4,
 "nbformat_minor": 4
}
