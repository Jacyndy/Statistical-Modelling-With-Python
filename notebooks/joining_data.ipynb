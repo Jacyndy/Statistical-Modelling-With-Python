{
 "cells": [
  {
   "cell_type": "markdown",
   "metadata": {},
   "source": [
    "Join the data from Part 1 with the data from Part 2 to create a new dataframe."
   ]
  },
  {
   "cell_type": "code",
   "execution_count": 3,
   "metadata": {},
   "outputs": [],
   "source": [
    "import pandas as pd\n",
    "import numpy as np"
   ]
  },
  {
   "cell_type": "code",
   "execution_count": 4,
   "metadata": {},
   "outputs": [],
   "source": [
    "# getting the joined data\n",
    "city_bike_share = pd.read_csv('city_bike_share.csv')"
   ]
  },
  {
   "cell_type": "code",
   "execution_count": 5,
   "metadata": {},
   "outputs": [
    {
     "data": {
      "text/plain": [
       "Index(['Unnamed: 0.1', 'fsq_id', 'categories', 'chains', 'closed_bucket',\n",
       "       'distance', 'link', 'name_x', 'timezone', 'geocodes.main.latitude',\n",
       "       'geocodes.main.longitude', 'geocodes.roof.latitude',\n",
       "       'geocodes.roof.longitude', 'location.address', 'location.country',\n",
       "       'location.cross_street', 'location.formatted_address',\n",
       "       'location.locality', 'location.postcode', 'location.region',\n",
       "       'related_places.parent.fsq_id', 'related_places.parent.categories',\n",
       "       'related_places.parent.name', 'geocodes.drop_off.latitude',\n",
       "       'geocodes.drop_off.longitude', 'related_places.children',\n",
       "       'location.address_extended', 'bike_station_index', 'location.po_box',\n",
       "       'geocodes.front_door.latitude', 'geocodes.front_door.longitude',\n",
       "       'Unnamed: 0', 'id', 'name_y', 'latitude', 'longitude', 'timestamp',\n",
       "       'free_bikes', 'empty_slots', 'extra.uid', 'extra.renting',\n",
       "       'extra.returning', 'extra.last_updated', 'extra.slots',\n",
       "       'extra.normal_bikes', 'extra.ebikes', 'extra.has_ebikes'],\n",
       "      dtype='object')"
      ]
     },
     "execution_count": 5,
     "metadata": {},
     "output_type": "execute_result"
    }
   ],
   "source": [
    "# view columns\n",
    "city_bike_share.columns"
   ]
  },
  {
   "cell_type": "code",
   "execution_count": null,
   "metadata": {},
   "outputs": [],
   "source": [
    "city_bike_share_columns = pd.read_csv('city_bike_column_dropped.csv')"
   ]
  },
  {
   "cell_type": "code",
   "execution_count": null,
   "metadata": {},
   "outputs": [
    {
     "data": {
      "text/plain": [
       "Index(['Unnamed: 0.1', 'fsq_id', 'categories', 'chains', 'closed_bucket',\n",
       "       'distance', 'link', 'name_x', 'timezone', 'geocodes.main.latitude',\n",
       "       'geocodes.main.longitude', 'geocodes.roof.latitude',\n",
       "       'geocodes.roof.longitude', 'location.address', 'location.country',\n",
       "       'location.cross_street', 'location.formatted_address',\n",
       "       'location.locality', 'location.postcode', 'location.region',\n",
       "       'related_places.parent.fsq_id', 'related_places.parent.categories',\n",
       "       'related_places.parent.name', 'geocodes.drop_off.latitude',\n",
       "       'geocodes.drop_off.longitude', 'related_places.children',\n",
       "       'location.address_extended', 'bike_station_index', 'location.po_box',\n",
       "       'geocodes.front_door.latitude', 'geocodes.front_door.longitude',\n",
       "       'Unnamed: 0', 'id', 'name_y', 'latitude', 'longitude', 'timestamp',\n",
       "       'free_bikes', 'empty_slots', 'extra.uid', 'extra.renting',\n",
       "       'extra.returning', 'extra.last_updated', 'extra.slots',\n",
       "       'extra.normal_bikes', 'extra.ebikes', 'extra.has_ebikes'],\n",
       "      dtype='object')"
      ]
     },
     "metadata": {},
     "output_type": "display_data"
    }
   ],
   "source": [
    "city_bike_share_columns.columns"
   ]
  },
  {
   "cell_type": "code",
   "execution_count": null,
   "metadata": {},
   "outputs": [],
   "source": [
    "df_dropped_columns = city_bike_share_columns.drop(['extra.uid', 'extra.renting',\n",
    "       'extra.returning', 'extra.last_updated', 'extra.slots',\n",
    "       'extra.normal_bikes', 'extra.ebikes', 'extra.has_ebikes'], axis=1)"
   ]
  },
  {
   "cell_type": "code",
   "execution_count": null,
   "metadata": {},
   "outputs": [
    {
     "data": {
      "text/plain": [
       "Index(['Unnamed: 0.1', 'fsq_id', 'categories', 'chains', 'closed_bucket',\n",
       "       'distance', 'link', 'name_x', 'timezone', 'geocodes.main.latitude',\n",
       "       'geocodes.main.longitude', 'geocodes.roof.latitude',\n",
       "       'geocodes.roof.longitude', 'location.address', 'location.country',\n",
       "       'location.cross_street', 'location.formatted_address',\n",
       "       'location.locality', 'location.postcode', 'location.region',\n",
       "       'related_places.parent.fsq_id', 'related_places.parent.categories',\n",
       "       'related_places.parent.name', 'geocodes.drop_off.latitude',\n",
       "       'geocodes.drop_off.longitude', 'related_places.children',\n",
       "       'location.address_extended', 'bike_station_index', 'location.po_box',\n",
       "       'geocodes.front_door.latitude', 'geocodes.front_door.longitude',\n",
       "       'Unnamed: 0', 'id', 'name_y', 'latitude', 'longitude', 'timestamp',\n",
       "       'free_bikes', 'empty_slots'],\n",
       "      dtype='object')"
      ]
     },
     "metadata": {},
     "output_type": "display_data"
    }
   ],
   "source": [
    "df_dropped_columns.columns"
   ]
  },
  {
   "cell_type": "code",
   "execution_count": null,
   "metadata": {},
   "outputs": [
    {
     "data": {
      "text/plain": [
       "categories\n",
       "[{'id': 18021, 'name': 'Gym and Studio', 'short_name': 'Gym and Studio', 'plural_name': 'Gym and Studios', 'icon': {'prefix': 'https://ss3.4sqi.net/img/categories_v2/building/gym_', 'suffix': '.png'}}]                                                                                                                                                                                                                                                                                                                                                                                                                                                           2239\n",
       "[{'id': 16032, 'name': 'Park', 'short_name': 'Park', 'plural_name': 'Parks', 'icon': {'prefix': 'https://ss3.4sqi.net/img/categories_v2/parks_outdoors/park_', 'suffix': '.png'}}]                                                                                                                                                                                                                                                                                                                                                                                                                                                                                  1826\n",
       "[{'id': 18000, 'name': 'Sports and Recreation', 'short_name': 'Sports and Recreation', 'plural_name': 'Sports and Recreation', 'icon': {'prefix': 'https://ss3.4sqi.net/img/categories_v2/shops/sports_outdoors_', 'suffix': '.png'}}]                                                                                                                                                                                                                                                                                                                                                                                                                               636\n",
       "[{'id': 18028, 'name': 'Yoga Studio', 'short_name': 'Yoga Studio', 'plural_name': 'Yoga Studios', 'icon': {'prefix': 'https://ss3.4sqi.net/img/categories_v2/shops/gym_yogastudio_', 'suffix': '.png'}}]                                                                                                                                                                                                                                                                                                                                                                                                                                                             579\n",
       "[{'id': 18036, 'name': 'Martial Arts Dojo', 'short_name': 'Martial Arts Dojo', 'plural_name': 'Martial Arts Dojos', 'icon': {'prefix': 'https://ss3.4sqi.net/img/categories_v2/shops/gym_martialarts_', 'suffix': '.png'}}]                                                                                                                                                                                                                                                                                                                                                                                                                                          481\n",
       "                                                                                                                                                                                                                                                                                                                                                                                                                                                                                                                                                                                                                                                                    ... \n",
       "[{'id': 13276, 'name': 'Sushi Restaurant', 'short_name': 'Sushi', 'plural_name': 'Sushi Restaurants', 'icon': {'prefix': 'https://ss3.4sqi.net/img/categories_v2/food/sushi_', 'suffix': '.png'}}, {'id': 19047, 'name': 'Rail Station', 'short_name': 'Rail Station', 'plural_name': 'Rail Stations', 'icon': {'prefix': 'https://ss3.4sqi.net/img/categories_v2/travel/trainstation_', 'suffix': '.png'}}]                                                                                                                                                                                                                                                           1\n",
       "[{'id': 18044, 'name': 'Squash Court', 'short_name': 'Squash Court', 'plural_name': 'Squash Courts', 'icon': {'prefix': 'https://ss3.4sqi.net/img/categories_v2/arts_entertainment/stadium_tennis_', 'suffix': '.png'}}]                                                                                                                                                                                                                                                                                                                                                                                                                                               1\n",
       "[{'id': 17031, 'name': 'Costume Store', 'short_name': 'Costume Store', 'plural_name': 'Costume Stores', 'icon': {'prefix': 'https://ss3.4sqi.net/img/categories_v2/shops/default_', 'suffix': '.png'}}, {'id': 18025, 'name': 'Dance Studio', 'short_name': 'Dance Studio', 'plural_name': 'Dance Studios', 'icon': {'prefix': 'https://ss3.4sqi.net/img/categories_v2/arts_entertainment/performingarts_dancestudio_', 'suffix': '.png'}}]                                                                                                                                                                                                                            1\n",
       "[{'id': 17117, 'name': 'Sporting Goods Retail', 'short_name': 'Sporting Goods Retail', 'plural_name': 'Sporting Goods Retail', 'icon': {'prefix': 'https://ss3.4sqi.net/img/categories_v2/shops/sports_outdoors_', 'suffix': '.png'}}, {'id': 18056, 'name': 'Skating Rink', 'short_name': 'Skating Rink', 'plural_name': 'Skating Rinks', 'icon': {'prefix': 'https://ss3.4sqi.net/img/categories_v2/parks_outdoors/skatingrink_', 'suffix': '.png'}}, {'id': 18065, 'name': 'Sports Club', 'short_name': 'Sports Club', 'plural_name': 'Sports Clubs', 'icon': {'prefix': 'https://ss3.4sqi.net/img/categories_v2/shops/sports_outdoors_', 'suffix': '.png'}}]       1\n",
       "[{'id': 13049, 'name': 'Diner', 'short_name': 'Diner', 'plural_name': 'Diners', 'icon': {'prefix': 'https://ss3.4sqi.net/img/categories_v2/food/diner_', 'suffix': '.png'}}, {'id': 13134, 'name': 'Comfort Food Restaurant', 'short_name': 'Comfort Food', 'plural_name': 'Comfort Food Restaurants', 'icon': {'prefix': 'https://ss3.4sqi.net/img/categories_v2/food/default_', 'suffix': '.png'}}]                                                                                                                                                                                                                                                                  1\n",
       "Name: count, Length: 216, dtype: int64"
      ]
     },
     "metadata": {},
     "output_type": "display_data"
    }
   ],
   "source": [
    "df_dropped_columns['categories'].value_counts()"
   ]
  },
  {
   "cell_type": "code",
   "execution_count": null,
   "metadata": {},
   "outputs": [],
   "source": [
    "df_dropped_columns['name_y'].value_counts() # note that name_y is the stations. This is going to be renamed to stations for a clearer understanding.count\n",
    "df_dropped_columns['stations'] = df_dropped_columns['name_y']"
   ]
  },
  {
   "cell_type": "code",
   "execution_count": null,
   "metadata": {},
   "outputs": [
    {
     "data": {
      "text/plain": [
       "stations                              \n",
       "10th & Cambie                             50\n",
       "Cypress & 10th                            50\n",
       "10th & Columbia                           50\n",
       "Dunbar & Broadway                         50\n",
       "Dunsmuir & Beatty                         50\n",
       "                                          ..\n",
       "Brock Commons                             20\n",
       "Trimble & 8th                             19\n",
       "Sasamat & 10th                            16\n",
       "Arbutus & Nanton                          14\n",
       "Stanley Park - Third Beach Parking Lot     6\n",
       "Name: count, Length: 258, dtype: int64"
      ]
     },
     "metadata": {},
     "output_type": "display_data"
    }
   ],
   "source": [
    "df_dropped_columns[['stations']].value_counts()"
   ]
  },
  {
   "cell_type": "code",
   "execution_count": null,
   "metadata": {},
   "outputs": [
    {
     "data": {
      "text/plain": [
       "name_x                         \n",
       "Fitness World                      120\n",
       "Caffe Barney                        50\n",
       "Orangetheory Fitness                50\n",
       "Robert Lee YMCA Pool                49\n",
       "Creekside Park                      49\n",
       "                                  ... \n",
       "IDance Studios                       1\n",
       "Stella Gym                           1\n",
       "Unity Integration Studios            1\n",
       "Devine Fitness & Pilates             1\n",
       "kerrisdale cyclone Taylor arena      1\n",
       "Name: count, Length: 960, dtype: int64"
      ]
     },
     "metadata": {},
     "output_type": "display_data"
    }
   ],
   "source": [
    "df_dropped_columns[['name_x']].value_counts()"
   ]
  },
  {
   "cell_type": "code",
   "execution_count": null,
   "metadata": {},
   "outputs": [
    {
     "data": {
      "text/plain": [
       "fsq_id                  \n",
       "5806abc3d67c62c5c465643d    49\n",
       "5501d248498ec8482e74c7f4    48\n",
       "4d2d106da40da35d3af78e77    47\n",
       "51f58381498ea9240bf344ce    46\n",
       "4d114e17437c236a5d6c8e7d    45\n",
       "                            ..\n",
       "4bc18891920eb71349ef1a2c     1\n",
       "948d7cf7b1a140a63b4eee52     1\n",
       "93f88e578e55429cba8ac936     1\n",
       "542dd7c3498ef8a716fff6d9     1\n",
       "ff1254690f7e47b98456aa08     1\n",
       "Name: count, Length: 1013, dtype: int64"
      ]
     },
     "metadata": {},
     "output_type": "display_data"
    }
   ],
   "source": [
    "df_dropped_columns[['fsq_id']].value_counts()"
   ]
  },
  {
   "cell_type": "code",
   "execution_count": null,
   "metadata": {},
   "outputs": [],
   "source": [
    "df_dropped_columns_sorted = df_dropped_columns.sort_values('categories')"
   ]
  },
  {
   "cell_type": "code",
   "execution_count": null,
   "metadata": {},
   "outputs": [],
   "source": [
    "#sb.scatterplot(x=df_results_all['geocodes.main.longitude'],y=df_results_all['geocodes.main.latitude'],c='b')"
   ]
  },
  {
   "cell_type": "code",
   "execution_count": null,
   "metadata": {},
   "outputs": [],
   "source": [
    "# Convert string representation of lists into actual lists\n",
    "import ast\n",
    "df_dropped_columns_sorted['categories'] = df_dropped_columns_sorted['categories'].apply(ast.literal_eval)"
   ]
  },
  {
   "cell_type": "code",
   "execution_count": null,
   "metadata": {},
   "outputs": [],
   "source": [
    "# Extract category names\n",
    "df_dropped_columns_sorted['category_names'] = df_dropped_columns_sorted['categories'].apply(lambda x: [d['name'] for d in x])"
   ]
  },
  {
   "cell_type": "code",
   "execution_count": null,
   "metadata": {},
   "outputs": [],
   "source": [
    "# view the first 5 rows\n",
    "#df_dropped_columns_sorted.head()"
   ]
  },
  {
   "cell_type": "code",
   "execution_count": null,
   "metadata": {},
   "outputs": [],
   "source": [
    "df_dropped_columns_sorted['cat_names'] = [','.join(map(str, l)) for l in df_dropped_columns_sorted['category_names']]"
   ]
  },
  {
   "cell_type": "code",
   "execution_count": null,
   "metadata": {},
   "outputs": [
    {
     "data": {
      "text/plain": [
       "Unnamed: 0.1                            0\n",
       "fsq_id                                  0\n",
       "categories                              0\n",
       "chains                                  0\n",
       "closed_bucket                           0\n",
       "distance                                0\n",
       "link                                    0\n",
       "name_x                                  0\n",
       "timezone                             1448\n",
       "geocodes.main.latitude                  0\n",
       "geocodes.main.longitude                 0\n",
       "geocodes.roof.latitude               1122\n",
       "geocodes.roof.longitude              1122\n",
       "location.address                     1090\n",
       "location.country                        0\n",
       "location.cross_street                7130\n",
       "location.formatted_address            304\n",
       "location.locality                     385\n",
       "location.postcode                    2861\n",
       "location.region                       304\n",
       "related_places.parent.fsq_id        11047\n",
       "related_places.parent.categories    11047\n",
       "related_places.parent.name          11047\n",
       "geocodes.drop_off.latitude           7582\n",
       "geocodes.drop_off.longitude          7582\n",
       "related_places.children             10897\n",
       "location.address_extended            9911\n",
       "bike_station_index                      0\n",
       "location.po_box                     11472\n",
       "geocodes.front_door.latitude        11452\n",
       "geocodes.front_door.longitude       11452\n",
       "Unnamed: 0                              0\n",
       "id                                      0\n",
       "name_y                                  0\n",
       "latitude                                0\n",
       "longitude                               0\n",
       "timestamp                               0\n",
       "free_bikes                              0\n",
       "empty_slots                             0\n",
       "stations                                0\n",
       "category_names                          0\n",
       "cat_names                               0\n",
       "dtype: int64"
      ]
     },
     "metadata": {},
     "output_type": "display_data"
    }
   ],
   "source": [
    "# df_dropped_columns_sorted.isnull().sum()"
   ]
  },
  {
   "cell_type": "markdown",
   "metadata": {},
   "source": []
  },
  {
   "cell_type": "code",
   "execution_count": 6,
   "metadata": {},
   "outputs": [],
   "source": [
    "# read the saved API data\n",
    "data = pd.read_csv('final_data.csv')"
   ]
  },
  {
   "cell_type": "code",
   "execution_count": null,
   "metadata": {},
   "outputs": [
    {
     "data": {
      "text/html": [
       "<div>\n",
       "<style scoped>\n",
       "    .dataframe tbody tr th:only-of-type {\n",
       "        vertical-align: middle;\n",
       "    }\n",
       "\n",
       "    .dataframe tbody tr th {\n",
       "        vertical-align: top;\n",
       "    }\n",
       "\n",
       "    .dataframe thead th {\n",
       "        text-align: right;\n",
       "    }\n",
       "</style>\n",
       "<table border=\"1\" class=\"dataframe\">\n",
       "  <thead>\n",
       "    <tr style=\"text-align: right;\">\n",
       "      <th></th>\n",
       "      <th>Unnamed: 0.2</th>\n",
       "      <th>Unnamed: 0.1</th>\n",
       "      <th>fsq_id</th>\n",
       "      <th>categories</th>\n",
       "      <th>chains</th>\n",
       "      <th>closed_bucket</th>\n",
       "      <th>distance</th>\n",
       "      <th>link</th>\n",
       "      <th>name_x</th>\n",
       "      <th>timezone</th>\n",
       "      <th>...</th>\n",
       "      <th>name_y</th>\n",
       "      <th>latitude</th>\n",
       "      <th>longitude</th>\n",
       "      <th>timestamp</th>\n",
       "      <th>free_bikes</th>\n",
       "      <th>empty_slots</th>\n",
       "      <th>stations</th>\n",
       "      <th>category_names</th>\n",
       "      <th>cat_names</th>\n",
       "      <th>category_group</th>\n",
       "    </tr>\n",
       "  </thead>\n",
       "  <tbody>\n",
       "    <tr>\n",
       "      <th>0</th>\n",
       "      <td>11501</td>\n",
       "      <td>11501</td>\n",
       "      <td>a1bc6053934e4395a5b80379</td>\n",
       "      <td>[{'id': 10000, 'name': 'Arts and Entertainment...</td>\n",
       "      <td>[]</td>\n",
       "      <td>LikelyOpen</td>\n",
       "      <td>836</td>\n",
       "      <td>/v3/places/a1bc6053934e4395a5b80379</td>\n",
       "      <td>First Dance Vancouver</td>\n",
       "      <td>NaN</td>\n",
       "      <td>...</td>\n",
       "      <td>8th &amp; Prince Edward</td>\n",
       "      <td>49.263518</td>\n",
       "      <td>-123.095680</td>\n",
       "      <td>2025-02-08T08:10:50.530814Z</td>\n",
       "      <td>8</td>\n",
       "      <td>10</td>\n",
       "      <td>8th &amp; Prince Edward</td>\n",
       "      <td>['Arts and Entertainment', 'Dance Studio']</td>\n",
       "      <td>Arts and Entertainment,Dance Studio</td>\n",
       "      <td>recreation</td>\n",
       "    </tr>\n",
       "    <tr>\n",
       "      <th>1</th>\n",
       "      <td>10654</td>\n",
       "      <td>10654</td>\n",
       "      <td>13723319ace94aa3d0ed4bc9</td>\n",
       "      <td>[{'id': 10000, 'name': 'Arts and Entertainment...</td>\n",
       "      <td>[]</td>\n",
       "      <td>Unsure</td>\n",
       "      <td>850</td>\n",
       "      <td>/v3/places/13723319ace94aa3d0ed4bc9</td>\n",
       "      <td>Salsa &amp; Tango Dance Susana Domingues</td>\n",
       "      <td>NaN</td>\n",
       "      <td>...</td>\n",
       "      <td>18th &amp; Cambie</td>\n",
       "      <td>49.254818</td>\n",
       "      <td>-123.114785</td>\n",
       "      <td>2025-02-08T08:10:50.556346Z</td>\n",
       "      <td>6</td>\n",
       "      <td>18</td>\n",
       "      <td>18th &amp; Cambie</td>\n",
       "      <td>['Arts and Entertainment', 'Dance Studio']</td>\n",
       "      <td>Arts and Entertainment,Dance Studio</td>\n",
       "      <td>recreation</td>\n",
       "    </tr>\n",
       "    <tr>\n",
       "      <th>2</th>\n",
       "      <td>494</td>\n",
       "      <td>494</td>\n",
       "      <td>13723319ace94aa3d0ed4bc9</td>\n",
       "      <td>[{'id': 10000, 'name': 'Arts and Entertainment...</td>\n",
       "      <td>[]</td>\n",
       "      <td>Unsure</td>\n",
       "      <td>450</td>\n",
       "      <td>/v3/places/13723319ace94aa3d0ed4bc9</td>\n",
       "      <td>Salsa &amp; Tango Dance Susana Domingues</td>\n",
       "      <td>NaN</td>\n",
       "      <td>...</td>\n",
       "      <td>13th &amp; Cambie</td>\n",
       "      <td>49.259579</td>\n",
       "      <td>-123.114769</td>\n",
       "      <td>2025-02-08T08:10:50.532118Z</td>\n",
       "      <td>5</td>\n",
       "      <td>9</td>\n",
       "      <td>13th &amp; Cambie</td>\n",
       "      <td>['Arts and Entertainment', 'Dance Studio']</td>\n",
       "      <td>Arts and Entertainment,Dance Studio</td>\n",
       "      <td>recreation</td>\n",
       "    </tr>\n",
       "    <tr>\n",
       "      <th>3</th>\n",
       "      <td>6935</td>\n",
       "      <td>6935</td>\n",
       "      <td>4d2621522f77a09011c60cf1</td>\n",
       "      <td>[{'id': 10000, 'name': 'Arts and Entertainment...</td>\n",
       "      <td>[]</td>\n",
       "      <td>LikelyOpen</td>\n",
       "      <td>859</td>\n",
       "      <td>/v3/places/4d2621522f77a09011c60cf1</td>\n",
       "      <td>Night and Day Dance</td>\n",
       "      <td>America/Vancouver</td>\n",
       "      <td>...</td>\n",
       "      <td>Princess &amp; Union</td>\n",
       "      <td>49.277615</td>\n",
       "      <td>-123.091654</td>\n",
       "      <td>2025-02-08T08:10:50.528136Z</td>\n",
       "      <td>8</td>\n",
       "      <td>4</td>\n",
       "      <td>Princess &amp; Union</td>\n",
       "      <td>['Arts and Entertainment', 'Dance Studio']</td>\n",
       "      <td>Arts and Entertainment,Dance Studio</td>\n",
       "      <td>recreation</td>\n",
       "    </tr>\n",
       "    <tr>\n",
       "      <th>4</th>\n",
       "      <td>6848</td>\n",
       "      <td>6848</td>\n",
       "      <td>13723319ace94aa3d0ed4bc9</td>\n",
       "      <td>[{'id': 10000, 'name': 'Arts and Entertainment...</td>\n",
       "      <td>[]</td>\n",
       "      <td>Unsure</td>\n",
       "      <td>863</td>\n",
       "      <td>/v3/places/13723319ace94aa3d0ed4bc9</td>\n",
       "      <td>Salsa &amp; Tango Dance Susana Domingues</td>\n",
       "      <td>NaN</td>\n",
       "      <td>...</td>\n",
       "      <td>Charleson Park</td>\n",
       "      <td>49.267628</td>\n",
       "      <td>-123.127698</td>\n",
       "      <td>2025-02-08T08:10:50.299604Z</td>\n",
       "      <td>10</td>\n",
       "      <td>4</td>\n",
       "      <td>Charleson Park</td>\n",
       "      <td>['Arts and Entertainment', 'Dance Studio']</td>\n",
       "      <td>Arts and Entertainment,Dance Studio</td>\n",
       "      <td>recreation</td>\n",
       "    </tr>\n",
       "  </tbody>\n",
       "</table>\n",
       "<p>5 rows × 44 columns</p>\n",
       "</div>"
      ],
      "text/plain": [
       "   Unnamed: 0.2  Unnamed: 0.1                    fsq_id  \\\n",
       "0         11501         11501  a1bc6053934e4395a5b80379   \n",
       "1         10654         10654  13723319ace94aa3d0ed4bc9   \n",
       "2           494           494  13723319ace94aa3d0ed4bc9   \n",
       "3          6935          6935  4d2621522f77a09011c60cf1   \n",
       "4          6848          6848  13723319ace94aa3d0ed4bc9   \n",
       "\n",
       "                                          categories chains closed_bucket  \\\n",
       "0  [{'id': 10000, 'name': 'Arts and Entertainment...     []    LikelyOpen   \n",
       "1  [{'id': 10000, 'name': 'Arts and Entertainment...     []        Unsure   \n",
       "2  [{'id': 10000, 'name': 'Arts and Entertainment...     []        Unsure   \n",
       "3  [{'id': 10000, 'name': 'Arts and Entertainment...     []    LikelyOpen   \n",
       "4  [{'id': 10000, 'name': 'Arts and Entertainment...     []        Unsure   \n",
       "\n",
       "   distance                                 link  \\\n",
       "0       836  /v3/places/a1bc6053934e4395a5b80379   \n",
       "1       850  /v3/places/13723319ace94aa3d0ed4bc9   \n",
       "2       450  /v3/places/13723319ace94aa3d0ed4bc9   \n",
       "3       859  /v3/places/4d2621522f77a09011c60cf1   \n",
       "4       863  /v3/places/13723319ace94aa3d0ed4bc9   \n",
       "\n",
       "                                 name_x           timezone  ...  \\\n",
       "0                 First Dance Vancouver                NaN  ...   \n",
       "1  Salsa & Tango Dance Susana Domingues                NaN  ...   \n",
       "2  Salsa & Tango Dance Susana Domingues                NaN  ...   \n",
       "3                   Night and Day Dance  America/Vancouver  ...   \n",
       "4  Salsa & Tango Dance Susana Domingues                NaN  ...   \n",
       "\n",
       "                name_y   latitude   longitude                    timestamp  \\\n",
       "0  8th & Prince Edward  49.263518 -123.095680  2025-02-08T08:10:50.530814Z   \n",
       "1        18th & Cambie  49.254818 -123.114785  2025-02-08T08:10:50.556346Z   \n",
       "2        13th & Cambie  49.259579 -123.114769  2025-02-08T08:10:50.532118Z   \n",
       "3     Princess & Union  49.277615 -123.091654  2025-02-08T08:10:50.528136Z   \n",
       "4       Charleson Park  49.267628 -123.127698  2025-02-08T08:10:50.299604Z   \n",
       "\n",
       "  free_bikes empty_slots             stations  \\\n",
       "0          8          10  8th & Prince Edward   \n",
       "1          6          18        18th & Cambie   \n",
       "2          5           9        13th & Cambie   \n",
       "3          8           4     Princess & Union   \n",
       "4         10           4       Charleson Park   \n",
       "\n",
       "                               category_names  \\\n",
       "0  ['Arts and Entertainment', 'Dance Studio']   \n",
       "1  ['Arts and Entertainment', 'Dance Studio']   \n",
       "2  ['Arts and Entertainment', 'Dance Studio']   \n",
       "3  ['Arts and Entertainment', 'Dance Studio']   \n",
       "4  ['Arts and Entertainment', 'Dance Studio']   \n",
       "\n",
       "                             cat_names category_group  \n",
       "0  Arts and Entertainment,Dance Studio     recreation  \n",
       "1  Arts and Entertainment,Dance Studio     recreation  \n",
       "2  Arts and Entertainment,Dance Studio     recreation  \n",
       "3  Arts and Entertainment,Dance Studio     recreation  \n",
       "4  Arts and Entertainment,Dance Studio     recreation  \n",
       "\n",
       "[5 rows x 44 columns]"
      ]
     },
     "metadata": {},
     "output_type": "display_data"
    }
   ],
   "source": [
    "data.head()"
   ]
  },
  {
   "cell_type": "markdown",
   "metadata": {},
   "source": [
    "## Group and Join Data"
   ]
  },
  {
   "cell_type": "code",
   "execution_count": null,
   "metadata": {},
   "outputs": [
    {
     "data": {
      "text/html": [
       "<div>\n",
       "<style scoped>\n",
       "    .dataframe tbody tr th:only-of-type {\n",
       "        vertical-align: middle;\n",
       "    }\n",
       "\n",
       "    .dataframe tbody tr th {\n",
       "        vertical-align: top;\n",
       "    }\n",
       "\n",
       "    .dataframe thead th {\n",
       "        text-align: right;\n",
       "    }\n",
       "</style>\n",
       "<table border=\"1\" class=\"dataframe\">\n",
       "  <thead>\n",
       "    <tr style=\"text-align: right;\">\n",
       "      <th></th>\n",
       "      <th>bike_station_index</th>\n",
       "      <th>distance</th>\n",
       "    </tr>\n",
       "  </thead>\n",
       "  <tbody>\n",
       "    <tr>\n",
       "      <th>0</th>\n",
       "      <td>0</td>\n",
       "      <td>172</td>\n",
       "    </tr>\n",
       "    <tr>\n",
       "      <th>1</th>\n",
       "      <td>1</td>\n",
       "      <td>82</td>\n",
       "    </tr>\n",
       "    <tr>\n",
       "      <th>2</th>\n",
       "      <td>2</td>\n",
       "      <td>90</td>\n",
       "    </tr>\n",
       "    <tr>\n",
       "      <th>3</th>\n",
       "      <td>3</td>\n",
       "      <td>46</td>\n",
       "    </tr>\n",
       "    <tr>\n",
       "      <th>4</th>\n",
       "      <td>4</td>\n",
       "      <td>216</td>\n",
       "    </tr>\n",
       "    <tr>\n",
       "      <th>...</th>\n",
       "      <td>...</td>\n",
       "      <td>...</td>\n",
       "    </tr>\n",
       "    <tr>\n",
       "      <th>253</th>\n",
       "      <td>253</td>\n",
       "      <td>171</td>\n",
       "    </tr>\n",
       "    <tr>\n",
       "      <th>254</th>\n",
       "      <td>254</td>\n",
       "      <td>108</td>\n",
       "    </tr>\n",
       "    <tr>\n",
       "      <th>255</th>\n",
       "      <td>255</td>\n",
       "      <td>119</td>\n",
       "    </tr>\n",
       "    <tr>\n",
       "      <th>256</th>\n",
       "      <td>256</td>\n",
       "      <td>106</td>\n",
       "    </tr>\n",
       "    <tr>\n",
       "      <th>257</th>\n",
       "      <td>257</td>\n",
       "      <td>72</td>\n",
       "    </tr>\n",
       "  </tbody>\n",
       "</table>\n",
       "<p>258 rows × 2 columns</p>\n",
       "</div>"
      ],
      "text/plain": [
       "     bike_station_index  distance\n",
       "0                     0       172\n",
       "1                     1        82\n",
       "2                     2        90\n",
       "3                     3        46\n",
       "4                     4       216\n",
       "..                  ...       ...\n",
       "253                 253       171\n",
       "254                 254       108\n",
       "255                 255       119\n",
       "256                 256       106\n",
       "257                 257        72\n",
       "\n",
       "[258 rows x 2 columns]"
      ]
     },
     "metadata": {},
     "output_type": "display_data"
    }
   ],
   "source": [
    "# group by stations with min distance\n",
    "data.groupby('bike_station_index',as_index=False)['distance'].min()"
   ]
  },
  {
   "cell_type": "code",
   "execution_count": null,
   "metadata": {},
   "outputs": [
    {
     "data": {
      "text/html": [
       "<div>\n",
       "<style scoped>\n",
       "    .dataframe tbody tr th:only-of-type {\n",
       "        vertical-align: middle;\n",
       "    }\n",
       "\n",
       "    .dataframe tbody tr th {\n",
       "        vertical-align: top;\n",
       "    }\n",
       "\n",
       "    .dataframe thead th {\n",
       "        text-align: right;\n",
       "    }\n",
       "</style>\n",
       "<table border=\"1\" class=\"dataframe\">\n",
       "  <thead>\n",
       "    <tr style=\"text-align: right;\">\n",
       "      <th></th>\n",
       "      <th>bike_station_index</th>\n",
       "      <th>fsq_id</th>\n",
       "    </tr>\n",
       "  </thead>\n",
       "  <tbody>\n",
       "    <tr>\n",
       "      <th>0</th>\n",
       "      <td>0</td>\n",
       "      <td>50</td>\n",
       "    </tr>\n",
       "    <tr>\n",
       "      <th>1</th>\n",
       "      <td>1</td>\n",
       "      <td>45</td>\n",
       "    </tr>\n",
       "    <tr>\n",
       "      <th>2</th>\n",
       "      <td>2</td>\n",
       "      <td>50</td>\n",
       "    </tr>\n",
       "    <tr>\n",
       "      <th>3</th>\n",
       "      <td>3</td>\n",
       "      <td>47</td>\n",
       "    </tr>\n",
       "    <tr>\n",
       "      <th>4</th>\n",
       "      <td>4</td>\n",
       "      <td>48</td>\n",
       "    </tr>\n",
       "    <tr>\n",
       "      <th>...</th>\n",
       "      <td>...</td>\n",
       "      <td>...</td>\n",
       "    </tr>\n",
       "    <tr>\n",
       "      <th>253</th>\n",
       "      <td>253</td>\n",
       "      <td>47</td>\n",
       "    </tr>\n",
       "    <tr>\n",
       "      <th>254</th>\n",
       "      <td>254</td>\n",
       "      <td>46</td>\n",
       "    </tr>\n",
       "    <tr>\n",
       "      <th>255</th>\n",
       "      <td>255</td>\n",
       "      <td>50</td>\n",
       "    </tr>\n",
       "    <tr>\n",
       "      <th>256</th>\n",
       "      <td>256</td>\n",
       "      <td>50</td>\n",
       "    </tr>\n",
       "    <tr>\n",
       "      <th>257</th>\n",
       "      <td>257</td>\n",
       "      <td>50</td>\n",
       "    </tr>\n",
       "  </tbody>\n",
       "</table>\n",
       "<p>258 rows × 2 columns</p>\n",
       "</div>"
      ],
      "text/plain": [
       "     bike_station_index  fsq_id\n",
       "0                     0      50\n",
       "1                     1      45\n",
       "2                     2      50\n",
       "3                     3      47\n",
       "4                     4      48\n",
       "..                  ...     ...\n",
       "253                 253      47\n",
       "254                 254      46\n",
       "255                 255      50\n",
       "256                 256      50\n",
       "257                 257      50\n",
       "\n",
       "[258 rows x 2 columns]"
      ]
     },
     "metadata": {},
     "output_type": "display_data"
    }
   ],
   "source": [
    "# group with count of fsq_id\n",
    "data.groupby('bike_station_index',as_index=False)['fsq_id'].count()\n"
   ]
  },
  {
   "cell_type": "code",
   "execution_count": null,
   "metadata": {},
   "outputs": [],
   "source": [
    "#df_grouped = data.groupby(['bike_station_index', 'category_group'], as_index=True).agg({'distance': 'min', 'fsq_id': 'count'})\n",
    "#df_grouped"
   ]
  },
  {
   "cell_type": "code",
   "execution_count": null,
   "metadata": {},
   "outputs": [],
   "source": [
    "# combined groupby\n",
    "df_grouped = data.groupby('bike_station_index', as_index=True).agg({'distance': 'min', 'fsq_id': 'count'})"
   ]
  },
  {
   "cell_type": "code",
   "execution_count": null,
   "metadata": {},
   "outputs": [
    {
     "data": {
      "text/html": [
       "<div>\n",
       "<style scoped>\n",
       "    .dataframe tbody tr th:only-of-type {\n",
       "        vertical-align: middle;\n",
       "    }\n",
       "\n",
       "    .dataframe tbody tr th {\n",
       "        vertical-align: top;\n",
       "    }\n",
       "\n",
       "    .dataframe thead th {\n",
       "        text-align: right;\n",
       "    }\n",
       "</style>\n",
       "<table border=\"1\" class=\"dataframe\">\n",
       "  <thead>\n",
       "    <tr style=\"text-align: right;\">\n",
       "      <th></th>\n",
       "      <th>bike_station_index</th>\n",
       "      <th>distance</th>\n",
       "      <th>fsq_id</th>\n",
       "      <th>Unnamed: 0</th>\n",
       "      <th>id</th>\n",
       "      <th>name</th>\n",
       "      <th>latitude</th>\n",
       "      <th>longitude</th>\n",
       "      <th>timestamp</th>\n",
       "      <th>free_bikes</th>\n",
       "      <th>empty_slots</th>\n",
       "      <th>extra.uid</th>\n",
       "      <th>extra.renting</th>\n",
       "      <th>extra.returning</th>\n",
       "      <th>extra.last_updated</th>\n",
       "      <th>extra.slots</th>\n",
       "      <th>extra.normal_bikes</th>\n",
       "      <th>extra.ebikes</th>\n",
       "      <th>extra.has_ebikes</th>\n",
       "    </tr>\n",
       "  </thead>\n",
       "  <tbody>\n",
       "    <tr>\n",
       "      <th>0</th>\n",
       "      <td>0</td>\n",
       "      <td>172</td>\n",
       "      <td>50</td>\n",
       "      <td>0</td>\n",
       "      <td>00fa94ad698dc4a9e4d708d6fd32f294</td>\n",
       "      <td>Chilco &amp; Barclay</td>\n",
       "      <td>49.291909</td>\n",
       "      <td>-123.140713</td>\n",
       "      <td>2025-02-08T08:10:50.124152Z</td>\n",
       "      <td>17</td>\n",
       "      <td>0</td>\n",
       "      <td>92</td>\n",
       "      <td>True</td>\n",
       "      <td>True</td>\n",
       "      <td>1739002136</td>\n",
       "      <td>18</td>\n",
       "      <td>15</td>\n",
       "      <td>2</td>\n",
       "      <td>True</td>\n",
       "    </tr>\n",
       "    <tr>\n",
       "      <th>1</th>\n",
       "      <td>1</td>\n",
       "      <td>82</td>\n",
       "      <td>45</td>\n",
       "      <td>1</td>\n",
       "      <td>012d3e06901cc222b1c2cf0a2ace3a29</td>\n",
       "      <td>St George &amp; Broadway</td>\n",
       "      <td>49.262321</td>\n",
       "      <td>-123.093060</td>\n",
       "      <td>2025-02-08T08:10:50.529626Z</td>\n",
       "      <td>6</td>\n",
       "      <td>8</td>\n",
       "      <td>248</td>\n",
       "      <td>True</td>\n",
       "      <td>True</td>\n",
       "      <td>1739002022</td>\n",
       "      <td>14</td>\n",
       "      <td>5</td>\n",
       "      <td>1</td>\n",
       "      <td>True</td>\n",
       "    </tr>\n",
       "    <tr>\n",
       "      <th>2</th>\n",
       "      <td>2</td>\n",
       "      <td>90</td>\n",
       "      <td>50</td>\n",
       "      <td>2</td>\n",
       "      <td>029a505bd4422a1afd127987757f71a6</td>\n",
       "      <td>Britannia Parking Lot</td>\n",
       "      <td>49.275882</td>\n",
       "      <td>-123.071865</td>\n",
       "      <td>2025-02-08T08:10:50.528937Z</td>\n",
       "      <td>2</td>\n",
       "      <td>12</td>\n",
       "      <td>232</td>\n",
       "      <td>True</td>\n",
       "      <td>True</td>\n",
       "      <td>1739001589</td>\n",
       "      <td>14</td>\n",
       "      <td>2</td>\n",
       "      <td>0</td>\n",
       "      <td>True</td>\n",
       "    </tr>\n",
       "    <tr>\n",
       "      <th>3</th>\n",
       "      <td>3</td>\n",
       "      <td>46</td>\n",
       "      <td>47</td>\n",
       "      <td>3</td>\n",
       "      <td>0438114d2e6b96118de69bc9775bb21e</td>\n",
       "      <td>Morton &amp; Denman</td>\n",
       "      <td>49.288030</td>\n",
       "      <td>-123.142135</td>\n",
       "      <td>2025-02-08T08:10:50.093341Z</td>\n",
       "      <td>12</td>\n",
       "      <td>14</td>\n",
       "      <td>31</td>\n",
       "      <td>True</td>\n",
       "      <td>True</td>\n",
       "      <td>1739001853</td>\n",
       "      <td>26</td>\n",
       "      <td>6</td>\n",
       "      <td>6</td>\n",
       "      <td>True</td>\n",
       "    </tr>\n",
       "    <tr>\n",
       "      <th>4</th>\n",
       "      <td>4</td>\n",
       "      <td>216</td>\n",
       "      <td>48</td>\n",
       "      <td>4</td>\n",
       "      <td>0459b7e93703980b853cd65a9dc60596</td>\n",
       "      <td>Thornton &amp; National</td>\n",
       "      <td>49.273777</td>\n",
       "      <td>-123.092723</td>\n",
       "      <td>2025-02-08T08:10:50.528973Z</td>\n",
       "      <td>4</td>\n",
       "      <td>10</td>\n",
       "      <td>233</td>\n",
       "      <td>True</td>\n",
       "      <td>True</td>\n",
       "      <td>1739001524</td>\n",
       "      <td>14</td>\n",
       "      <td>4</td>\n",
       "      <td>0</td>\n",
       "      <td>True</td>\n",
       "    </tr>\n",
       "    <tr>\n",
       "      <th>...</th>\n",
       "      <td>...</td>\n",
       "      <td>...</td>\n",
       "      <td>...</td>\n",
       "      <td>...</td>\n",
       "      <td>...</td>\n",
       "      <td>...</td>\n",
       "      <td>...</td>\n",
       "      <td>...</td>\n",
       "      <td>...</td>\n",
       "      <td>...</td>\n",
       "      <td>...</td>\n",
       "      <td>...</td>\n",
       "      <td>...</td>\n",
       "      <td>...</td>\n",
       "      <td>...</td>\n",
       "      <td>...</td>\n",
       "      <td>...</td>\n",
       "      <td>...</td>\n",
       "      <td>...</td>\n",
       "    </tr>\n",
       "    <tr>\n",
       "      <th>253</th>\n",
       "      <td>253</td>\n",
       "      <td>171</td>\n",
       "      <td>47</td>\n",
       "      <td>253</td>\n",
       "      <td>fbb4c06b719596c21f91fd51ef6d4710</td>\n",
       "      <td>7th &amp; Heather</td>\n",
       "      <td>49.265089</td>\n",
       "      <td>-123.119425</td>\n",
       "      <td>2025-02-08T08:10:50.123858Z</td>\n",
       "      <td>12</td>\n",
       "      <td>6</td>\n",
       "      <td>81</td>\n",
       "      <td>True</td>\n",
       "      <td>True</td>\n",
       "      <td>1739002135</td>\n",
       "      <td>18</td>\n",
       "      <td>11</td>\n",
       "      <td>1</td>\n",
       "      <td>True</td>\n",
       "    </tr>\n",
       "    <tr>\n",
       "      <th>254</th>\n",
       "      <td>254</td>\n",
       "      <td>108</td>\n",
       "      <td>46</td>\n",
       "      <td>254</td>\n",
       "      <td>fe0c57d04d6e682d284d501446095fc9</td>\n",
       "      <td>Union &amp; Dunlevy</td>\n",
       "      <td>49.277595</td>\n",
       "      <td>-123.095830</td>\n",
       "      <td>2025-02-08T08:10:50.528015Z</td>\n",
       "      <td>5</td>\n",
       "      <td>11</td>\n",
       "      <td>212</td>\n",
       "      <td>True</td>\n",
       "      <td>True</td>\n",
       "      <td>1739002135</td>\n",
       "      <td>16</td>\n",
       "      <td>5</td>\n",
       "      <td>0</td>\n",
       "      <td>True</td>\n",
       "    </tr>\n",
       "    <tr>\n",
       "      <th>255</th>\n",
       "      <td>255</td>\n",
       "      <td>119</td>\n",
       "      <td>50</td>\n",
       "      <td>255</td>\n",
       "      <td>fedff7a263c182df94bda7307059cc52</td>\n",
       "      <td>Richards &amp; Helmcken</td>\n",
       "      <td>49.277141</td>\n",
       "      <td>-123.122589</td>\n",
       "      <td>2025-02-08T08:10:50.299192Z</td>\n",
       "      <td>0</td>\n",
       "      <td>18</td>\n",
       "      <td>138</td>\n",
       "      <td>True</td>\n",
       "      <td>True</td>\n",
       "      <td>1739001816</td>\n",
       "      <td>18</td>\n",
       "      <td>0</td>\n",
       "      <td>0</td>\n",
       "      <td>True</td>\n",
       "    </tr>\n",
       "    <tr>\n",
       "      <th>256</th>\n",
       "      <td>256</td>\n",
       "      <td>106</td>\n",
       "      <td>50</td>\n",
       "      <td>256</td>\n",
       "      <td>fef69fb400210d861107a61db954d037</td>\n",
       "      <td>Keefer &amp; Abbott</td>\n",
       "      <td>49.279821</td>\n",
       "      <td>-123.108020</td>\n",
       "      <td>2025-02-08T08:10:50.122810Z</td>\n",
       "      <td>15</td>\n",
       "      <td>13</td>\n",
       "      <td>53</td>\n",
       "      <td>True</td>\n",
       "      <td>True</td>\n",
       "      <td>1739001000</td>\n",
       "      <td>28</td>\n",
       "      <td>15</td>\n",
       "      <td>0</td>\n",
       "      <td>True</td>\n",
       "    </tr>\n",
       "    <tr>\n",
       "      <th>257</th>\n",
       "      <td>257</td>\n",
       "      <td>72</td>\n",
       "      <td>50</td>\n",
       "      <td>257</td>\n",
       "      <td>fffd87607aaae16fbb1f71615cbe7d17</td>\n",
       "      <td>8th &amp; Prince Edward</td>\n",
       "      <td>49.263518</td>\n",
       "      <td>-123.095680</td>\n",
       "      <td>2025-02-08T08:10:50.530814Z</td>\n",
       "      <td>8</td>\n",
       "      <td>10</td>\n",
       "      <td>262</td>\n",
       "      <td>True</td>\n",
       "      <td>True</td>\n",
       "      <td>1739001737</td>\n",
       "      <td>18</td>\n",
       "      <td>7</td>\n",
       "      <td>1</td>\n",
       "      <td>True</td>\n",
       "    </tr>\n",
       "  </tbody>\n",
       "</table>\n",
       "<p>258 rows × 19 columns</p>\n",
       "</div>"
      ],
      "text/plain": [
       "     bike_station_index  distance  fsq_id  Unnamed: 0  \\\n",
       "0                     0       172      50           0   \n",
       "1                     1        82      45           1   \n",
       "2                     2        90      50           2   \n",
       "3                     3        46      47           3   \n",
       "4                     4       216      48           4   \n",
       "..                  ...       ...     ...         ...   \n",
       "253                 253       171      47         253   \n",
       "254                 254       108      46         254   \n",
       "255                 255       119      50         255   \n",
       "256                 256       106      50         256   \n",
       "257                 257        72      50         257   \n",
       "\n",
       "                                   id                   name   latitude  \\\n",
       "0    00fa94ad698dc4a9e4d708d6fd32f294       Chilco & Barclay  49.291909   \n",
       "1    012d3e06901cc222b1c2cf0a2ace3a29   St George & Broadway  49.262321   \n",
       "2    029a505bd4422a1afd127987757f71a6  Britannia Parking Lot  49.275882   \n",
       "3    0438114d2e6b96118de69bc9775bb21e        Morton & Denman  49.288030   \n",
       "4    0459b7e93703980b853cd65a9dc60596    Thornton & National  49.273777   \n",
       "..                                ...                    ...        ...   \n",
       "253  fbb4c06b719596c21f91fd51ef6d4710          7th & Heather  49.265089   \n",
       "254  fe0c57d04d6e682d284d501446095fc9        Union & Dunlevy  49.277595   \n",
       "255  fedff7a263c182df94bda7307059cc52    Richards & Helmcken  49.277141   \n",
       "256  fef69fb400210d861107a61db954d037        Keefer & Abbott  49.279821   \n",
       "257  fffd87607aaae16fbb1f71615cbe7d17    8th & Prince Edward  49.263518   \n",
       "\n",
       "      longitude                    timestamp  free_bikes  empty_slots  \\\n",
       "0   -123.140713  2025-02-08T08:10:50.124152Z          17            0   \n",
       "1   -123.093060  2025-02-08T08:10:50.529626Z           6            8   \n",
       "2   -123.071865  2025-02-08T08:10:50.528937Z           2           12   \n",
       "3   -123.142135  2025-02-08T08:10:50.093341Z          12           14   \n",
       "4   -123.092723  2025-02-08T08:10:50.528973Z           4           10   \n",
       "..          ...                          ...         ...          ...   \n",
       "253 -123.119425  2025-02-08T08:10:50.123858Z          12            6   \n",
       "254 -123.095830  2025-02-08T08:10:50.528015Z           5           11   \n",
       "255 -123.122589  2025-02-08T08:10:50.299192Z           0           18   \n",
       "256 -123.108020  2025-02-08T08:10:50.122810Z          15           13   \n",
       "257 -123.095680  2025-02-08T08:10:50.530814Z           8           10   \n",
       "\n",
       "     extra.uid  extra.renting  extra.returning  extra.last_updated  \\\n",
       "0           92           True             True          1739002136   \n",
       "1          248           True             True          1739002022   \n",
       "2          232           True             True          1739001589   \n",
       "3           31           True             True          1739001853   \n",
       "4          233           True             True          1739001524   \n",
       "..         ...            ...              ...                 ...   \n",
       "253         81           True             True          1739002135   \n",
       "254        212           True             True          1739002135   \n",
       "255        138           True             True          1739001816   \n",
       "256         53           True             True          1739001000   \n",
       "257        262           True             True          1739001737   \n",
       "\n",
       "     extra.slots  extra.normal_bikes  extra.ebikes  extra.has_ebikes  \n",
       "0             18                  15             2              True  \n",
       "1             14                   5             1              True  \n",
       "2             14                   2             0              True  \n",
       "3             26                   6             6              True  \n",
       "4             14                   4             0              True  \n",
       "..           ...                 ...           ...               ...  \n",
       "253           18                  11             1              True  \n",
       "254           16                   5             0              True  \n",
       "255           18                   0             0              True  \n",
       "256           28                  15             0              True  \n",
       "257           18                   7             1              True  \n",
       "\n",
       "[258 rows x 19 columns]"
      ]
     },
     "metadata": {},
     "output_type": "display_data"
    }
   ],
   "source": [
    "# join the data \n",
    "df_merged = pd.merge(df_grouped,df_city_bikes,left_on='bike_station_index',right_on=df_city_bikes.index)\n",
    "df_merged"
   ]
  },
  {
   "cell_type": "markdown",
   "metadata": {},
   "source": [
    "Provide a visualization that you used as part of your EDA process. Explain the initial pattern or relationship you discoved through this visualization. "
   ]
  },
  {
   "cell_type": "code",
   "execution_count": null,
   "metadata": {},
   "outputs": [],
   "source": []
  },
  {
   "cell_type": "markdown",
   "metadata": {},
   "source": [
    "# Database"
   ]
  },
  {
   "cell_type": "markdown",
   "metadata": {},
   "source": [
    "Put all your results in an SQLite3 database (remember, SQLite stores its databases as files in your local machine - make sure to create your database in your project's data/ directory!)"
   ]
  },
  {
   "cell_type": "code",
   "execution_count": 2,
   "metadata": {},
   "outputs": [],
   "source": [
    "import sqlite3\n",
    "from sqlite3 import Error\n",
    "\n",
    "def create_connection(path):\n",
    "    connection = None\n",
    "    try:\n",
    "        connection = sqlite3.connect(path)\n",
    "        print(\"Connection to SQLite DB successful\")\n",
    "    except Error as e:\n",
    "        print(f\"The error '{e}' occurred\")\n",
    "\n",
    "    return connection"
   ]
  },
  {
   "cell_type": "markdown",
   "metadata": {},
   "source": [
    "Look at the data before and after the join to validate your data."
   ]
  },
  {
   "cell_type": "code",
   "execution_count": 7,
   "metadata": {},
   "outputs": [
    {
     "name": "stdout",
     "output_type": "stream",
     "text": [
      "Connection to SQLite DB successful\n"
     ]
    }
   ],
   "source": [
    "connection = create_connection(\"sm_app.sqlite\")"
   ]
  },
  {
   "cell_type": "code",
   "execution_count": 15,
   "metadata": {},
   "outputs": [],
   "source": [
    "def execute_query(connection, query):\n",
    "    cursor = connection.cursor()\n",
    "    try:\n",
    "        cursor.execute(query)\n",
    "        connection.commit()\n",
    "        print(\"Query executed successfully\")\n",
    "    except Error as e:\n",
    "        print(f\"The error '{e}' occurred\")"
   ]
  },
  {
   "cell_type": "code",
   "execution_count": 20,
   "metadata": {},
   "outputs": [],
   "source": [
    "create_stations_table = \"\"\"\n",
    "CREATE TABLE IF NOT EXISTS stations (\n",
    "  bike_station_index INTEGER PRIMARY KEY AUTOINCREMENT,\n",
    "  fsq_id INTEGER,\n",
    "  name TEXT,\n",
    "  free_bikes INTEGER,\n",
    "  empty_slots INTEGER,\n",
    "  latitude INTEGER,\n",
    "  longitude INTEGER\n",
    ");\n",
    "\"\"\"\n"
   ]
  },
  {
   "cell_type": "code",
   "execution_count": 25,
   "metadata": {},
   "outputs": [],
   "source": [
    "create_geodistance_table = \"\"\"\n",
    "CREATE TABLE IF NOT EXISTS geo_distance (\n",
    "  id INTEGER PRIMARY KEY AUTOINCREMENT,\n",
    "  bike_station_index INTEGER,\n",
    "  latitude INTEGER,\n",
    "  longitude INTEGER,\n",
    "  FOREIGN KEY (bike_station_index) REFERENCES stations (bike_station_index)\n",
    "  );\n",
    "\"\"\"\n"
   ]
  },
  {
   "cell_type": "code",
   "execution_count": 22,
   "metadata": {},
   "outputs": [
    {
     "name": "stdout",
     "output_type": "stream",
     "text": [
      "Query executed successfully\n"
     ]
    }
   ],
   "source": [
    "execute_query(connection, create_stations_table)"
   ]
  },
  {
   "cell_type": "code",
   "execution_count": 26,
   "metadata": {},
   "outputs": [
    {
     "name": "stdout",
     "output_type": "stream",
     "text": [
      "Query executed successfully\n"
     ]
    }
   ],
   "source": [
    "execute_query(connection, create_geodistance_table)"
   ]
  }
 ],
 "metadata": {
  "kernelspec": {
   "display_name": "base",
   "language": "python",
   "name": "python3"
  },
  "language_info": {
   "codemirror_mode": {
    "name": "ipython",
    "version": 3
   },
   "file_extension": ".py",
   "mimetype": "text/x-python",
   "name": "python",
   "nbconvert_exporter": "python",
   "pygments_lexer": "ipython3",
   "version": "3.12.7"
  }
 },
 "nbformat": 4,
 "nbformat_minor": 4
}
